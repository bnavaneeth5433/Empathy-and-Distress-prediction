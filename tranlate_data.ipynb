{
 "cells": [
  {
   "cell_type": "code",
   "execution_count": 1,
   "id": "0d95be90-039f-4918-b34c-b6071e9c5eea",
   "metadata": {},
   "outputs": [],
   "source": [
    "import pandas as pd\n",
    "train_data = pd.read_csv('./data/messages_dev_features_ready_for_WS_2022.tsv', sep='\\t')"
   ]
  },
  {
   "cell_type": "code",
   "execution_count": 2,
   "id": "723eff36-a85d-4974-aabb-7954325e9f90",
   "metadata": {},
   "outputs": [
    {
     "name": "stderr",
     "output_type": "stream",
     "text": [
      "Translating essays:   0%|          | 0/270 [00:00<?, ?it/s]/tmp/ipykernel_2944374/4062695043.py:9: SettingWithCopyWarning: \n",
      "A value is trying to be set on a copy of a slice from a DataFrame\n",
      "\n",
      "See the caveats in the documentation: https://pandas.pydata.org/pandas-docs/stable/user_guide/indexing.html#returning-a-view-versus-a-copy\n",
      "  df_hin['essay'][x] = GoogleTranslator(source='en', target='hi').translate(df_hin['essay'][x])\n",
      "Translating essays: 100%|██████████| 270/270 [02:14<00:00,  2.00it/s]\n"
     ]
    }
   ],
   "source": [
    "from deep_translator import GoogleTranslator\n",
    "\n",
    "from tqdm import tqdm\n",
    "\n",
    "df_hin = train_data.copy()\n",
    "\n",
    "for x in tqdm(df_hin.index, desc=\"Translating essays\"): \n",
    "    try:\n",
    "        df_hin['essay'][x] = GoogleTranslator(source='en', target='hi').translate(df_hin['essay'][x])\n",
    "    except Exception as e:\n",
    "        df_hin['essay'][x] = \"None\"\n",
    "df_hin = df_hin.dropna()\n",
    "df_hin.to_csv(\"t_data/test_data_hi.tsv\", sep=\"\\t\", index=False)"
   ]
  },
  {
   "cell_type": "code",
   "execution_count": 3,
   "id": "812b2aea-755e-4963-bb44-1f212d118423",
   "metadata": {},
   "outputs": [
    {
     "name": "stderr",
     "output_type": "stream",
     "text": [
      "Translating essays:   0%|          | 0/270 [00:00<?, ?it/s]/tmp/ipykernel_2944374/259868898.py:5: SettingWithCopyWarning: \n",
      "A value is trying to be set on a copy of a slice from a DataFrame\n",
      "\n",
      "See the caveats in the documentation: https://pandas.pydata.org/pandas-docs/stable/user_guide/indexing.html#returning-a-view-versus-a-copy\n",
      "  df_tel['essay'][x] = GoogleTranslator(source='en', target='te').translate(df_tel['essay'][x])\n",
      "Translating essays: 100%|██████████| 270/270 [01:52<00:00,  2.40it/s]\n"
     ]
    }
   ],
   "source": [
    "df_tel = train_data.copy()\n",
    "\n",
    "for x in tqdm(df_tel.index, desc=\"Translating essays\"):\n",
    "  try:\n",
    "    df_tel['essay'][x] = GoogleTranslator(source='en', target='te').translate(df_tel['essay'][x])\n",
    "  except Exception as e:\n",
    "    df_tel['essay'][x] = \"None\"\n",
    "df_tel = df_tel.dropna()\n",
    "df_tel.to_csv(\"t_data/test_data_tel.tsv\", sep=\"\\t\", index=False)"
   ]
  },
  {
   "cell_type": "code",
   "execution_count": 4,
   "id": "2e9917dd-2600-4340-95c7-cb36f9dfb336",
   "metadata": {},
   "outputs": [
    {
     "name": "stderr",
     "output_type": "stream",
     "text": [
      "Translating essays:   0%|          | 0/270 [00:00<?, ?it/s]/tmp/ipykernel_2944374/3441992469.py:5: SettingWithCopyWarning: \n",
      "A value is trying to be set on a copy of a slice from a DataFrame\n",
      "\n",
      "See the caveats in the documentation: https://pandas.pydata.org/pandas-docs/stable/user_guide/indexing.html#returning-a-view-versus-a-copy\n",
      "  df_nel['essay'][x] = GoogleTranslator(source='en', target='ne').translate(df_nel['essay'][x])\n",
      "Translating essays: 100%|██████████| 270/270 [02:45<00:00,  1.63it/s]\n"
     ]
    }
   ],
   "source": [
    "df_nel = train_data.copy()\n",
    "\n",
    "for x in tqdm(df_nel.index, desc=\"Translating essays\"):\n",
    "  try:\n",
    "    df_nel['essay'][x] = GoogleTranslator(source='en', target='ne').translate(df_nel['essay'][x])\n",
    "  except Exception as e:\n",
    "    df_nel['essay'][x] = \"None\"\n",
    "df_nel = df_nel.dropna()\n",
    "df_nel.to_csv(\"t_data/test_data_nel.tsv\", sep=\"\\t\", index=False)"
   ]
  },
  {
   "cell_type": "code",
   "execution_count": 5,
   "id": "14af9f65-d6cb-4206-9dc5-2e603b9e5046",
   "metadata": {},
   "outputs": [
    {
     "name": "stderr",
     "output_type": "stream",
     "text": [
      "Translating essays:   0%|          | 0/270 [00:00<?, ?it/s]/tmp/ipykernel_2944374/250162407.py:5: SettingWithCopyWarning: \n",
      "A value is trying to be set on a copy of a slice from a DataFrame\n",
      "\n",
      "See the caveats in the documentation: https://pandas.pydata.org/pandas-docs/stable/user_guide/indexing.html#returning-a-view-versus-a-copy\n",
      "  df_bn['essay'][x] = GoogleTranslator(source='en', target='bn').translate(df_bn['essay'][x])\n",
      "Translating essays: 100%|██████████| 270/270 [02:43<00:00,  1.65it/s]\n"
     ]
    }
   ],
   "source": [
    "df_bn = train_data.copy()\n",
    "\n",
    "for x in tqdm(df_bn.index, desc=\"Translating essays\"):\n",
    "  try:\n",
    "    df_bn['essay'][x] = GoogleTranslator(source='en', target='bn').translate(df_bn['essay'][x])\n",
    "  except Exception as e:\n",
    "    df_bn['essay'][x] = \"None\"\n",
    "df_bn = df_bn.dropna()\n",
    "df_bn.to_csv(\"t_data/test_data_bn.tsv\", sep=\"\\t\", index=False)"
   ]
  },
  {
   "cell_type": "code",
   "execution_count": 6,
   "id": "9ea408ac-b5f4-4d1f-b24b-5dcfbad75c8c",
   "metadata": {},
   "outputs": [
    {
     "name": "stderr",
     "output_type": "stream",
     "text": [
      "Translating essays:   0%|          | 0/270 [00:00<?, ?it/s]/tmp/ipykernel_2944374/3768558885.py:8: SettingWithCopyWarning: \n",
      "A value is trying to be set on a copy of a slice from a DataFrame\n",
      "\n",
      "See the caveats in the documentation: https://pandas.pydata.org/pandas-docs/stable/user_guide/indexing.html#returning-a-view-versus-a-copy\n",
      "  df_el['essay'][x] = GoogleTranslator(source='en', target='el').translate(df_el['essay'][x])\n",
      "Translating essays: 100%|██████████| 270/270 [03:47<00:00,  1.18it/s]\n"
     ]
    }
   ],
   "source": [
    "from deep_translator import GoogleTranslator\n",
    "from tqdm import tqdm\n",
    "\n",
    "df_el = train_data.copy()\n",
    "\n",
    "for x in tqdm(df_el.index, desc=\"Translating essays\"):\n",
    "  try:\n",
    "    df_el['essay'][x] = GoogleTranslator(source='en', target='el').translate(df_el['essay'][x])\n",
    "  except Exception as e:\n",
    "    df_el['essay'][x] = \"None\"\n",
    "df_el = df_el.dropna()\n",
    "df_el.to_csv(\"t_data/test_data_el.tsv\", sep=\"\\t\", index=False)"
   ]
  },
  {
   "cell_type": "code",
   "execution_count": 7,
   "id": "67696783-df74-46cd-a0e9-5accd94739cb",
   "metadata": {},
   "outputs": [
    {
     "name": "stderr",
     "output_type": "stream",
     "text": [
      "Translating essays:   0%|          | 0/270 [00:00<?, ?it/s]/tmp/ipykernel_2944374/166264576.py:5: SettingWithCopyWarning: \n",
      "A value is trying to be set on a copy of a slice from a DataFrame\n",
      "\n",
      "See the caveats in the documentation: https://pandas.pydata.org/pandas-docs/stable/user_guide/indexing.html#returning-a-view-versus-a-copy\n",
      "  df_de['essay'][x] = GoogleTranslator(source='en', target='de').translate(df_de['essay'][x])\n",
      "Translating essays: 100%|██████████| 270/270 [03:18<00:00,  1.36it/s]\n"
     ]
    }
   ],
   "source": [
    "df_de = train_data.copy()\n",
    "\n",
    "for x in tqdm(df_de.index, desc=\"Translating essays\"):\n",
    "  try:\n",
    "    df_de['essay'][x] = GoogleTranslator(source='en', target='de').translate(df_de['essay'][x])\n",
    "  except Exception as e:\n",
    "    df_de['essay'][x] = \"None\"\n",
    "df_de = df_de.dropna()\n",
    "df_de.to_csv(\"t_data/test_data_de.tsv\", sep=\"\\t\", index=False)"
   ]
  },
  {
   "cell_type": "code",
   "execution_count": 8,
   "id": "87f8aefb-c263-436e-968c-34a63f95e5cd",
   "metadata": {},
   "outputs": [
    {
     "name": "stderr",
     "output_type": "stream",
     "text": [
      "Translating essays:   0%|          | 0/270 [00:00<?, ?it/s]/tmp/ipykernel_2944374/4252348436.py:5: SettingWithCopyWarning: \n",
      "A value is trying to be set on a copy of a slice from a DataFrame\n",
      "\n",
      "See the caveats in the documentation: https://pandas.pydata.org/pandas-docs/stable/user_guide/indexing.html#returning-a-view-versus-a-copy\n",
      "  df_sw['essay'][x] = GoogleTranslator(source='en', target='sw').translate(df_sw['essay'][x])\n",
      "Translating essays: 100%|██████████| 270/270 [04:51<00:00,  1.08s/it]\n"
     ]
    }
   ],
   "source": [
    "df_sw = train_data.copy()\n",
    "\n",
    "for x in tqdm(df_sw.index, desc=\"Translating essays\"):\n",
    "  try:\n",
    "    df_sw['essay'][x] = GoogleTranslator(source='en', target='sw').translate(df_sw['essay'][x])\n",
    "  except Exception as e:\n",
    "    df_sw['essay'][x] = \"None\"\n",
    "df_sw = df_sw.dropna()\n",
    "df_sw.to_csv(\"t_data/test_data_sw.tsv\", sep=\"\\t\", index=False)"
   ]
  },
  {
   "cell_type": "code",
   "execution_count": 9,
   "id": "c9277851-c6b3-4510-9f6d-6cfc47ea9518",
   "metadata": {},
   "outputs": [
    {
     "name": "stderr",
     "output_type": "stream",
     "text": [
      "Translating essays:   0%|          | 0/270 [00:00<?, ?it/s]/tmp/ipykernel_2944374/2525442231.py:7: SettingWithCopyWarning: \n",
      "A value is trying to be set on a copy of a slice from a DataFrame\n",
      "\n",
      "See the caveats in the documentation: https://pandas.pydata.org/pandas-docs/stable/user_guide/indexing.html#returning-a-view-versus-a-copy\n",
      "  df_zh['essay'][x] = \"None\"\n",
      "Translating essays: 100%|██████████| 270/270 [00:00<00:00, 4899.42it/s]\n"
     ]
    }
   ],
   "source": [
    "df_zh = train_data.copy()\n",
    "\n",
    "for x in tqdm(df_zh.index, desc=\"Translating essays\"):\n",
    "  try:\n",
    "    df_zh['essay'][x] = GoogleTranslator(source='en', target='zh-cn').translate(df_zh['essay'][x])\n",
    "  except Exception as e:\n",
    "    df_zh['essay'][x] = \"None\"\n",
    "df_zh = df_zh.dropna()\n",
    "df_zh.to_csv(\"t_data/test_data_zh.tsv\", sep=\"\\t\", index=False)"
   ]
  },
  {
   "cell_type": "code",
   "execution_count": 1,
   "id": "2c5a59e7-65be-4a08-97c4-34fcfd664d33",
   "metadata": {},
   "outputs": [],
   "source": [
    "import pandas as pd\n",
    "dfAr = pd.read_csv('./data/messages_train_ready_for_WS.tsv', sep='\\t')\n",
    "df_hi = pd.read_csv('./t_data/final_data_hi.tsv', sep='\\t')\n",
    "df_tel = pd.read_csv('./t_data/final_data_tel.tsv', sep='\\t')"
   ]
  },
  {
   "cell_type": "code",
   "execution_count": 3,
   "id": "a4847020-48d1-4705-8a59-f0d80c2e467d",
   "metadata": {},
   "outputs": [
    {
     "name": "stdout",
     "output_type": "stream",
     "text": [
      "1860\n",
      "5580\n"
     ]
    }
   ],
   "source": [
    "print(len(dfAr))\n",
    "dfs = [dfAr,df_hi, df_tel]\n",
    "df_concatenated = pd.concat(dfs, axis=0)\n",
    "print(len(df_concatenated))\n",
    "df_concatenated.to_csv(\"t_data/final_data_some_lang.tsv\", sep=\"\\t\", index=False)"
   ]
  },
  {
   "cell_type": "code",
   "execution_count": 4,
   "id": "12c73505-1f71-4a57-9023-ae15f24fc684",
   "metadata": {},
   "outputs": [],
   "source": [
    "dfAr = pd.read_csv('./data/messages_dev_features_ready_for_WS_2022.tsv', sep='\\t')\n",
    "df_hi = pd.read_csv('./t_data/test_data_hi.tsv', sep='\\t')\n",
    "df_tel = pd.read_csv('./t_data/test_data_tel.tsv', sep='\\t')"
   ]
  },
  {
   "cell_type": "code",
   "execution_count": 5,
   "id": "9cbf709d-c080-4aa9-80e0-03ebd5518f54",
   "metadata": {},
   "outputs": [
    {
     "name": "stdout",
     "output_type": "stream",
     "text": [
      "270\n",
      "810\n"
     ]
    }
   ],
   "source": [
    "print(len(dfAr))\n",
    "dfs = [dfAr, df_hi, df_tel]\n",
    "df_concatenated = pd.concat(dfs, axis=0)\n",
    "print(len(df_concatenated))\n",
    "df_concatenated.to_csv(\"t_data/test_data_some_lang.tsv\", sep=\"\\t\", index=False)"
   ]
  },
  {
   "cell_type": "code",
   "execution_count": null,
   "id": "5055bce3-8ea2-4548-b7b6-dd73152b2f5f",
   "metadata": {},
   "outputs": [],
   "source": []
  }
 ],
 "metadata": {
  "kernelspec": {
   "display_name": "Python 3 (ipykernel)",
   "language": "python",
   "name": "python3"
  },
  "language_info": {
   "codemirror_mode": {
    "name": "ipython",
    "version": 3
   },
   "file_extension": ".py",
   "mimetype": "text/x-python",
   "name": "python",
   "nbconvert_exporter": "python",
   "pygments_lexer": "ipython3",
   "version": "3.9.9"
  }
 },
 "nbformat": 4,
 "nbformat_minor": 5
}
