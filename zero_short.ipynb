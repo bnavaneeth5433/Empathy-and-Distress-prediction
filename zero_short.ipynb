{
  "nbformat": 4,
  "nbformat_minor": 0,
  "metadata": {
    "colab": {
      "provenance": [],
      "gpuType": "T4"
    },
    "kernelspec": {
      "name": "python3",
      "display_name": "Python 3"
    },
    "language_info": {
      "name": "python"
    },
    "accelerator": "GPU",
    "gpuClass": "standard",
    "widgets": {
      "application/vnd.jupyter.widget-state+json": {
        "c4e3c3fec003442d8d9f8a4450f5778b": {
          "model_module": "@jupyter-widgets/controls",
          "model_name": "HBoxModel",
          "model_module_version": "1.5.0",
          "state": {
            "_dom_classes": [],
            "_model_module": "@jupyter-widgets/controls",
            "_model_module_version": "1.5.0",
            "_model_name": "HBoxModel",
            "_view_count": null,
            "_view_module": "@jupyter-widgets/controls",
            "_view_module_version": "1.5.0",
            "_view_name": "HBoxView",
            "box_style": "",
            "children": [
              "IPY_MODEL_6045f39dc45d474692de401e1cf9145e",
              "IPY_MODEL_a400f96a221a4b659dd915ab3f289e0c",
              "IPY_MODEL_212d8f8e04c64468a21e92f20b71f400"
            ],
            "layout": "IPY_MODEL_89288ac3ce7344ba94f074a529f37ec5"
          }
        },
        "6045f39dc45d474692de401e1cf9145e": {
          "model_module": "@jupyter-widgets/controls",
          "model_name": "HTMLModel",
          "model_module_version": "1.5.0",
          "state": {
            "_dom_classes": [],
            "_model_module": "@jupyter-widgets/controls",
            "_model_module_version": "1.5.0",
            "_model_name": "HTMLModel",
            "_view_count": null,
            "_view_module": "@jupyter-widgets/controls",
            "_view_module_version": "1.5.0",
            "_view_name": "HTMLView",
            "description": "",
            "description_tooltip": null,
            "layout": "IPY_MODEL_c22da4b144364a098d468ab912488c57",
            "placeholder": "​",
            "style": "IPY_MODEL_4e99a43c0fa441ebb54047ba4b53ae11",
            "value": "Downloading (…)olve/main/vocab.json: 100%"
          }
        },
        "a400f96a221a4b659dd915ab3f289e0c": {
          "model_module": "@jupyter-widgets/controls",
          "model_name": "FloatProgressModel",
          "model_module_version": "1.5.0",
          "state": {
            "_dom_classes": [],
            "_model_module": "@jupyter-widgets/controls",
            "_model_module_version": "1.5.0",
            "_model_name": "FloatProgressModel",
            "_view_count": null,
            "_view_module": "@jupyter-widgets/controls",
            "_view_module_version": "1.5.0",
            "_view_name": "ProgressView",
            "bar_style": "success",
            "description": "",
            "description_tooltip": null,
            "layout": "IPY_MODEL_6a308d97cd3e47d2971f6a1b170c53a1",
            "max": 898823,
            "min": 0,
            "orientation": "horizontal",
            "style": "IPY_MODEL_3a21eb8e62d64e718f2369f4e0abb445",
            "value": 898823
          }
        },
        "212d8f8e04c64468a21e92f20b71f400": {
          "model_module": "@jupyter-widgets/controls",
          "model_name": "HTMLModel",
          "model_module_version": "1.5.0",
          "state": {
            "_dom_classes": [],
            "_model_module": "@jupyter-widgets/controls",
            "_model_module_version": "1.5.0",
            "_model_name": "HTMLModel",
            "_view_count": null,
            "_view_module": "@jupyter-widgets/controls",
            "_view_module_version": "1.5.0",
            "_view_name": "HTMLView",
            "description": "",
            "description_tooltip": null,
            "layout": "IPY_MODEL_2438bbae73a84f259f6f345d414836ed",
            "placeholder": "​",
            "style": "IPY_MODEL_a7415479c33b456390385f1f7ee53428",
            "value": " 899k/899k [00:00&lt;00:00, 1.08MB/s]"
          }
        },
        "89288ac3ce7344ba94f074a529f37ec5": {
          "model_module": "@jupyter-widgets/base",
          "model_name": "LayoutModel",
          "model_module_version": "1.2.0",
          "state": {
            "_model_module": "@jupyter-widgets/base",
            "_model_module_version": "1.2.0",
            "_model_name": "LayoutModel",
            "_view_count": null,
            "_view_module": "@jupyter-widgets/base",
            "_view_module_version": "1.2.0",
            "_view_name": "LayoutView",
            "align_content": null,
            "align_items": null,
            "align_self": null,
            "border": null,
            "bottom": null,
            "display": null,
            "flex": null,
            "flex_flow": null,
            "grid_area": null,
            "grid_auto_columns": null,
            "grid_auto_flow": null,
            "grid_auto_rows": null,
            "grid_column": null,
            "grid_gap": null,
            "grid_row": null,
            "grid_template_areas": null,
            "grid_template_columns": null,
            "grid_template_rows": null,
            "height": null,
            "justify_content": null,
            "justify_items": null,
            "left": null,
            "margin": null,
            "max_height": null,
            "max_width": null,
            "min_height": null,
            "min_width": null,
            "object_fit": null,
            "object_position": null,
            "order": null,
            "overflow": null,
            "overflow_x": null,
            "overflow_y": null,
            "padding": null,
            "right": null,
            "top": null,
            "visibility": null,
            "width": null
          }
        },
        "c22da4b144364a098d468ab912488c57": {
          "model_module": "@jupyter-widgets/base",
          "model_name": "LayoutModel",
          "model_module_version": "1.2.0",
          "state": {
            "_model_module": "@jupyter-widgets/base",
            "_model_module_version": "1.2.0",
            "_model_name": "LayoutModel",
            "_view_count": null,
            "_view_module": "@jupyter-widgets/base",
            "_view_module_version": "1.2.0",
            "_view_name": "LayoutView",
            "align_content": null,
            "align_items": null,
            "align_self": null,
            "border": null,
            "bottom": null,
            "display": null,
            "flex": null,
            "flex_flow": null,
            "grid_area": null,
            "grid_auto_columns": null,
            "grid_auto_flow": null,
            "grid_auto_rows": null,
            "grid_column": null,
            "grid_gap": null,
            "grid_row": null,
            "grid_template_areas": null,
            "grid_template_columns": null,
            "grid_template_rows": null,
            "height": null,
            "justify_content": null,
            "justify_items": null,
            "left": null,
            "margin": null,
            "max_height": null,
            "max_width": null,
            "min_height": null,
            "min_width": null,
            "object_fit": null,
            "object_position": null,
            "order": null,
            "overflow": null,
            "overflow_x": null,
            "overflow_y": null,
            "padding": null,
            "right": null,
            "top": null,
            "visibility": null,
            "width": null
          }
        },
        "4e99a43c0fa441ebb54047ba4b53ae11": {
          "model_module": "@jupyter-widgets/controls",
          "model_name": "DescriptionStyleModel",
          "model_module_version": "1.5.0",
          "state": {
            "_model_module": "@jupyter-widgets/controls",
            "_model_module_version": "1.5.0",
            "_model_name": "DescriptionStyleModel",
            "_view_count": null,
            "_view_module": "@jupyter-widgets/base",
            "_view_module_version": "1.2.0",
            "_view_name": "StyleView",
            "description_width": ""
          }
        },
        "6a308d97cd3e47d2971f6a1b170c53a1": {
          "model_module": "@jupyter-widgets/base",
          "model_name": "LayoutModel",
          "model_module_version": "1.2.0",
          "state": {
            "_model_module": "@jupyter-widgets/base",
            "_model_module_version": "1.2.0",
            "_model_name": "LayoutModel",
            "_view_count": null,
            "_view_module": "@jupyter-widgets/base",
            "_view_module_version": "1.2.0",
            "_view_name": "LayoutView",
            "align_content": null,
            "align_items": null,
            "align_self": null,
            "border": null,
            "bottom": null,
            "display": null,
            "flex": null,
            "flex_flow": null,
            "grid_area": null,
            "grid_auto_columns": null,
            "grid_auto_flow": null,
            "grid_auto_rows": null,
            "grid_column": null,
            "grid_gap": null,
            "grid_row": null,
            "grid_template_areas": null,
            "grid_template_columns": null,
            "grid_template_rows": null,
            "height": null,
            "justify_content": null,
            "justify_items": null,
            "left": null,
            "margin": null,
            "max_height": null,
            "max_width": null,
            "min_height": null,
            "min_width": null,
            "object_fit": null,
            "object_position": null,
            "order": null,
            "overflow": null,
            "overflow_x": null,
            "overflow_y": null,
            "padding": null,
            "right": null,
            "top": null,
            "visibility": null,
            "width": null
          }
        },
        "3a21eb8e62d64e718f2369f4e0abb445": {
          "model_module": "@jupyter-widgets/controls",
          "model_name": "ProgressStyleModel",
          "model_module_version": "1.5.0",
          "state": {
            "_model_module": "@jupyter-widgets/controls",
            "_model_module_version": "1.5.0",
            "_model_name": "ProgressStyleModel",
            "_view_count": null,
            "_view_module": "@jupyter-widgets/base",
            "_view_module_version": "1.2.0",
            "_view_name": "StyleView",
            "bar_color": null,
            "description_width": ""
          }
        },
        "2438bbae73a84f259f6f345d414836ed": {
          "model_module": "@jupyter-widgets/base",
          "model_name": "LayoutModel",
          "model_module_version": "1.2.0",
          "state": {
            "_model_module": "@jupyter-widgets/base",
            "_model_module_version": "1.2.0",
            "_model_name": "LayoutModel",
            "_view_count": null,
            "_view_module": "@jupyter-widgets/base",
            "_view_module_version": "1.2.0",
            "_view_name": "LayoutView",
            "align_content": null,
            "align_items": null,
            "align_self": null,
            "border": null,
            "bottom": null,
            "display": null,
            "flex": null,
            "flex_flow": null,
            "grid_area": null,
            "grid_auto_columns": null,
            "grid_auto_flow": null,
            "grid_auto_rows": null,
            "grid_column": null,
            "grid_gap": null,
            "grid_row": null,
            "grid_template_areas": null,
            "grid_template_columns": null,
            "grid_template_rows": null,
            "height": null,
            "justify_content": null,
            "justify_items": null,
            "left": null,
            "margin": null,
            "max_height": null,
            "max_width": null,
            "min_height": null,
            "min_width": null,
            "object_fit": null,
            "object_position": null,
            "order": null,
            "overflow": null,
            "overflow_x": null,
            "overflow_y": null,
            "padding": null,
            "right": null,
            "top": null,
            "visibility": null,
            "width": null
          }
        },
        "a7415479c33b456390385f1f7ee53428": {
          "model_module": "@jupyter-widgets/controls",
          "model_name": "DescriptionStyleModel",
          "model_module_version": "1.5.0",
          "state": {
            "_model_module": "@jupyter-widgets/controls",
            "_model_module_version": "1.5.0",
            "_model_name": "DescriptionStyleModel",
            "_view_count": null,
            "_view_module": "@jupyter-widgets/base",
            "_view_module_version": "1.2.0",
            "_view_name": "StyleView",
            "description_width": ""
          }
        },
        "52f309a9d2ce4d55a8d02eaf157480e4": {
          "model_module": "@jupyter-widgets/controls",
          "model_name": "HBoxModel",
          "model_module_version": "1.5.0",
          "state": {
            "_dom_classes": [],
            "_model_module": "@jupyter-widgets/controls",
            "_model_module_version": "1.5.0",
            "_model_name": "HBoxModel",
            "_view_count": null,
            "_view_module": "@jupyter-widgets/controls",
            "_view_module_version": "1.5.0",
            "_view_name": "HBoxView",
            "box_style": "",
            "children": [
              "IPY_MODEL_d3495f1b265647bf856510b361aad2c3",
              "IPY_MODEL_f9698f454976474d9913bdcfeb74ca16",
              "IPY_MODEL_61e0eb45fa654af1a474beb9c309b441"
            ],
            "layout": "IPY_MODEL_aeaa8e6a0f7f4453bc970f99b4656817"
          }
        },
        "d3495f1b265647bf856510b361aad2c3": {
          "model_module": "@jupyter-widgets/controls",
          "model_name": "HTMLModel",
          "model_module_version": "1.5.0",
          "state": {
            "_dom_classes": [],
            "_model_module": "@jupyter-widgets/controls",
            "_model_module_version": "1.5.0",
            "_model_name": "HTMLModel",
            "_view_count": null,
            "_view_module": "@jupyter-widgets/controls",
            "_view_module_version": "1.5.0",
            "_view_name": "HTMLView",
            "description": "",
            "description_tooltip": null,
            "layout": "IPY_MODEL_9af50b65cbfe410b835c9e790162b8b6",
            "placeholder": "​",
            "style": "IPY_MODEL_f04538ea67d441ffb01062ca984e19df",
            "value": "Downloading (…)olve/main/merges.txt: 100%"
          }
        },
        "f9698f454976474d9913bdcfeb74ca16": {
          "model_module": "@jupyter-widgets/controls",
          "model_name": "FloatProgressModel",
          "model_module_version": "1.5.0",
          "state": {
            "_dom_classes": [],
            "_model_module": "@jupyter-widgets/controls",
            "_model_module_version": "1.5.0",
            "_model_name": "FloatProgressModel",
            "_view_count": null,
            "_view_module": "@jupyter-widgets/controls",
            "_view_module_version": "1.5.0",
            "_view_name": "ProgressView",
            "bar_style": "success",
            "description": "",
            "description_tooltip": null,
            "layout": "IPY_MODEL_6d20ab4d7e2e4259b21c514eb7ef47c9",
            "max": 456318,
            "min": 0,
            "orientation": "horizontal",
            "style": "IPY_MODEL_74415351bbb645a8af6c909126885f28",
            "value": 456318
          }
        },
        "61e0eb45fa654af1a474beb9c309b441": {
          "model_module": "@jupyter-widgets/controls",
          "model_name": "HTMLModel",
          "model_module_version": "1.5.0",
          "state": {
            "_dom_classes": [],
            "_model_module": "@jupyter-widgets/controls",
            "_model_module_version": "1.5.0",
            "_model_name": "HTMLModel",
            "_view_count": null,
            "_view_module": "@jupyter-widgets/controls",
            "_view_module_version": "1.5.0",
            "_view_name": "HTMLView",
            "description": "",
            "description_tooltip": null,
            "layout": "IPY_MODEL_39673b10f5164cf09e232153a6ba8740",
            "placeholder": "​",
            "style": "IPY_MODEL_cefbd212461240059931082afcbf3cec",
            "value": " 456k/456k [00:00&lt;00:00, 726kB/s]"
          }
        },
        "aeaa8e6a0f7f4453bc970f99b4656817": {
          "model_module": "@jupyter-widgets/base",
          "model_name": "LayoutModel",
          "model_module_version": "1.2.0",
          "state": {
            "_model_module": "@jupyter-widgets/base",
            "_model_module_version": "1.2.0",
            "_model_name": "LayoutModel",
            "_view_count": null,
            "_view_module": "@jupyter-widgets/base",
            "_view_module_version": "1.2.0",
            "_view_name": "LayoutView",
            "align_content": null,
            "align_items": null,
            "align_self": null,
            "border": null,
            "bottom": null,
            "display": null,
            "flex": null,
            "flex_flow": null,
            "grid_area": null,
            "grid_auto_columns": null,
            "grid_auto_flow": null,
            "grid_auto_rows": null,
            "grid_column": null,
            "grid_gap": null,
            "grid_row": null,
            "grid_template_areas": null,
            "grid_template_columns": null,
            "grid_template_rows": null,
            "height": null,
            "justify_content": null,
            "justify_items": null,
            "left": null,
            "margin": null,
            "max_height": null,
            "max_width": null,
            "min_height": null,
            "min_width": null,
            "object_fit": null,
            "object_position": null,
            "order": null,
            "overflow": null,
            "overflow_x": null,
            "overflow_y": null,
            "padding": null,
            "right": null,
            "top": null,
            "visibility": null,
            "width": null
          }
        },
        "9af50b65cbfe410b835c9e790162b8b6": {
          "model_module": "@jupyter-widgets/base",
          "model_name": "LayoutModel",
          "model_module_version": "1.2.0",
          "state": {
            "_model_module": "@jupyter-widgets/base",
            "_model_module_version": "1.2.0",
            "_model_name": "LayoutModel",
            "_view_count": null,
            "_view_module": "@jupyter-widgets/base",
            "_view_module_version": "1.2.0",
            "_view_name": "LayoutView",
            "align_content": null,
            "align_items": null,
            "align_self": null,
            "border": null,
            "bottom": null,
            "display": null,
            "flex": null,
            "flex_flow": null,
            "grid_area": null,
            "grid_auto_columns": null,
            "grid_auto_flow": null,
            "grid_auto_rows": null,
            "grid_column": null,
            "grid_gap": null,
            "grid_row": null,
            "grid_template_areas": null,
            "grid_template_columns": null,
            "grid_template_rows": null,
            "height": null,
            "justify_content": null,
            "justify_items": null,
            "left": null,
            "margin": null,
            "max_height": null,
            "max_width": null,
            "min_height": null,
            "min_width": null,
            "object_fit": null,
            "object_position": null,
            "order": null,
            "overflow": null,
            "overflow_x": null,
            "overflow_y": null,
            "padding": null,
            "right": null,
            "top": null,
            "visibility": null,
            "width": null
          }
        },
        "f04538ea67d441ffb01062ca984e19df": {
          "model_module": "@jupyter-widgets/controls",
          "model_name": "DescriptionStyleModel",
          "model_module_version": "1.5.0",
          "state": {
            "_model_module": "@jupyter-widgets/controls",
            "_model_module_version": "1.5.0",
            "_model_name": "DescriptionStyleModel",
            "_view_count": null,
            "_view_module": "@jupyter-widgets/base",
            "_view_module_version": "1.2.0",
            "_view_name": "StyleView",
            "description_width": ""
          }
        },
        "6d20ab4d7e2e4259b21c514eb7ef47c9": {
          "model_module": "@jupyter-widgets/base",
          "model_name": "LayoutModel",
          "model_module_version": "1.2.0",
          "state": {
            "_model_module": "@jupyter-widgets/base",
            "_model_module_version": "1.2.0",
            "_model_name": "LayoutModel",
            "_view_count": null,
            "_view_module": "@jupyter-widgets/base",
            "_view_module_version": "1.2.0",
            "_view_name": "LayoutView",
            "align_content": null,
            "align_items": null,
            "align_self": null,
            "border": null,
            "bottom": null,
            "display": null,
            "flex": null,
            "flex_flow": null,
            "grid_area": null,
            "grid_auto_columns": null,
            "grid_auto_flow": null,
            "grid_auto_rows": null,
            "grid_column": null,
            "grid_gap": null,
            "grid_row": null,
            "grid_template_areas": null,
            "grid_template_columns": null,
            "grid_template_rows": null,
            "height": null,
            "justify_content": null,
            "justify_items": null,
            "left": null,
            "margin": null,
            "max_height": null,
            "max_width": null,
            "min_height": null,
            "min_width": null,
            "object_fit": null,
            "object_position": null,
            "order": null,
            "overflow": null,
            "overflow_x": null,
            "overflow_y": null,
            "padding": null,
            "right": null,
            "top": null,
            "visibility": null,
            "width": null
          }
        },
        "74415351bbb645a8af6c909126885f28": {
          "model_module": "@jupyter-widgets/controls",
          "model_name": "ProgressStyleModel",
          "model_module_version": "1.5.0",
          "state": {
            "_model_module": "@jupyter-widgets/controls",
            "_model_module_version": "1.5.0",
            "_model_name": "ProgressStyleModel",
            "_view_count": null,
            "_view_module": "@jupyter-widgets/base",
            "_view_module_version": "1.2.0",
            "_view_name": "StyleView",
            "bar_color": null,
            "description_width": ""
          }
        },
        "39673b10f5164cf09e232153a6ba8740": {
          "model_module": "@jupyter-widgets/base",
          "model_name": "LayoutModel",
          "model_module_version": "1.2.0",
          "state": {
            "_model_module": "@jupyter-widgets/base",
            "_model_module_version": "1.2.0",
            "_model_name": "LayoutModel",
            "_view_count": null,
            "_view_module": "@jupyter-widgets/base",
            "_view_module_version": "1.2.0",
            "_view_name": "LayoutView",
            "align_content": null,
            "align_items": null,
            "align_self": null,
            "border": null,
            "bottom": null,
            "display": null,
            "flex": null,
            "flex_flow": null,
            "grid_area": null,
            "grid_auto_columns": null,
            "grid_auto_flow": null,
            "grid_auto_rows": null,
            "grid_column": null,
            "grid_gap": null,
            "grid_row": null,
            "grid_template_areas": null,
            "grid_template_columns": null,
            "grid_template_rows": null,
            "height": null,
            "justify_content": null,
            "justify_items": null,
            "left": null,
            "margin": null,
            "max_height": null,
            "max_width": null,
            "min_height": null,
            "min_width": null,
            "object_fit": null,
            "object_position": null,
            "order": null,
            "overflow": null,
            "overflow_x": null,
            "overflow_y": null,
            "padding": null,
            "right": null,
            "top": null,
            "visibility": null,
            "width": null
          }
        },
        "cefbd212461240059931082afcbf3cec": {
          "model_module": "@jupyter-widgets/controls",
          "model_name": "DescriptionStyleModel",
          "model_module_version": "1.5.0",
          "state": {
            "_model_module": "@jupyter-widgets/controls",
            "_model_module_version": "1.5.0",
            "_model_name": "DescriptionStyleModel",
            "_view_count": null,
            "_view_module": "@jupyter-widgets/base",
            "_view_module_version": "1.2.0",
            "_view_name": "StyleView",
            "description_width": ""
          }
        },
        "20e5b8af30ff44f59a4c880977560967": {
          "model_module": "@jupyter-widgets/controls",
          "model_name": "HBoxModel",
          "model_module_version": "1.5.0",
          "state": {
            "_dom_classes": [],
            "_model_module": "@jupyter-widgets/controls",
            "_model_module_version": "1.5.0",
            "_model_name": "HBoxModel",
            "_view_count": null,
            "_view_module": "@jupyter-widgets/controls",
            "_view_module_version": "1.5.0",
            "_view_name": "HBoxView",
            "box_style": "",
            "children": [
              "IPY_MODEL_fc38ef33d10e4e2cab04ae0bb3639905",
              "IPY_MODEL_e884eaeab9fa4f8cb9f7daae16f6188f",
              "IPY_MODEL_c74ae4d67abf4226af49a81f7e4d3f45"
            ],
            "layout": "IPY_MODEL_1b7db26fcf9048519662208ffe4c29ac"
          }
        },
        "fc38ef33d10e4e2cab04ae0bb3639905": {
          "model_module": "@jupyter-widgets/controls",
          "model_name": "HTMLModel",
          "model_module_version": "1.5.0",
          "state": {
            "_dom_classes": [],
            "_model_module": "@jupyter-widgets/controls",
            "_model_module_version": "1.5.0",
            "_model_name": "HTMLModel",
            "_view_count": null,
            "_view_module": "@jupyter-widgets/controls",
            "_view_module_version": "1.5.0",
            "_view_name": "HTMLView",
            "description": "",
            "description_tooltip": null,
            "layout": "IPY_MODEL_b3926114ebfa4476ad1a476542e1cd0c",
            "placeholder": "​",
            "style": "IPY_MODEL_bb4863593a2843cc9814c182b69b8b75",
            "value": "Downloading (…)lve/main/config.json: 100%"
          }
        },
        "e884eaeab9fa4f8cb9f7daae16f6188f": {
          "model_module": "@jupyter-widgets/controls",
          "model_name": "FloatProgressModel",
          "model_module_version": "1.5.0",
          "state": {
            "_dom_classes": [],
            "_model_module": "@jupyter-widgets/controls",
            "_model_module_version": "1.5.0",
            "_model_name": "FloatProgressModel",
            "_view_count": null,
            "_view_module": "@jupyter-widgets/controls",
            "_view_module_version": "1.5.0",
            "_view_name": "ProgressView",
            "bar_style": "success",
            "description": "",
            "description_tooltip": null,
            "layout": "IPY_MODEL_0fec56c08bc64f38b0a31da73fd9a340",
            "max": 481,
            "min": 0,
            "orientation": "horizontal",
            "style": "IPY_MODEL_adade36bcfcd40178b16fb1a8952cf1d",
            "value": 481
          }
        },
        "c74ae4d67abf4226af49a81f7e4d3f45": {
          "model_module": "@jupyter-widgets/controls",
          "model_name": "HTMLModel",
          "model_module_version": "1.5.0",
          "state": {
            "_dom_classes": [],
            "_model_module": "@jupyter-widgets/controls",
            "_model_module_version": "1.5.0",
            "_model_name": "HTMLModel",
            "_view_count": null,
            "_view_module": "@jupyter-widgets/controls",
            "_view_module_version": "1.5.0",
            "_view_name": "HTMLView",
            "description": "",
            "description_tooltip": null,
            "layout": "IPY_MODEL_b8db83612af547d19b8899ac709a18ca",
            "placeholder": "​",
            "style": "IPY_MODEL_193026a73d2a4c378db940f7dbb277e9",
            "value": " 481/481 [00:00&lt;00:00, 37.9kB/s]"
          }
        },
        "1b7db26fcf9048519662208ffe4c29ac": {
          "model_module": "@jupyter-widgets/base",
          "model_name": "LayoutModel",
          "model_module_version": "1.2.0",
          "state": {
            "_model_module": "@jupyter-widgets/base",
            "_model_module_version": "1.2.0",
            "_model_name": "LayoutModel",
            "_view_count": null,
            "_view_module": "@jupyter-widgets/base",
            "_view_module_version": "1.2.0",
            "_view_name": "LayoutView",
            "align_content": null,
            "align_items": null,
            "align_self": null,
            "border": null,
            "bottom": null,
            "display": null,
            "flex": null,
            "flex_flow": null,
            "grid_area": null,
            "grid_auto_columns": null,
            "grid_auto_flow": null,
            "grid_auto_rows": null,
            "grid_column": null,
            "grid_gap": null,
            "grid_row": null,
            "grid_template_areas": null,
            "grid_template_columns": null,
            "grid_template_rows": null,
            "height": null,
            "justify_content": null,
            "justify_items": null,
            "left": null,
            "margin": null,
            "max_height": null,
            "max_width": null,
            "min_height": null,
            "min_width": null,
            "object_fit": null,
            "object_position": null,
            "order": null,
            "overflow": null,
            "overflow_x": null,
            "overflow_y": null,
            "padding": null,
            "right": null,
            "top": null,
            "visibility": null,
            "width": null
          }
        },
        "b3926114ebfa4476ad1a476542e1cd0c": {
          "model_module": "@jupyter-widgets/base",
          "model_name": "LayoutModel",
          "model_module_version": "1.2.0",
          "state": {
            "_model_module": "@jupyter-widgets/base",
            "_model_module_version": "1.2.0",
            "_model_name": "LayoutModel",
            "_view_count": null,
            "_view_module": "@jupyter-widgets/base",
            "_view_module_version": "1.2.0",
            "_view_name": "LayoutView",
            "align_content": null,
            "align_items": null,
            "align_self": null,
            "border": null,
            "bottom": null,
            "display": null,
            "flex": null,
            "flex_flow": null,
            "grid_area": null,
            "grid_auto_columns": null,
            "grid_auto_flow": null,
            "grid_auto_rows": null,
            "grid_column": null,
            "grid_gap": null,
            "grid_row": null,
            "grid_template_areas": null,
            "grid_template_columns": null,
            "grid_template_rows": null,
            "height": null,
            "justify_content": null,
            "justify_items": null,
            "left": null,
            "margin": null,
            "max_height": null,
            "max_width": null,
            "min_height": null,
            "min_width": null,
            "object_fit": null,
            "object_position": null,
            "order": null,
            "overflow": null,
            "overflow_x": null,
            "overflow_y": null,
            "padding": null,
            "right": null,
            "top": null,
            "visibility": null,
            "width": null
          }
        },
        "bb4863593a2843cc9814c182b69b8b75": {
          "model_module": "@jupyter-widgets/controls",
          "model_name": "DescriptionStyleModel",
          "model_module_version": "1.5.0",
          "state": {
            "_model_module": "@jupyter-widgets/controls",
            "_model_module_version": "1.5.0",
            "_model_name": "DescriptionStyleModel",
            "_view_count": null,
            "_view_module": "@jupyter-widgets/base",
            "_view_module_version": "1.2.0",
            "_view_name": "StyleView",
            "description_width": ""
          }
        },
        "0fec56c08bc64f38b0a31da73fd9a340": {
          "model_module": "@jupyter-widgets/base",
          "model_name": "LayoutModel",
          "model_module_version": "1.2.0",
          "state": {
            "_model_module": "@jupyter-widgets/base",
            "_model_module_version": "1.2.0",
            "_model_name": "LayoutModel",
            "_view_count": null,
            "_view_module": "@jupyter-widgets/base",
            "_view_module_version": "1.2.0",
            "_view_name": "LayoutView",
            "align_content": null,
            "align_items": null,
            "align_self": null,
            "border": null,
            "bottom": null,
            "display": null,
            "flex": null,
            "flex_flow": null,
            "grid_area": null,
            "grid_auto_columns": null,
            "grid_auto_flow": null,
            "grid_auto_rows": null,
            "grid_column": null,
            "grid_gap": null,
            "grid_row": null,
            "grid_template_areas": null,
            "grid_template_columns": null,
            "grid_template_rows": null,
            "height": null,
            "justify_content": null,
            "justify_items": null,
            "left": null,
            "margin": null,
            "max_height": null,
            "max_width": null,
            "min_height": null,
            "min_width": null,
            "object_fit": null,
            "object_position": null,
            "order": null,
            "overflow": null,
            "overflow_x": null,
            "overflow_y": null,
            "padding": null,
            "right": null,
            "top": null,
            "visibility": null,
            "width": null
          }
        },
        "adade36bcfcd40178b16fb1a8952cf1d": {
          "model_module": "@jupyter-widgets/controls",
          "model_name": "ProgressStyleModel",
          "model_module_version": "1.5.0",
          "state": {
            "_model_module": "@jupyter-widgets/controls",
            "_model_module_version": "1.5.0",
            "_model_name": "ProgressStyleModel",
            "_view_count": null,
            "_view_module": "@jupyter-widgets/base",
            "_view_module_version": "1.2.0",
            "_view_name": "StyleView",
            "bar_color": null,
            "description_width": ""
          }
        },
        "b8db83612af547d19b8899ac709a18ca": {
          "model_module": "@jupyter-widgets/base",
          "model_name": "LayoutModel",
          "model_module_version": "1.2.0",
          "state": {
            "_model_module": "@jupyter-widgets/base",
            "_model_module_version": "1.2.0",
            "_model_name": "LayoutModel",
            "_view_count": null,
            "_view_module": "@jupyter-widgets/base",
            "_view_module_version": "1.2.0",
            "_view_name": "LayoutView",
            "align_content": null,
            "align_items": null,
            "align_self": null,
            "border": null,
            "bottom": null,
            "display": null,
            "flex": null,
            "flex_flow": null,
            "grid_area": null,
            "grid_auto_columns": null,
            "grid_auto_flow": null,
            "grid_auto_rows": null,
            "grid_column": null,
            "grid_gap": null,
            "grid_row": null,
            "grid_template_areas": null,
            "grid_template_columns": null,
            "grid_template_rows": null,
            "height": null,
            "justify_content": null,
            "justify_items": null,
            "left": null,
            "margin": null,
            "max_height": null,
            "max_width": null,
            "min_height": null,
            "min_width": null,
            "object_fit": null,
            "object_position": null,
            "order": null,
            "overflow": null,
            "overflow_x": null,
            "overflow_y": null,
            "padding": null,
            "right": null,
            "top": null,
            "visibility": null,
            "width": null
          }
        },
        "193026a73d2a4c378db940f7dbb277e9": {
          "model_module": "@jupyter-widgets/controls",
          "model_name": "DescriptionStyleModel",
          "model_module_version": "1.5.0",
          "state": {
            "_model_module": "@jupyter-widgets/controls",
            "_model_module_version": "1.5.0",
            "_model_name": "DescriptionStyleModel",
            "_view_count": null,
            "_view_module": "@jupyter-widgets/base",
            "_view_module_version": "1.2.0",
            "_view_name": "StyleView",
            "description_width": ""
          }
        },
        "b40e3ad2dea0476db6a9d6364aec11e6": {
          "model_module": "@jupyter-widgets/controls",
          "model_name": "HBoxModel",
          "model_module_version": "1.5.0",
          "state": {
            "_dom_classes": [],
            "_model_module": "@jupyter-widgets/controls",
            "_model_module_version": "1.5.0",
            "_model_name": "HBoxModel",
            "_view_count": null,
            "_view_module": "@jupyter-widgets/controls",
            "_view_module_version": "1.5.0",
            "_view_name": "HBoxView",
            "box_style": "",
            "children": [
              "IPY_MODEL_f738e78f1c69465e88cb553dd379d26b",
              "IPY_MODEL_f7c2ac4631024c5996597438fb0008e7",
              "IPY_MODEL_2a6f8e40591e407da3c5ec042c6a9c38"
            ],
            "layout": "IPY_MODEL_c94e3a4bbde144dc895c21ad2e48e666"
          }
        },
        "f738e78f1c69465e88cb553dd379d26b": {
          "model_module": "@jupyter-widgets/controls",
          "model_name": "HTMLModel",
          "model_module_version": "1.5.0",
          "state": {
            "_dom_classes": [],
            "_model_module": "@jupyter-widgets/controls",
            "_model_module_version": "1.5.0",
            "_model_name": "HTMLModel",
            "_view_count": null,
            "_view_module": "@jupyter-widgets/controls",
            "_view_module_version": "1.5.0",
            "_view_name": "HTMLView",
            "description": "",
            "description_tooltip": null,
            "layout": "IPY_MODEL_8f24daecad464a16bb82229bcda26e24",
            "placeholder": "​",
            "style": "IPY_MODEL_cb3b068d20d94e05bafa6fb09a2b27a1",
            "value": "Downloading pytorch_model.bin: 100%"
          }
        },
        "f7c2ac4631024c5996597438fb0008e7": {
          "model_module": "@jupyter-widgets/controls",
          "model_name": "FloatProgressModel",
          "model_module_version": "1.5.0",
          "state": {
            "_dom_classes": [],
            "_model_module": "@jupyter-widgets/controls",
            "_model_module_version": "1.5.0",
            "_model_name": "FloatProgressModel",
            "_view_count": null,
            "_view_module": "@jupyter-widgets/controls",
            "_view_module_version": "1.5.0",
            "_view_name": "ProgressView",
            "bar_style": "success",
            "description": "",
            "description_tooltip": null,
            "layout": "IPY_MODEL_933a0e9622df4008af00a91312c79ab9",
            "max": 501200538,
            "min": 0,
            "orientation": "horizontal",
            "style": "IPY_MODEL_725e260e574c43aeac411fd93e4000ef",
            "value": 501200538
          }
        },
        "2a6f8e40591e407da3c5ec042c6a9c38": {
          "model_module": "@jupyter-widgets/controls",
          "model_name": "HTMLModel",
          "model_module_version": "1.5.0",
          "state": {
            "_dom_classes": [],
            "_model_module": "@jupyter-widgets/controls",
            "_model_module_version": "1.5.0",
            "_model_name": "HTMLModel",
            "_view_count": null,
            "_view_module": "@jupyter-widgets/controls",
            "_view_module_version": "1.5.0",
            "_view_name": "HTMLView",
            "description": "",
            "description_tooltip": null,
            "layout": "IPY_MODEL_5334ed6356e4460e83f6431b7081213d",
            "placeholder": "​",
            "style": "IPY_MODEL_7da580d426f64382b0f577ca5f9df4ff",
            "value": " 501M/501M [00:01&lt;00:00, 398MB/s]"
          }
        },
        "c94e3a4bbde144dc895c21ad2e48e666": {
          "model_module": "@jupyter-widgets/base",
          "model_name": "LayoutModel",
          "model_module_version": "1.2.0",
          "state": {
            "_model_module": "@jupyter-widgets/base",
            "_model_module_version": "1.2.0",
            "_model_name": "LayoutModel",
            "_view_count": null,
            "_view_module": "@jupyter-widgets/base",
            "_view_module_version": "1.2.0",
            "_view_name": "LayoutView",
            "align_content": null,
            "align_items": null,
            "align_self": null,
            "border": null,
            "bottom": null,
            "display": null,
            "flex": null,
            "flex_flow": null,
            "grid_area": null,
            "grid_auto_columns": null,
            "grid_auto_flow": null,
            "grid_auto_rows": null,
            "grid_column": null,
            "grid_gap": null,
            "grid_row": null,
            "grid_template_areas": null,
            "grid_template_columns": null,
            "grid_template_rows": null,
            "height": null,
            "justify_content": null,
            "justify_items": null,
            "left": null,
            "margin": null,
            "max_height": null,
            "max_width": null,
            "min_height": null,
            "min_width": null,
            "object_fit": null,
            "object_position": null,
            "order": null,
            "overflow": null,
            "overflow_x": null,
            "overflow_y": null,
            "padding": null,
            "right": null,
            "top": null,
            "visibility": null,
            "width": null
          }
        },
        "8f24daecad464a16bb82229bcda26e24": {
          "model_module": "@jupyter-widgets/base",
          "model_name": "LayoutModel",
          "model_module_version": "1.2.0",
          "state": {
            "_model_module": "@jupyter-widgets/base",
            "_model_module_version": "1.2.0",
            "_model_name": "LayoutModel",
            "_view_count": null,
            "_view_module": "@jupyter-widgets/base",
            "_view_module_version": "1.2.0",
            "_view_name": "LayoutView",
            "align_content": null,
            "align_items": null,
            "align_self": null,
            "border": null,
            "bottom": null,
            "display": null,
            "flex": null,
            "flex_flow": null,
            "grid_area": null,
            "grid_auto_columns": null,
            "grid_auto_flow": null,
            "grid_auto_rows": null,
            "grid_column": null,
            "grid_gap": null,
            "grid_row": null,
            "grid_template_areas": null,
            "grid_template_columns": null,
            "grid_template_rows": null,
            "height": null,
            "justify_content": null,
            "justify_items": null,
            "left": null,
            "margin": null,
            "max_height": null,
            "max_width": null,
            "min_height": null,
            "min_width": null,
            "object_fit": null,
            "object_position": null,
            "order": null,
            "overflow": null,
            "overflow_x": null,
            "overflow_y": null,
            "padding": null,
            "right": null,
            "top": null,
            "visibility": null,
            "width": null
          }
        },
        "cb3b068d20d94e05bafa6fb09a2b27a1": {
          "model_module": "@jupyter-widgets/controls",
          "model_name": "DescriptionStyleModel",
          "model_module_version": "1.5.0",
          "state": {
            "_model_module": "@jupyter-widgets/controls",
            "_model_module_version": "1.5.0",
            "_model_name": "DescriptionStyleModel",
            "_view_count": null,
            "_view_module": "@jupyter-widgets/base",
            "_view_module_version": "1.2.0",
            "_view_name": "StyleView",
            "description_width": ""
          }
        },
        "933a0e9622df4008af00a91312c79ab9": {
          "model_module": "@jupyter-widgets/base",
          "model_name": "LayoutModel",
          "model_module_version": "1.2.0",
          "state": {
            "_model_module": "@jupyter-widgets/base",
            "_model_module_version": "1.2.0",
            "_model_name": "LayoutModel",
            "_view_count": null,
            "_view_module": "@jupyter-widgets/base",
            "_view_module_version": "1.2.0",
            "_view_name": "LayoutView",
            "align_content": null,
            "align_items": null,
            "align_self": null,
            "border": null,
            "bottom": null,
            "display": null,
            "flex": null,
            "flex_flow": null,
            "grid_area": null,
            "grid_auto_columns": null,
            "grid_auto_flow": null,
            "grid_auto_rows": null,
            "grid_column": null,
            "grid_gap": null,
            "grid_row": null,
            "grid_template_areas": null,
            "grid_template_columns": null,
            "grid_template_rows": null,
            "height": null,
            "justify_content": null,
            "justify_items": null,
            "left": null,
            "margin": null,
            "max_height": null,
            "max_width": null,
            "min_height": null,
            "min_width": null,
            "object_fit": null,
            "object_position": null,
            "order": null,
            "overflow": null,
            "overflow_x": null,
            "overflow_y": null,
            "padding": null,
            "right": null,
            "top": null,
            "visibility": null,
            "width": null
          }
        },
        "725e260e574c43aeac411fd93e4000ef": {
          "model_module": "@jupyter-widgets/controls",
          "model_name": "ProgressStyleModel",
          "model_module_version": "1.5.0",
          "state": {
            "_model_module": "@jupyter-widgets/controls",
            "_model_module_version": "1.5.0",
            "_model_name": "ProgressStyleModel",
            "_view_count": null,
            "_view_module": "@jupyter-widgets/base",
            "_view_module_version": "1.2.0",
            "_view_name": "StyleView",
            "bar_color": null,
            "description_width": ""
          }
        },
        "5334ed6356e4460e83f6431b7081213d": {
          "model_module": "@jupyter-widgets/base",
          "model_name": "LayoutModel",
          "model_module_version": "1.2.0",
          "state": {
            "_model_module": "@jupyter-widgets/base",
            "_model_module_version": "1.2.0",
            "_model_name": "LayoutModel",
            "_view_count": null,
            "_view_module": "@jupyter-widgets/base",
            "_view_module_version": "1.2.0",
            "_view_name": "LayoutView",
            "align_content": null,
            "align_items": null,
            "align_self": null,
            "border": null,
            "bottom": null,
            "display": null,
            "flex": null,
            "flex_flow": null,
            "grid_area": null,
            "grid_auto_columns": null,
            "grid_auto_flow": null,
            "grid_auto_rows": null,
            "grid_column": null,
            "grid_gap": null,
            "grid_row": null,
            "grid_template_areas": null,
            "grid_template_columns": null,
            "grid_template_rows": null,
            "height": null,
            "justify_content": null,
            "justify_items": null,
            "left": null,
            "margin": null,
            "max_height": null,
            "max_width": null,
            "min_height": null,
            "min_width": null,
            "object_fit": null,
            "object_position": null,
            "order": null,
            "overflow": null,
            "overflow_x": null,
            "overflow_y": null,
            "padding": null,
            "right": null,
            "top": null,
            "visibility": null,
            "width": null
          }
        },
        "7da580d426f64382b0f577ca5f9df4ff": {
          "model_module": "@jupyter-widgets/controls",
          "model_name": "DescriptionStyleModel",
          "model_module_version": "1.5.0",
          "state": {
            "_model_module": "@jupyter-widgets/controls",
            "_model_module_version": "1.5.0",
            "_model_name": "DescriptionStyleModel",
            "_view_count": null,
            "_view_module": "@jupyter-widgets/base",
            "_view_module_version": "1.2.0",
            "_view_name": "StyleView",
            "description_width": ""
          }
        }
      }
    }
  },
  "cells": [
    {
      "cell_type": "code",
      "execution_count": null,
      "metadata": {
        "colab": {
          "base_uri": "https://localhost:8080/"
        },
        "id": "MR2mrtx6gBzH",
        "outputId": "b6802a63-fa39-4197-fcba-1791222a1378"
      },
      "outputs": [
        {
          "output_type": "stream",
          "name": "stdout",
          "text": [
            "Looking in indexes: https://pypi.org/simple, https://us-python.pkg.dev/colab-wheels/public/simple/\n",
            "Collecting adapter-transformers\n",
            "  Downloading adapter_transformers-3.2.1-py3-none-any.whl (6.4 MB)\n",
            "\u001b[2K     \u001b[90m━━━━━━━━━━━━━━━━━━━━━━━━━━━━━━━━━━━━━━━━\u001b[0m \u001b[32m6.4/6.4 MB\u001b[0m \u001b[31m15.4 MB/s\u001b[0m eta \u001b[36m0:00:00\u001b[0m\n",
            "\u001b[?25hRequirement already satisfied: filelock in /usr/local/lib/python3.10/dist-packages (from adapter-transformers) (3.12.0)\n",
            "Collecting huggingface-hub<1.0,>=0.11.0 (from adapter-transformers)\n",
            "  Downloading huggingface_hub-0.14.1-py3-none-any.whl (224 kB)\n",
            "\u001b[2K     \u001b[90m━━━━━━━━━━━━━━━━━━━━━━━━━━━━━━━━━━━━━━\u001b[0m \u001b[32m224.5/224.5 kB\u001b[0m \u001b[31m29.5 MB/s\u001b[0m eta \u001b[36m0:00:00\u001b[0m\n",
            "\u001b[?25hRequirement already satisfied: numpy>=1.17 in /usr/local/lib/python3.10/dist-packages (from adapter-transformers) (1.22.4)\n",
            "Requirement already satisfied: packaging>=20.0 in /usr/local/lib/python3.10/dist-packages (from adapter-transformers) (23.1)\n",
            "Requirement already satisfied: pyyaml>=5.1 in /usr/local/lib/python3.10/dist-packages (from adapter-transformers) (6.0)\n",
            "Requirement already satisfied: regex!=2019.12.17 in /usr/local/lib/python3.10/dist-packages (from adapter-transformers) (2022.10.31)\n",
            "Requirement already satisfied: requests in /usr/local/lib/python3.10/dist-packages (from adapter-transformers) (2.27.1)\n",
            "Collecting tokenizers!=0.11.3,<0.14,>=0.11.1 (from adapter-transformers)\n",
            "  Downloading tokenizers-0.13.3-cp310-cp310-manylinux_2_17_x86_64.manylinux2014_x86_64.whl (7.8 MB)\n",
            "\u001b[2K     \u001b[90m━━━━━━━━━━━━━━━━━━━━━━━━━━━━━━━━━━━━━━━━\u001b[0m \u001b[32m7.8/7.8 MB\u001b[0m \u001b[31m105.2 MB/s\u001b[0m eta \u001b[36m0:00:00\u001b[0m\n",
            "\u001b[?25hRequirement already satisfied: tqdm>=4.27 in /usr/local/lib/python3.10/dist-packages (from adapter-transformers) (4.65.0)\n",
            "Requirement already satisfied: fsspec in /usr/local/lib/python3.10/dist-packages (from huggingface-hub<1.0,>=0.11.0->adapter-transformers) (2023.4.0)\n",
            "Requirement already satisfied: typing-extensions>=3.7.4.3 in /usr/local/lib/python3.10/dist-packages (from huggingface-hub<1.0,>=0.11.0->adapter-transformers) (4.5.0)\n",
            "Requirement already satisfied: urllib3<1.27,>=1.21.1 in /usr/local/lib/python3.10/dist-packages (from requests->adapter-transformers) (1.26.15)\n",
            "Requirement already satisfied: certifi>=2017.4.17 in /usr/local/lib/python3.10/dist-packages (from requests->adapter-transformers) (2022.12.7)\n",
            "Requirement already satisfied: charset-normalizer~=2.0.0 in /usr/local/lib/python3.10/dist-packages (from requests->adapter-transformers) (2.0.12)\n",
            "Requirement already satisfied: idna<4,>=2.5 in /usr/local/lib/python3.10/dist-packages (from requests->adapter-transformers) (3.4)\n",
            "Installing collected packages: tokenizers, huggingface-hub, adapter-transformers\n",
            "Successfully installed adapter-transformers-3.2.1 huggingface-hub-0.14.1 tokenizers-0.13.3\n"
          ]
        }
      ],
      "source": [
        "!pip install -U adapter-transformers"
      ]
    },
    {
      "cell_type": "code",
      "source": [
        "!pip install torch torchvision torchaudio -f https://download.pytorch.org/whl/cu111/torch_stable.html"
      ],
      "metadata": {
        "colab": {
          "base_uri": "https://localhost:8080/"
        },
        "id": "HFIofOHogQcH",
        "outputId": "e92ef230-821a-4064-935a-5beca3f7d2f4"
      },
      "execution_count": null,
      "outputs": [
        {
          "output_type": "stream",
          "name": "stdout",
          "text": [
            "Looking in indexes: https://pypi.org/simple, https://us-python.pkg.dev/colab-wheels/public/simple/\n",
            "Looking in links: https://download.pytorch.org/whl/cu111/torch_stable.html\n",
            "Requirement already satisfied: torch in /usr/local/lib/python3.10/dist-packages (2.0.0+cu118)\n",
            "Requirement already satisfied: torchvision in /usr/local/lib/python3.10/dist-packages (0.15.1+cu118)\n",
            "Requirement already satisfied: torchaudio in /usr/local/lib/python3.10/dist-packages (2.0.1+cu118)\n",
            "Requirement already satisfied: filelock in /usr/local/lib/python3.10/dist-packages (from torch) (3.12.0)\n",
            "Requirement already satisfied: typing-extensions in /usr/local/lib/python3.10/dist-packages (from torch) (4.5.0)\n",
            "Requirement already satisfied: sympy in /usr/local/lib/python3.10/dist-packages (from torch) (1.11.1)\n",
            "Requirement already satisfied: networkx in /usr/local/lib/python3.10/dist-packages (from torch) (3.1)\n",
            "Requirement already satisfied: jinja2 in /usr/local/lib/python3.10/dist-packages (from torch) (3.1.2)\n",
            "Requirement already satisfied: triton==2.0.0 in /usr/local/lib/python3.10/dist-packages (from torch) (2.0.0)\n",
            "Requirement already satisfied: cmake in /usr/local/lib/python3.10/dist-packages (from triton==2.0.0->torch) (3.25.2)\n",
            "Requirement already satisfied: lit in /usr/local/lib/python3.10/dist-packages (from triton==2.0.0->torch) (16.0.3)\n",
            "Requirement already satisfied: numpy in /usr/local/lib/python3.10/dist-packages (from torchvision) (1.22.4)\n",
            "Requirement already satisfied: requests in /usr/local/lib/python3.10/dist-packages (from torchvision) (2.27.1)\n",
            "Requirement already satisfied: pillow!=8.3.*,>=5.3.0 in /usr/local/lib/python3.10/dist-packages (from torchvision) (8.4.0)\n",
            "Requirement already satisfied: MarkupSafe>=2.0 in /usr/local/lib/python3.10/dist-packages (from jinja2->torch) (2.1.2)\n",
            "Requirement already satisfied: urllib3<1.27,>=1.21.1 in /usr/local/lib/python3.10/dist-packages (from requests->torchvision) (1.26.15)\n",
            "Requirement already satisfied: certifi>=2017.4.17 in /usr/local/lib/python3.10/dist-packages (from requests->torchvision) (2022.12.7)\n",
            "Requirement already satisfied: charset-normalizer~=2.0.0 in /usr/local/lib/python3.10/dist-packages (from requests->torchvision) (2.0.12)\n",
            "Requirement already satisfied: idna<4,>=2.5 in /usr/local/lib/python3.10/dist-packages (from requests->torchvision) (3.4)\n",
            "Requirement already satisfied: mpmath>=0.19 in /usr/local/lib/python3.10/dist-packages (from sympy->torch) (1.3.0)\n"
          ]
        }
      ]
    },
    {
      "cell_type": "code",
      "source": [
        "from transformers import AutoConfig, AutoModelWithHeads\n",
        "import torch\n",
        "from transformers import RobertaTokenizer\n",
        "import transformers.adapters.composition as ac\n",
        "import pandas as pd\n",
        "from tqdm import tqdm\n",
        "from scipy.stats import pearsonr\n",
        "import random"
      ],
      "metadata": {
        "id": "LQdNkSGbgR7j"
      },
      "execution_count": null,
      "outputs": []
    },
    {
      "cell_type": "code",
      "source": [
        "val_data = pd.read_csv('/content/drive/MyDrive/NLP_final_pro/data/messages_dev_features_ready_for_WS_2022.tsv', sep='\\t')"
      ],
      "metadata": {
        "id": "l3B9pWD_gUNz"
      },
      "execution_count": null,
      "outputs": []
    },
    {
      "cell_type": "code",
      "source": [
        "tokenizer = RobertaTokenizer.from_pretrained(\"roberta-base\")\n",
        "\n",
        "config = AutoConfig.from_pretrained(\n",
        "    \"roberta-base\",\n",
        "    num_labels=1\n",
        ")\n",
        "\n",
        "model = AutoModelWithHeads.from_pretrained(\n",
        "    \"roberta-base\",\n",
        "    config=config,\n",
        ")"
      ],
      "metadata": {
        "colab": {
          "base_uri": "https://localhost:8080/",
          "height": 430,
          "referenced_widgets": [
            "c4e3c3fec003442d8d9f8a4450f5778b",
            "6045f39dc45d474692de401e1cf9145e",
            "a400f96a221a4b659dd915ab3f289e0c",
            "212d8f8e04c64468a21e92f20b71f400",
            "89288ac3ce7344ba94f074a529f37ec5",
            "c22da4b144364a098d468ab912488c57",
            "4e99a43c0fa441ebb54047ba4b53ae11",
            "6a308d97cd3e47d2971f6a1b170c53a1",
            "3a21eb8e62d64e718f2369f4e0abb445",
            "2438bbae73a84f259f6f345d414836ed",
            "a7415479c33b456390385f1f7ee53428",
            "52f309a9d2ce4d55a8d02eaf157480e4",
            "d3495f1b265647bf856510b361aad2c3",
            "f9698f454976474d9913bdcfeb74ca16",
            "61e0eb45fa654af1a474beb9c309b441",
            "aeaa8e6a0f7f4453bc970f99b4656817",
            "9af50b65cbfe410b835c9e790162b8b6",
            "f04538ea67d441ffb01062ca984e19df",
            "6d20ab4d7e2e4259b21c514eb7ef47c9",
            "74415351bbb645a8af6c909126885f28",
            "39673b10f5164cf09e232153a6ba8740",
            "cefbd212461240059931082afcbf3cec",
            "20e5b8af30ff44f59a4c880977560967",
            "fc38ef33d10e4e2cab04ae0bb3639905",
            "e884eaeab9fa4f8cb9f7daae16f6188f",
            "c74ae4d67abf4226af49a81f7e4d3f45",
            "1b7db26fcf9048519662208ffe4c29ac",
            "b3926114ebfa4476ad1a476542e1cd0c",
            "bb4863593a2843cc9814c182b69b8b75",
            "0fec56c08bc64f38b0a31da73fd9a340",
            "adade36bcfcd40178b16fb1a8952cf1d",
            "b8db83612af547d19b8899ac709a18ca",
            "193026a73d2a4c378db940f7dbb277e9",
            "b40e3ad2dea0476db6a9d6364aec11e6",
            "f738e78f1c69465e88cb553dd379d26b",
            "f7c2ac4631024c5996597438fb0008e7",
            "2a6f8e40591e407da3c5ec042c6a9c38",
            "c94e3a4bbde144dc895c21ad2e48e666",
            "8f24daecad464a16bb82229bcda26e24",
            "cb3b068d20d94e05bafa6fb09a2b27a1",
            "933a0e9622df4008af00a91312c79ab9",
            "725e260e574c43aeac411fd93e4000ef",
            "5334ed6356e4460e83f6431b7081213d",
            "7da580d426f64382b0f577ca5f9df4ff"
          ]
        },
        "id": "ljSig6FggVm3",
        "outputId": "9da1144f-fe75-4f8d-d07a-3e60eafb8ffc"
      },
      "execution_count": null,
      "outputs": [
        {
          "output_type": "display_data",
          "data": {
            "text/plain": [
              "Downloading (…)olve/main/vocab.json:   0%|          | 0.00/899k [00:00<?, ?B/s]"
            ],
            "application/vnd.jupyter.widget-view+json": {
              "version_major": 2,
              "version_minor": 0,
              "model_id": "c4e3c3fec003442d8d9f8a4450f5778b"
            }
          },
          "metadata": {}
        },
        {
          "output_type": "display_data",
          "data": {
            "text/plain": [
              "Downloading (…)olve/main/merges.txt:   0%|          | 0.00/456k [00:00<?, ?B/s]"
            ],
            "application/vnd.jupyter.widget-view+json": {
              "version_major": 2,
              "version_minor": 0,
              "model_id": "52f309a9d2ce4d55a8d02eaf157480e4"
            }
          },
          "metadata": {}
        },
        {
          "output_type": "display_data",
          "data": {
            "text/plain": [
              "Downloading (…)lve/main/config.json:   0%|          | 0.00/481 [00:00<?, ?B/s]"
            ],
            "application/vnd.jupyter.widget-view+json": {
              "version_major": 2,
              "version_minor": 0,
              "model_id": "20e5b8af30ff44f59a4c880977560967"
            }
          },
          "metadata": {}
        },
        {
          "output_type": "stream",
          "name": "stderr",
          "text": [
            "/usr/local/lib/python3.10/dist-packages/transformers/adapters/models/roberta/adapter_model.py:274: FutureWarning: This class has been renamed to `RobertaAdapterModel` in v3. Please use the new class instead as this class might be removed in a future version.\n",
            "  warnings.warn(\n"
          ]
        },
        {
          "output_type": "display_data",
          "data": {
            "text/plain": [
              "Downloading pytorch_model.bin:   0%|          | 0.00/501M [00:00<?, ?B/s]"
            ],
            "application/vnd.jupyter.widget-view+json": {
              "version_major": 2,
              "version_minor": 0,
              "model_id": "b40e3ad2dea0476db6a9d6364aec11e6"
            }
          },
          "metadata": {}
        },
        {
          "output_type": "stream",
          "name": "stderr",
          "text": [
            "/usr/local/lib/python3.10/dist-packages/transformers/adapters/models/roberta/adapter_model.py:252: FutureWarning: This class has been renamed to `RobertaAdapterModel` in v3. Please use the new class instead as this class might be removed in a future version.\n",
            "  warnings.warn(\n",
            "Some weights of the model checkpoint at roberta-base were not used when initializing RobertaModelWithHeads: ['lm_head.decoder.weight', 'lm_head.layer_norm.bias', 'lm_head.dense.weight', 'lm_head.bias', 'lm_head.dense.bias', 'lm_head.layer_norm.weight']\n",
            "- This IS expected if you are initializing RobertaModelWithHeads from the checkpoint of a model trained on another task or with another architecture (e.g. initializing a BertForSequenceClassification model from a BertForPreTraining model).\n",
            "- This IS NOT expected if you are initializing RobertaModelWithHeads from the checkpoint of a model that you expect to be exactly identical (initializing a BertForSequenceClassification model from a BertForSequenceClassification model).\n",
            "Some weights of RobertaModelWithHeads were not initialized from the model checkpoint at roberta-base and are newly initialized: ['roberta.embeddings.position_ids']\n",
            "You should probably TRAIN this model on a down-stream task to be able to use it for predictions and inference.\n"
          ]
        }
      ]
    },
    {
      "cell_type": "code",
      "source": [
        "\"\"\" load adapters \"\"\"\n",
        "empathy_adapter_path = \"/content/drive/MyDrive/NLP_final_pro/trained_adapters/EMP_emotion_stack\"\n",
        "distress_adapter_path = \"/content/drive/MyDrive/NLP_final_pro/trained_adapters/DIS_emotion_stack\"\n",
        "\n",
        "empathy_adapter = model.load_adapter(empathy_adapter_path, load_as=empathy_adapter_path.split('/')[-1])\n",
        "distress_adapter = model.load_adapter(distress_adapter_path, load_as=distress_adapter_path.split('/')[-1])"
      ],
      "metadata": {
        "id": "VDgLAv2ogXGL"
      },
      "execution_count": null,
      "outputs": []
    },
    {
      "cell_type": "code",
      "source": [
        "model.set_active_adapters(ac.Parallel(empathy_adapter, distress_adapter))\n",
        "model.active_head = ['EMP_emotion_stack', 'DIS_emotion_stack']"
      ],
      "metadata": {
        "id": "SrLKI2jygs4a"
      },
      "execution_count": null,
      "outputs": []
    },
    {
      "cell_type": "code",
      "source": [
        "\"\"\" load pretrained adapter composition \"\"\"\n",
        "\n",
        "from transformers.adapters.composition import Fuse\n",
        "\n",
        "\n",
        "fusion_path = f\"/content/drive/MyDrive/NLP_final_pro/trained_adapters/EpitomeFusion-distress\"\n",
        "\n",
        "# load each individual adapter\n",
        "dis_er_adapter = model.load_adapter(\n",
        "                fusion_path + '/distress-emotional-reactions')\n",
        "dis_ex_adapter = model.load_adapter(\n",
        "                fusion_path + '/distress-explorations')\n",
        "dis_ip_adapter = model.load_adapter(\n",
        "                fusion_path + '/distress-interpretations')\n",
        "\n",
        "# load adapter fusion\n",
        "model.load_adapter_fusion(\n",
        "    fusion_path\n",
        ")\n",
        "\n",
        "# set active adapters\n",
        "model.set_active_adapters(Fuse(dis_er_adapter, dis_ex_adapter, dis_ip_adapter))\n",
        "\n",
        "# # load head\n",
        "# path, distress_adapter = model.load_head(fusion_path)\n",
        "\n",
        "model.active_head = 'EpitomeFusion-distress'"
      ],
      "metadata": {
        "id": "6JM0UPIigtFO"
      },
      "execution_count": null,
      "outputs": []
    },
    {
      "cell_type": "code",
      "source": [
        "\"\"\" load pretrained adapter composition: empathy \"\"\"\n",
        "\n",
        "fusion_path = f\"/content/drive/MyDrive/NLP_final_pro/trained_adapters/EpitomeFusion-empathy\"\n",
        "\n",
        "# load each individual adapter\n",
        "emp_er_adapter = model.load_adapter(\n",
        "                fusion_path + '/empathy-emotional-reactions'\n",
        "            )\n",
        "emp_ex_adapter = model.load_adapter(\n",
        "                fusion_path + '/empathy-explorations'\n",
        "            )\n",
        "emp_ip_adapter = model.load_adapter(\n",
        "                fusion_path + '/empathy-interpretations'\n",
        "            )\n",
        "\n",
        "# load adapter fusion\n",
        "model.load_adapter_fusion(\n",
        "    fusion_path\n",
        ")\n",
        "\n",
        "# set active adapters\n",
        "model.set_active_adapters(Fuse(emp_er_adapter, emp_ex_adapter, emp_ip_adapter))\n",
        "\n",
        "# # load head\n",
        "# path, empathy_adapter = model.load_head(fusion_path)"
      ],
      "metadata": {
        "id": "TOK1gVvEgxQa"
      },
      "execution_count": null,
      "outputs": []
    },
    {
      "cell_type": "code",
      "source": [
        "model.active_head = 'EpitomeFusion-empathy'\n",
        "model.active_head"
      ],
      "metadata": {
        "colab": {
          "base_uri": "https://localhost:8080/",
          "height": 35
        },
        "id": "sLXqMjjBg0XW",
        "outputId": "e83164b1-7fe5-4bdc-bcfe-57d04654b2a0"
      },
      "execution_count": null,
      "outputs": [
        {
          "output_type": "execute_result",
          "data": {
            "text/plain": [
              "'EpitomeFusion-empathy'"
            ],
            "application/vnd.google.colaboratory.intrinsic+json": {
              "type": "string"
            }
          },
          "metadata": {},
          "execution_count": 10
        }
      ]
    },
    {
      "cell_type": "code",
      "source": [
        "def predict_sen(sentence):\n",
        "    tokens = tokenizer.tokenize(sentence)\n",
        "    input_ids = torch.tensor(tokenizer.convert_tokens_to_ids(tokens)).to('cuda')\n",
        "\n",
        "    # move the model to the GPU\n",
        "    model.to('cuda')\n",
        "\n",
        "    # set active adapters\n",
        "    model.set_active_adapters(Fuse(dis_er_adapter, dis_ex_adapter, dis_ip_adapter))\n",
        "    model.active_head = 'EpitomeFusion-distress'\n",
        "    outputs = model(input_ids)\n",
        "    dis_score_f = outputs.logits[0][0].tolist()\n",
        "\n",
        "    # set active adapters\n",
        "    model.set_active_adapters(Fuse(emp_er_adapter, emp_ex_adapter, emp_ip_adapter))\n",
        "    model.active_head = 'EpitomeFusion-empathy'\n",
        "    outputs = model(input_ids)\n",
        "    emp_score_f = outputs.logits[0][0].tolist()\n",
        "\n",
        "    # stack\n",
        "    model.set_active_adapters(ac.Parallel(empathy_adapter, distress_adapter))\n",
        "    model.active_head = ['EMP_emotion_stack', 'DIS_emotion_stack']\n",
        "    outputs = model(input_ids)\n",
        "\n",
        "    emp_score_s = outputs[0].logits[0][0].tolist()\n",
        "    dis_score_s = outputs[1].logits[0][0].tolist()\n",
        "\n",
        "    # move the model back to the CPU\n",
        "    model.to('cpu')\n",
        "\n",
        "    return emp_score_f, dis_score_f, emp_score_s, dis_score_s"
      ],
      "metadata": {
        "id": "oFSOWvzZg32e"
      },
      "execution_count": null,
      "outputs": []
    },
    {
      "cell_type": "code",
      "source": [
        "def get_pred(val_data):\n",
        "  pred_emp_f = []\n",
        "  pred_emp_s = []\n",
        "  acu_emp = []\n",
        "  pred_dis_f = []\n",
        "  pred_dis_s = []\n",
        "  acu_dis = []\n",
        "  for idx in tqdm(range(len(val_data))):\n",
        "      essay = val_data['essay'].values[idx]\n",
        "      emp_score_f, dis_score_f,emp_score_s,dis_score_s = predict_sen(essay)\n",
        "    \n",
        "      pred_emp_f.append(emp_score_f)\n",
        "      pred_emp_s.append(emp_score_s)\n",
        "      acu_emp.append(val_data['empathy'].values[idx])\n",
        "    \n",
        "      pred_dis_f.append(dis_score_f)\n",
        "      pred_dis_s.append(dis_score_s)\n",
        "      acu_dis.append(val_data['distress'].values[idx])\n",
        "  return pred_emp_f, pred_emp_s, acu_emp, pred_dis_f, pred_dis_s, acu_dis "
      ],
      "metadata": {
        "id": "S1_4ZjpRg4yr"
      },
      "execution_count": null,
      "outputs": []
    },
    {
      "cell_type": "code",
      "source": [
        "def get_positive_score(l_aug,org,aug):\n",
        "  wrong_list = []\n",
        "  for i in range(len(org)):\n",
        "    if (abs(org[i]-aug[i])>0.4):\n",
        "      wrong_list.append(i)\n",
        "  print(\"Error score:\",len(wrong_list)/len(org))\n",
        "  random_five = random.sample(wrong_list, 5)\n",
        "  for j in random_five:\n",
        "    print(val_data['essay'].values[j])\n",
        "    print(\"score:\",org[j])\n",
        "    print(l_aug['essay'].values[j])\n",
        "    print(\"score:\",aug[j])"
      ],
      "metadata": {
        "id": "vU7RIE_MhAkF"
      },
      "execution_count": null,
      "outputs": []
    },
    {
      "cell_type": "code",
      "source": [
        "def get_scores(l_aug,pred_emp_f_org, pred_emp_s_org, acu_emp, pred_dis_f_org, pred_dis_s_org, acu_dis,pred_emp_f_aug, pred_emp_s_aug, pred_dis_f_aug, pred_dis_s_aug):\n",
        "  \n",
        "  corr_coef_f_aug, p_value = pearsonr(pred_emp_f_aug, acu_emp)\n",
        "  print(\"Pearson Fution empathy:\", corr_coef_f_aug)\n",
        "\n",
        "  corr_coef_s_aug, p_value = pearsonr(pred_emp_s_aug, acu_emp)\n",
        "  print(\"Pearson Stack empathy:\", corr_coef_s_aug)\n",
        "\n",
        "  corr_coef_f_a, p_value = pearsonr(pred_dis_f_aug, acu_dis)\n",
        "  print(\"Pearson Fution distress:\", corr_coef_f_a)\n",
        "\n",
        "  corr_coef_s_a, p_value = pearsonr(pred_dis_s_aug, acu_dis)\n",
        "  print(\"Pearson Stack distress:\", corr_coef_s_a)\n",
        "\n",
        "  print(\"Fution empathy:\")\n",
        "  get_positive_score(l_aug,pred_emp_f_org,pred_emp_f_aug)\n",
        "\n",
        "  print(\"Stack empathy:\")\n",
        "  get_positive_score(l_aug,pred_emp_s_org,pred_emp_s_aug)\n",
        "\n",
        "  print(\"Fution distress:\")\n",
        "  get_positive_score(l_aug,pred_dis_f_org,pred_dis_f_aug)\n",
        "\n",
        "  print(\"Stack distress:\")\n",
        "  get_positive_score(l_aug,pred_dis_s_org,pred_dis_s_aug)"
      ],
      "metadata": {
        "id": "5wubS2LvhCkt"
      },
      "execution_count": null,
      "outputs": []
    },
    {
      "cell_type": "code",
      "source": [
        "pred_emp_f_org, pred_emp_s_org, acu_emp, pred_dis_f_org, pred_dis_s_org, acu_dis = get_pred(val_data)"
      ],
      "metadata": {
        "colab": {
          "base_uri": "https://localhost:8080/"
        },
        "id": "jOvVOIdthVA7",
        "outputId": "95b72498-5de9-420c-c8a8-6288ca9c6d3c"
      },
      "execution_count": null,
      "outputs": [
        {
          "output_type": "stream",
          "name": "stderr",
          "text": [
            "100%|██████████| 270/270 [03:51<00:00,  1.17it/s]\n"
          ]
        }
      ]
    },
    {
      "cell_type": "code",
      "source": [
        "corr_coef, p_value = pearsonr(pred_emp_s_org, acu_emp)\n",
        "\n",
        "print(\"Pearson correlation coefficient emp stack:\", corr_coef)"
      ],
      "metadata": {
        "colab": {
          "base_uri": "https://localhost:8080/"
        },
        "id": "NmIBM4ZuhYot",
        "outputId": "bbf73921-cb96-4656-e1e8-52c958fe1e33"
      },
      "execution_count": null,
      "outputs": [
        {
          "output_type": "stream",
          "name": "stdout",
          "text": [
            "Pearson correlation coefficient emp stack: 0.4890706649247585\n"
          ]
        }
      ]
    },
    {
      "cell_type": "code",
      "source": [
        "corr_coef, p_value = pearsonr(pred_emp_f_org, acu_emp)\n",
        "\n",
        "print(\"Pearson correlation coefficient emp fusion:\", corr_coef)"
      ],
      "metadata": {
        "colab": {
          "base_uri": "https://localhost:8080/"
        },
        "id": "jd0UJTy9haw6",
        "outputId": "974b6a79-f743-4b1c-c7ba-a06268f87847"
      },
      "execution_count": null,
      "outputs": [
        {
          "output_type": "stream",
          "name": "stdout",
          "text": [
            "Pearson correlation coefficient emp fusion: 0.5129559021014046\n"
          ]
        }
      ]
    },
    {
      "cell_type": "code",
      "source": [
        "corr_coef, p_value = pearsonr(pred_dis_s_org, acu_dis)\n",
        "\n",
        "print(\"Pearson correlation coefficient dis stack:\", corr_coef)"
      ],
      "metadata": {
        "colab": {
          "base_uri": "https://localhost:8080/"
        },
        "id": "wnkyAvHBhcMS",
        "outputId": "518b0eee-70de-4c24-8b15-78f3620f0745"
      },
      "execution_count": null,
      "outputs": [
        {
          "output_type": "stream",
          "name": "stdout",
          "text": [
            "Pearson correlation coefficient dis stack: 0.4537656974443214\n"
          ]
        }
      ]
    },
    {
      "cell_type": "code",
      "source": [
        "corr_coef, p_value = pearsonr(pred_dis_f_org, acu_dis)\n",
        "\n",
        "print(\"Pearson correlation coefficient dis fusion:\", corr_coef)"
      ],
      "metadata": {
        "colab": {
          "base_uri": "https://localhost:8080/"
        },
        "id": "Es2ZijAzhdya",
        "outputId": "e7769841-6244-4905-fceb-ef94889b93b5"
      },
      "execution_count": null,
      "outputs": [
        {
          "output_type": "stream",
          "name": "stdout",
          "text": [
            "Pearson correlation coefficient dis fusion: 0.4808846695920748\n"
          ]
        }
      ]
    },
    {
      "cell_type": "code",
      "source": [
        "t_de = pd.read_csv('/content/drive/MyDrive/NLP_final_pro/t_data/test_data_de.tsv', sep='\\t')\n",
        "pred_emp_f_t_de, pred_emp_s_t_de, acu_emp_t_de, pred_dis_f_t_de, pred_dis_s_t_de, acu_dis_t_de = get_pred(t_de)"
      ],
      "metadata": {
        "colab": {
          "base_uri": "https://localhost:8080/"
        },
        "id": "PMII-_EBhffQ",
        "outputId": "a201aae4-bea6-44cc-fee3-4e39a71bfe17"
      },
      "execution_count": null,
      "outputs": [
        {
          "output_type": "stream",
          "name": "stderr",
          "text": [
            "100%|██████████| 270/270 [04:04<00:00,  1.10it/s]\n"
          ]
        }
      ]
    },
    {
      "cell_type": "code",
      "source": [
        "get_scores(t_de,pred_emp_f_org, pred_emp_s_org, acu_emp, pred_dis_f_org, pred_dis_s_org, acu_dis,pred_emp_f_t_de, pred_emp_s_t_de, pred_dis_f_t_de, pred_dis_s_t_de)"
      ],
      "metadata": {
        "colab": {
          "base_uri": "https://localhost:8080/"
        },
        "id": "YQarwFoMhjwM",
        "outputId": "0b5d45eb-4538-4f9b-9f10-f493fe376cef"
      },
      "execution_count": null,
      "outputs": [
        {
          "output_type": "stream",
          "name": "stdout",
          "text": [
            "Pearson Fution empathy: 0.17860173401510124\n",
            "Pearson Stack empathy: 0.2305897285996731\n",
            "Pearson Fution distress: 0.17306933104493386\n",
            "Pearson Stack distress: 0.15420336988689673\n",
            "Fution empathy:\n",
            "score: 0.8777777777777778\n",
            "An excellent (but horrible) example of just how tricky conservation work can be. Of course we should be working to protect endangered species, but you won't be successful if you don't care for the humans involved, too. I had no idea elephants were the cause of so much misery. They should be saved, but the people who live around them must be protected as well.\n",
            "score: 5.771881580352783\n",
            "Ein hervorragendes (aber schreckliches) Beispiel dafür, wie knifflig Naturschutzarbeit sein kann. Natürlich sollten wir uns für den Schutz gefährdeter Arten einsetzen, aber Sie werden keinen Erfolg haben, wenn Sie sich nicht auch um die beteiligten Menschen kümmern. Ich hatte keine Ahnung, dass Elefanten die Ursache für so viel Elend sind. Sie sollten gerettet werden, aber die Menschen, die um sie herum leben, müssen ebenfalls geschützt werden.\n",
            "score: 4.691066265106201\n",
            "Another attack on a mall - while no one was actually hurt, this is just an ongoing trend that concerns me so much.  It's gottten to where I Feel like nowhere we go is safe anymore.  I don't like going to crowded places anymore or anywhere that there are a lot of people.  It seems like it's more likely to happen there plus it's always some crazy immigrant.\n",
            "score: 3.212428331375122\n",
            "Ein weiterer Angriff auf ein Einkaufszentrum – obwohl niemand wirklich verletzt wurde, ist dies nur ein anhaltender Trend, der mich sehr beunruhigt. Es ist dahin gekommen, wo ich mich fühle, als ob wir nirgendwo mehr sicher sind. Ich gehe nicht mehr gerne an überfüllte Orte oder an Orte, an denen viele Menschen sind. Es scheint, als ob es dort wahrscheinlicher passiert, und es ist immer irgendein verrückter Einwanderer.\n",
            "score: 4.526715278625488\n",
            "I do think that this male birth control for men should be a thing. Men should be able to decide if those risks are worth the protection. Men should have the ability to take birth control in their own hands, as they never know if a woman is lieing about taking her's or if they have been taking it properly. An added protection could never hurt for both parties. I, however, do not feel very sympathetic. I think women are always looking for things to complain about, and this is just another thing. Women, get over it. If your side effects from your birth control are too strong, then just don't have sex.\n",
            "score: 2.7793471813201904\n",
            "Ich denke, dass diese männliche Empfängnisverhütung für Männer eine Sache sein sollte. Männer sollten entscheiden können, ob diese Risiken den Schutz wert sind. Männer sollten die Möglichkeit haben, die Empfängnisverhütung selbst in die Hand zu nehmen, da sie nie wissen, ob eine Frau mit der Einnahme lügt oder ob sie sie richtig eingenommen hat. Ein zusätzlicher Schutz kann für beide Seiten nie schaden. Ich fühle mich jedoch nicht sehr sympathisch. Ich denke, Frauen suchen immer nach Dingen, über die sie sich beschweren können, und das ist nur eine andere Sache. Frauen, kommt darüber hinweg. Wenn Ihre Nebenwirkungen von Ihrer Empfängnisverhütung zu stark sind, dann haben Sie einfach keinen Sex.\n",
            "score: 5.046524524688721\n",
            "Its becoming an alarming acadaemic of parents overdosing on drugs and not watching their kids its scary to know that the kids are with out eyes on them and the parents are dead with the children with them. In this instance the child was and infant and was likely fine. I hope in the future we can find a way for this to be handled without peopple getting hurt I want this to be done because this can lead to really bad things happening.\n",
            "score: 4.499253273010254\n",
            "Es wird zu einem alarmierenden Akademiker von Eltern, die Drogen überdosieren und ihre Kinder nicht beobachten. Es ist beängstigend zu wissen, dass die Kinder sie nicht im Auge behalten und die Eltern mit den Kindern bei ihnen tot sind. In diesem Fall war das Kind ein Säugling und es ging ihm wahrscheinlich gut. Ich hoffe, dass wir in Zukunft einen Weg finden können, wie dies gehandhabt werden kann, ohne dass Menschen verletzt werden. Ich möchte, dass dies getan wird, weil dies dazu führen kann, dass wirklich schlimme Dinge passieren.\n",
            "score: 5.071638107299805\n",
            "It doesn't seem like it's really safe to park your data anywhere, does it?  Whole cities are being forced to pay hacker ransoms right now and the state is the most likely candidate to ask for highly sensitive information.  I just don't know that society was very ready for the myriad ways that the net has changed our reality.\n",
            "score: 2.7272560596466064\n",
            "Es scheint nicht wirklich sicher zu sein, Ihre Daten irgendwo zu parken, oder? Ganze Städte werden derzeit gezwungen, Hacker-Lösegeld zu zahlen, und der Staat ist der wahrscheinlichste Kandidat, um nach hochsensiblen Informationen zu fragen. Ich weiß nur nicht, ob die Gesellschaft sehr bereit war für die unzähligen Möglichkeiten, wie das Netz unsere Realität verändert hat.\n",
            "score: 4.3169732093811035\n",
            "Stack empathy:\n",
            "score: 0.9074074074074074\n",
            "What Kirk said was wrong and he should of apologized, which he did. This partially rectifies the situation but it still reflects on him negatively. duckworth's patritism should not of been questioned just because of her heritage. Just because she is Tai does not mean she is less likely to be devoted to the country.\n",
            "score: 3.6715011596679688\n",
            "Was Kirk sagte, war falsch und er hätte sich entschuldigen sollen, was er auch tat. Dies korrigiert die Situation teilweise, aber es wirft immer noch ein negatives Licht auf ihn. Duckworths Vaterlandsliebe sollte nicht nur wegen ihrer Herkunft in Frage gestellt werden. Nur weil sie Tai ist, bedeutet das nicht, dass sie dem Land weniger treu ergeben ist.\n",
            "score: 4.999197006225586\n",
            "This is exactly what I'm talking about.  The real threat of the Trump era is that thiese people will not think of this country as their home any more.  they are really being terrorized by the rhetoric coming out of the rights mouth and it's bleeding into all aspects.  Schoolyard bullies are invigorated by the Bully-in-Chief every day he remains in the spotlight.\n",
            "score: 4.126533031463623\n",
            "Genau das meine ich. Die wirkliche Bedrohung der Trump-Ära besteht darin, dass diese Menschen dieses Land nicht mehr als ihre Heimat betrachten werden. Sie werden wirklich von der Rhetorik terrorisiert, die aus dem rechten Mund kommt und in alle Aspekte blutet. Schulhof-Tyrannen werden vom Bully-in-Chief jeden Tag gestärkt, an dem er im Rampenlicht steht.\n",
            "score: 5.319077491760254\n",
            "I just finished reading an article on climate change. I have mixed feelings about whether it is man made or do to the environment. I believe that while humans have a contributing factor, they are not the only ones. I think some of the admissions are naturally occurring. I also think that some of the naturally occurring emissions are accelerated but human and the disruption to the environment. I see everyday new developments going up and think wow we really should preserve more trees. This article made me affirmed that for me.\n",
            "score: 3.9482600688934326\n",
            "Ich habe gerade einen Artikel über den Klimawandel gelesen. Ich habe gemischte Gefühle darüber, ob es von Menschen gemacht ist oder der Umwelt schadet. Ich glaube, dass Menschen zwar einen Beitrag leisten, aber nicht die einzigen sind. Ich denke, dass einige der Aufnahmen natürlich vorkommen. Ich denke auch, dass einige der natürlich vorkommenden Emissionen beschleunigt werden, aber der Mensch und die Störung der Umwelt. Ich sehe jeden Tag neue Entwicklungen und denke, wow, wir sollten wirklich mehr Bäume erhalten. Dieser Artikel ließ mich das für mich bestätigen.\n",
            "score: 5.445955276489258\n",
            "Yeah Russia has some real distinct issues for the underclasses which is super ironic given it's history. The oligarchy in place wants people to have just enough to survive and not complain, because they know the Russian people can be brought to bear against a mighty nation. It's happened twice so far.\n",
            "score: 3.1758925914764404\n",
            "Ja, Russland hat einige wirklich unterschiedliche Probleme für die Unterschicht, was angesichts seiner Geschichte super ironisch ist. Die Oligarchie vor Ort möchte, dass die Menschen gerade genug zum Überleben haben und sich nicht beschweren, weil sie wissen, dass das russische Volk gegen eine mächtige Nation eingesetzt werden kann. Das ist bisher zweimal passiert.\n",
            "score: 5.504656791687012\n",
            "The article is very well-written and relatively thoughtful.  I also find it heartwarming and touching at times.  However, it's also overflowing with this self-centered ignorance that our internet culture has engendered over the last decade. We are specks, even on this planet, even in our own cities.  It's an enormous world--unfathomably large.  To think that it is not irrational to be afraid of terrorism is stupid.  Statistically speaking--i.e. RATIONALLY speaking--it is absurd to be afraid of terrorism.  And yet intelligent people are.  They see the world too much through their phones, through the images (images, not tangible things) depicted on it.  The world that exists in our phones does not exist in reality.  They are two distinct things.  People are stupid.\n",
            "score: 4.04902458190918\n",
            "Der Artikel ist sehr gut geschrieben und relativ nachdenklich. Ich finde es auch herzerwärmend und manchmal berührend. Es ist jedoch auch voll von dieser egozentrischen Ignoranz, die unsere Internetkultur im letzten Jahrzehnt hervorgebracht hat. Wir sind Flecken, sogar auf diesem Planeten, sogar in unseren eigenen Städten. Es ist eine riesige Welt – unergründlich groß. Zu denken, dass es nicht irrational ist, Angst vor Terrorismus zu haben, ist dumm. Statistisch gesehen – d.h. RATIONAL gesprochen – es ist absurd, Angst vor Terrorismus zu haben. Und doch sind intelligente Menschen. Sie sehen die Welt zu sehr durch ihre Telefone, durch die darauf abgebildeten Bilder (Bilder, nicht greifbare Dinge). Die Welt, die in unseren Telefonen existiert, existiert in Wirklichkeit nicht. Sie sind zwei verschiedene Dinge. Menschen sind dumm.\n",
            "score: 5.515803813934326\n",
            "Fution distress:\n",
            "score: 0.9259259259259259\n",
            "I can't believe Russel Crowe would do something like this. Why was Russel Crowe even involved in that event if he is so racist and can't stand Azealia Banks? Anyway, since no one is able to attest to her story being true, I have to assume she is mentally ill. Maybe she was drunk or high and hallucinating. Maybe she has psychosis. I really think she needs help! There is zero proof that Russel Crowe did any of the things she is claiming.\n",
            "score: 4.590713977813721\n",
            "Ich kann nicht glauben, dass Russel Crowe so etwas tun würde. Warum war Russel Crowe überhaupt an dieser Veranstaltung beteiligt, wenn er so rassistisch ist und Azealia Banks nicht ausstehen kann? Da niemand bestätigen kann, dass ihre Geschichte wahr ist, muss ich davon ausgehen, dass sie psychisch krank ist. Vielleicht war sie betrunken oder high und hatte Halluzinationen. Vielleicht hat sie eine Psychose. Ich glaube wirklich, sie braucht Hilfe! Es gibt keinen Beweis dafür, dass Russel Crowe irgendetwas von dem getan hat, was sie behauptet.\n",
            "score: 4.053399085998535\n",
            "This is a very depressing story because this child was essentially being tortured to death and it was right in plain view. I don't understand how people like this exist. It is alarming that social workers and other were not able to detect what was going on. The child was obviously being abused underneath everyone's eyes and no one did anything about it. People like this need to be monitored when something doesn't look right.\n",
            "score: 5.905860900878906\n",
            "Dies ist eine sehr deprimierende Geschichte, weil dieses Kind im Wesentlichen zu Tode gefoltert wurde, und es war für alle sichtbar richtig. Ich verstehe nicht, wie es solche Menschen gibt. Es ist alarmierend, dass Sozialarbeiter und andere nicht in der Lage waren zu erkennen, was vor sich ging. Das Kind wurde offensichtlich vor aller Augen missbraucht und niemand tat etwas dagegen. Solche Leute müssen überwacht werden, wenn etwas nicht richtig aussieht.\n",
            "score: 3.5436604022979736\n",
            "It is really a shame the way that countries have been treating their migrants and people who have moved their as refugees. In France in particular the shutdown of the migrant camps being a key part of the election is what baffles me. That people could be so against helping others by allowing them residency and migrant just seems wrong and so calloused.\n",
            "score: 5.41605806350708\n",
            "Es ist wirklich eine Schande, wie Länder ihre Migranten und Menschen, die sie verlassen haben, als Flüchtlinge behandelt haben. Was mich besonders in Frankreich fassungslos macht, ist die Schließung der Migrantenlager, die ein wichtiger Bestandteil der Wahlen sind. Dass Menschen so dagegen sein könnten, anderen zu helfen, indem sie ihnen einen Aufenthalt und Migranten erlauben, scheint einfach falsch und so gefühllos.\n",
            "score: 4.359473705291748\n",
            "In case we all needed yet another reminder that, yes, climate change is real and, yes, we are really screwed if we don't do something about it immediately. Here in the US we have stupid fucking Trump who pulled out of the Paris agreement - we won't make any progress on this until that moron - and all those climate change denying Republicans - are out of the White House.\n",
            "score: 4.279296875\n",
            "Für den Fall, dass wir alle noch eine weitere Erinnerung brauchen, ja, der Klimawandel ist real und, ja, wir sind wirklich am Arsch, wenn wir nicht sofort etwas dagegen unternehmen. Hier in den USA haben wir einen dummen verdammten Trump, der aus dem Pariser Abkommen ausgestiegen ist – wir werden keine Fortschritte machen, bis dieser Idiot – und all diese den Klimawandel leugnenden Republikaner – aus dem Weißen Haus verschwunden sind.\n",
            "score: 3.648637533187866\n",
            "The first thing that stood out was the structure of the article. It is either poorly translated or someone just used Google Translations and left it at that. It is upsetting that overall the article keeps trying to find someone to blame for the incident. At least it mentions some efforts of what's been done and what people need to be aware of.\n",
            "score: 2.4507880210876465\n",
            "Das erste, was auffiel, war die Struktur des Artikels. Es ist entweder schlecht übersetzt oder jemand hat einfach Google Translations verwendet und es dabei belassen. Es ist beunruhigend, dass der Artikel insgesamt versucht, einen Schuldigen für den Vorfall zu finden. Zumindest erwähnt es einige Bemühungen, was getan wurde und was die Leute beachten müssen.\n",
            "score: 3.1725034713745117\n",
            "Stack distress:\n",
            "score: 0.8962962962962963\n",
            "This situation is just alarming and disgusting. People being murdered for the acquisition of power, money, or whatever, is horrifying. Children should never be a casualty of war, nor should any other innocent human beings. This disturbs me so greatly that it's difficult to even get it out of my mind. Why? Why do humans do this? What makes people so mentally disturbed to think that this is ever okay?\n",
            "score: 6.2736101150512695\n",
            "Diese Situation ist einfach alarmierend und widerlich. Menschen, die für den Erwerb von Macht, Geld oder was auch immer ermordet werden, ist entsetzlich. Kinder sollten niemals Opfer eines Krieges werden, ebenso wenig wie andere unschuldige Menschen. Das beunruhigt mich so sehr, dass es mir schwer fällt, es überhaupt aus dem Kopf zu bekommen. Warum? Warum tun Menschen das? Was macht Menschen so geistesgestört zu denken, dass dies jemals in Ordnung ist?\n",
            "score: 5.1285834312438965\n",
            "I can't believe Russel Crowe would do something like this. Why was Russel Crowe even involved in that event if he is so racist and can't stand Azealia Banks? Anyway, since no one is able to attest to her story being true, I have to assume she is mentally ill. Maybe she was drunk or high and hallucinating. Maybe she has psychosis. I really think she needs help! There is zero proof that Russel Crowe did any of the things she is claiming.\n",
            "score: 4.055217742919922\n",
            "Ich kann nicht glauben, dass Russel Crowe so etwas tun würde. Warum war Russel Crowe überhaupt an dieser Veranstaltung beteiligt, wenn er so rassistisch ist und Azealia Banks nicht ausstehen kann? Da niemand bestätigen kann, dass ihre Geschichte wahr ist, muss ich davon ausgehen, dass sie psychisch krank ist. Vielleicht war sie betrunken oder high und hatte Halluzinationen. Vielleicht hat sie eine Psychose. Ich glaube wirklich, sie braucht Hilfe! Es gibt keinen Beweis dafür, dass Russel Crowe irgendetwas von dem getan hat, was sie behauptet.\n",
            "score: 4.948277950286865\n",
            "My feelings after reading this article was that it gave me a somewhat negative feeling. I tried to see things from the immigrant's point of views. I tried to see how their families would be separated and how hard it would be to see one another. Sometimes, they mightnot even be able to see each other again. I felt a bit sad as well.\n",
            "score: 3.158884048461914\n",
            "Meine Gefühle nach dem Lesen dieses Artikels waren, dass er mir ein etwas negatives Gefühl gab. Ich habe versucht, die Dinge aus der Perspektive des Einwanderers zu sehen. Ich versuchte zu sehen, wie ihre Familien getrennt werden würden und wie schwer es sein würde, einander zu sehen. Manchmal können sie sich vielleicht nicht einmal wiedersehen. Ich war auch ein bisschen traurig.\n",
            "score: 4.839751720428467\n",
            "This article makes me feel melancholy and wistful.  I like Val Kilmer and a lot of his movies.  I'd be sad if he died, even though he doesn't really have anything to do with me and it's sort of silly to grieve a celebrity's death.  But I guess his movies represent some of my youth, so his identity represents some of my own as well.  I'm a little confused why he seems to be denying statements about his failing health, as if it's important to make people think he's healthy.  I don't understand it either way.  Why not just keep it private either way?  But whatever.  I like Val and will be somewhat sad when he dies, whether it's sooner or later.\n",
            "score: 1.4368919134140015\n",
            "Dieser Artikel macht mich melancholisch und wehmütig. Ich mag Val Kilmer und viele seiner Filme. Ich wäre traurig, wenn er sterben würde, obwohl er nicht wirklich etwas mit mir zu tun hat und es irgendwie albern ist, den Tod eines Prominenten zu betrauern. Aber ich denke, seine Filme repräsentieren einen Teil meiner Jugend, also repräsentiert seine Identität auch etwas von meiner eigenen. Ich bin ein wenig verwirrt, warum er Aussagen über seine schlechte Gesundheit zu leugnen scheint, als ob es wichtig wäre, die Leute glauben zu machen, er sei gesund. Ich verstehe es so oder so nicht. Warum nicht einfach so oder so privat bleiben? Aber egal. Ich mag Val und werde ein bisschen traurig sein, wenn er stirbt, ob früher oder später.\n",
            "score: 4.881216526031494\n",
            "Its amazing what our country does sometimes. We steal land from the natives over hundreds of years and their reservations get smaller and smaller as we want to industrialize every bit of America. Its silly to think that people that once lived on these lands have to live on \"reservations\" to begin with. What gives our government the right to completely control every bit of land and person that exists on it (before or after they were here?)\n",
            "score: 4.501764297485352\n",
            "Es ist erstaunlich, was unser Land manchmal leistet. Wir stehlen den Ureinwohnern über Hunderte von Jahren Land und ihre Reservate werden immer kleiner, während wir jeden Teil Amerikas industrialisieren wollen. Es ist albern zu glauben, dass Menschen, die einst auf diesem Land lebten, zunächst von „Reservaten“ leben müssen. Was gibt unserer Regierung das Recht, jedes Stück Land und jede Person, die darauf existiert, vollständig zu kontrollieren (bevor oder nachdem sie hier waren?)\n",
            "score: 5.1452507972717285\n"
          ]
        }
      ]
    },
    {
      "cell_type": "code",
      "source": [
        "t_sw = pd.read_csv('/content/drive/MyDrive/NLP_final_pro/t_data/test_data_sw.tsv', sep='\\t')\n",
        "pred_emp_f_t_sw, pred_emp_s_t_sw, acu_emp_t_sw, pred_dis_f_t_sw, pred_dis_s_t_sw, acu_dis_t_sw = get_pred(t_sw)"
      ],
      "metadata": {
        "colab": {
          "base_uri": "https://localhost:8080/"
        },
        "id": "bYYG8UL2qaOj",
        "outputId": "32889bb8-5690-4b7a-a973-ac6d9974ec01"
      },
      "execution_count": null,
      "outputs": [
        {
          "output_type": "stream",
          "name": "stderr",
          "text": [
            "100%|██████████| 270/270 [02:21<00:00,  1.91it/s]\n"
          ]
        }
      ]
    },
    {
      "cell_type": "code",
      "source": [
        "get_scores(t_sw,pred_emp_f_org, pred_emp_s_org, acu_emp, pred_dis_f_org, pred_dis_s_org, acu_dis,pred_emp_f_t_sw, pred_emp_s_t_sw, pred_dis_f_t_sw, pred_dis_s_t_sw)"
      ],
      "metadata": {
        "colab": {
          "base_uri": "https://localhost:8080/"
        },
        "id": "UHpJii_gqbxg",
        "outputId": "ed01fb10-ff5c-4a04-b7ef-4041e198e46e"
      },
      "execution_count": null,
      "outputs": [
        {
          "output_type": "stream",
          "name": "stdout",
          "text": [
            "Pearson Fution empathy: -0.08046601390868444\n",
            "Pearson Stack empathy: 0.03269215447376529\n",
            "Pearson Fution distress: 0.025310048179128408\n",
            "Pearson Stack distress: 0.06161715890017774\n",
            "Fution empathy:\n",
            "score: 0.8851851851851852\n",
            "Just read an article about a breakout of a certain disease in Wisconsin, it generally affects the elderly, but scientists have no idea where it is coming from. If you have elderly loved ones in Wisconsin make sure you are checking up on them. Pretty bazaar that a usually small disease like this can break out and explode among certain populations!\n",
            "score: 3.887437343597412\n",
            "Soma tu nakala kuhusu kuzuka kwa ugonjwa fulani huko Wisconsin, kwa ujumla huathiri wazee, lakini wanasayansi hawajui inatoka wapi. Ikiwa una wapendwa wako wazee huko Wisconsin hakikisha kuwa unawachunguza. Bazaar nzuri ambayo kwa kawaida ugonjwa mdogo kama huu unaweza kuzuka na kulipuka miongoni mwa baadhi ya watu!\n",
            "score: 5.119579792022705\n",
            "This is unfortunately the consequence of conflicts within this part of the world.  Certain countries are not interested in the peace process and will deliberatley sabotage any effort.  The convey was most likely not escorted by terrorists, however, it is a common claim made by aggressive nations under these circumstances.\n",
            "score: 3.026228189468384\n",
            "Hii ni kwa bahati mbaya matokeo ya migogoro ndani ya sehemu hii ya dunia. Nchi fulani hazipendezwi na mchakato wa amani na zitaharibu kwa makusudi juhudi zozote. Usafirishaji huo una uwezekano mkubwa haukusindikizwa na magaidi, hata hivyo, ni madai ya kawaida yaliyotolewa na mataifa yenye fujo chini ya hali hizi.\n",
            "score: 4.982860088348389\n",
            "I dont like it when family split up and the parents decide to divorce. It is always hard for the kids and the emotional trauma doesn't worth it. I am still a firm believer in family and it must be protected by all means. Public figures should lay good examples for others to follow. Custody always get messy\n",
            "score: 4.776086807250977\n",
            "Sipendi wakati familia inatengana na wazazi kuamua kuachana. Daima ni ngumu kwa watoto na kiwewe cha kihemko haifai. Mimi bado ni muumini thabiti wa familia na lazima ilindwe kwa njia zote. Watu wa umma wanapaswa kuweka mifano mizuri kwa wengine kufuata. Utunzaji huwa na fujo kila wakati\n",
            "score: 5.165945529937744\n",
            "Did you see this? send it to daddy. Isn't he a leonard cohen fan. I've never really heard of him but I know daddy likes classical rock music. Ask him if he wants to go swimming this weekend too. The kids really want to see you. We can bring dinner and put it on the grill. Are you in the mood for steak or chicken?\n",
            "score: 5.0120720863342285\n",
            "Umeona hii? tuma kwa baba. Je, yeye si shabiki wa leonard cohen. Sijawahi kusikia habari zake lakini najua baba anapenda muziki wa roki. Muulize kama anataka kwenda kuogelea wikendi hii pia. Watoto wanataka sana kukuona. Tunaweza kuleta chakula cha jioni na kuiweka kwenye grill. Je, uko katika mood ya nyama ya nyama au kuku?\n",
            "score: 5.391153812408447\n",
            "Hey here's a list of some things you might want to look into before you put them into your body, I don't know how trustworthy the source is but better safe than sorry right? Last thing we want is something bad to happen to one of us. I know you're on a bit of a health kick so I have no idea what you've been up to on that front, just letting you know I care though.\n",
            "score: 3.8658101558685303\n",
            "Halo hapa kuna orodha ya baadhi ya mambo ambayo unaweza kutaka kuangalia kabla ya kuyaweka kwenye mwili wako, sijui chanzo ni cha kuaminika kiasi gani lakini ni salama kuliko samahani sivyo? Jambo la mwisho tunalotaka ni jambo baya litokee kwa mmoja wetu. Najua uko kwenye mbio kidogo za afya kwa hivyo sijui umekuwa ukifuata nini, kukujulisha tu kwamba ninajali ingawa.\n",
            "score: 5.343897342681885\n",
            "Stack empathy:\n",
            "score: 0.9074074074074074\n",
            "I just read an article about how animals all over the world in zoo's are starving for various reasons. it is pretty sad to see that people take these wild animals to show off then can't afford to pay for their food, starving them sometimes to death. Poor animals. Hope that they can resolve this soon so no more animals have to suffer. Hope the people in those areas are alright as well.\n",
            "score: 5.857112884521484\n",
            "Nimesoma tu makala kuhusu jinsi wanyama duniani kote katika mbuga za wanyama wanavyokufa njaa kwa sababu mbalimbali. inasikitisha sana kuona kwamba watu wanawachukua wanyama hawa wa porini kujionyesha basi hawana uwezo wa kulipia chakula chao, huku wakiwafa njaa wakati mwingine hadi kufa. Wanyama maskini. Natumai kwamba wanaweza kutatua hili hivi karibuni ili wanyama wasipate kuteseka tena. Natumai watu katika maeneo hayo wako sawa.\n",
            "score: 4.883852005004883\n",
            "I find the story of the wolf's death more ironic and amusing than saddening.  It's just a single wolf; it could have died innumerable ways.  I really don't care.  I find the article describing it to be absurd, however.  Describing a Wildlife Services program in the way it did was over-the-top.  Besides, I always find these perspectives backwards: people who are seemingly more concerned about the welfare of animals than people.  If you want to champion something or complain about something, start with human problems.\n",
            "score: 4.058651447296143\n",
            "Naona hadithi ya kifo cha mbwa mwitu kuwa ya kejeli na ya kufurahisha zaidi kuliko kuhuzunisha. Ni mbwa mwitu mmoja tu; ingeweza kufa kwa njia zisizohesabika. Kwa kweli sijali. Ninaona makala inayoielezea kuwa ya upuuzi, hata hivyo. Kuelezea mpango wa Huduma za Wanyamapori kwa jinsi ulivyofanya ilikuwa juu-juu. Mbali na hilo, mimi hupata mitazamo hii nyuma kila wakati: watu ambao wanaonekana kujali zaidi juu ya ustawi wa wanyama kuliko watu. Ikiwa unataka kutetea kitu au kulalamika juu ya jambo fulani, anza na shida za kibinadamu.\n",
            "score: 5.175201892852783\n",
            "hey,  did you hear about the Kenyan official who was deported? Apparently, he didn't do his job and failed o protect and keep the peace. Honestly, I feel that it was a good move on the Kenyan government part. They needed a change of pace and this is the way they felt they needed to get it . I hope it all works out for them.\n",
            "score: 3.071885108947754\n",
            "jamani, mmesikia kuhusu afisa wa Kenya aliyefukuzwa? Inavyoonekana, hakufanya kazi yake na alishindwa kulinda na kudumisha amani. Kusema kweli, ninahisi kwamba ilikuwa hatua nzuri kwa upande wa serikali ya Kenya. Walihitaji mabadiliko ya kasi na hii ndiyo njia waliyohisi walihitaji kuipata. Natumai yote yatawafaa.\n",
            "score: 4.430209159851074\n",
            "Hi Mo, remember when we scuba dived in Hawaii to look at the reefs up close and how blown away we were of how such a structure is home to thousands of different little creatures and species. Well, this article is now saying that its slowly dying and theres not much we can do about it. This breaks my heart and I thought I'd share this with you.\n",
            "score: 6.255704402923584\n",
            "Hujambo Mo, kumbuka tulipopiga mbizi huko Hawaii ili kutazama miamba hiyo kwa karibu na jinsi tulivyopeperushwa na jinsi muundo kama huo ulivyo makao ya maelfu ya viumbe na viumbe vidogo tofauti. Kweli, nakala hii sasa inasema kwamba inakufa polepole na hakuna mengi tunaweza kufanya juu yake. Hili lilivunja moyo wangu na nilifikiri ningeshiriki nanyi hili.\n",
            "score: 4.746174335479736\n",
            "I am all for this.   I have no specific qualms with working animals, per se, but they need to be taken care of.   Personally, in a real world version of this, I think that the individuals responsible for the elephant's care should be jailed.  Again, just my personal opinion.   Thankfully, this is one of the things that really is changing for the better.  There are fewer and fewer working animals as time goes by.\n",
            "score: 4.45559024810791\n",
            "Mimi ni wote kwa hili. Sina wasiwasi maalum na wanyama wanaofanya kazi, kwa kila mtu, lakini wanahitaji kutunzwa. Binafsi, katika ulimwengu halisi wa toleo hili, nadhani watu wanaohusika na utunzaji wa tembo wanapaswa kufungwa jela. Tena, maoni yangu ya kibinafsi tu. Kwa bahati nzuri, hii ni moja ya mambo ambayo yanabadilika kuwa bora. Kuna wanyama wachache na wachache wanaofanya kazi kadri muda unavyosonga.\n",
            "score: 5.033390045166016\n",
            "Fution distress:\n",
            "score: 0.9\n",
            "All these tourists are so entitled. They seem to have it in their mind that the world is their own and they can do as they please. Due to their pure sense of entitlement, we are now seeing polar bears dying. Animals will die and go extinct but to have them go due to human greed us a hard pill to swallow.\n",
            "score: 5.074265480041504\n",
            "Watalii hawa wote wana haki. Wanaonekana kuwa na akilini mwao kwamba ulimwengu ni wao wenyewe na wanaweza kufanya wapendavyo. Kwa sababu ya hisia zao safi za kustahiki, sasa tunaona dubu wa polar wakifa. Wanyama watakufa na kutoweka lakini kuwaacha kwa sababu ya ulafi wa kibinadamu sisi kidonge kigumu kumeza.\n",
            "score: 3.8989923000335693\n",
            "The US needs to stay out of other countries' affairs. Syria especially should have been left alone. The Syrian conflict was the catalyst of the so-called 'migrant' crisis that really allowed the destruction of European peoples' borders. The worst people in the world are flooding into the greatest countries.\n",
            "score: 5.300611972808838\n",
            "Marekani inahitaji kujiepusha na masuala ya nchi nyingine. Syria haswa ilipaswa kuachwa peke yake. Mzozo wa Syria ulikuwa kichocheo cha kile kinachoitwa mgogoro wa 'wahamiaji' ambao uliruhusu kuharibiwa kwa mipaka ya watu wa Ulaya. Watu wabaya zaidi ulimwenguni wanafurika katika nchi kubwa zaidi.\n",
            "score: 4.107968807220459\n",
            "A little boy had fallen out of window because he was not being watched. It is important that children area always watched because bad things can happen in a split second and its important that the parents always have eyes on their kids because it's that one second that it takes for the kids to get hurt or worse die I hope these people learned an importat listen and that the child is  ok and he can live a long life.\n",
            "score: 4.396615505218506\n",
            "Mvulana mdogo alikuwa ameanguka nje ya dirisha kwa sababu hakuwa anatazamwa. Ni muhimu kwamba eneo la watoto liangaliwe kila wakati kwa sababu mambo mabaya yanaweza kutokea kwa sekunde iliyogawanyika na ni muhimu kwamba wazazi daima wawe na macho kwa watoto wao kwa sababu ni sekunde moja ambayo inachukua watoto kuumia au mbaya zaidi kufa natumai watu hawa kujifunza muhimu kusikiliza na kwamba mtoto ni sawa na anaweza kuishi maisha marefu.\n",
            "score: 4.039190769195557\n",
            "We need to get these Haitians some food and have to develop a plan to do so. More than 141,000 storm victims are in shelters, and they need to go somewhere. We need to care about the kids first and the adults can come second. I say this because kids are the most needy and adults can get their own jobs in the future. This is how society tends to work. I think that is the best thing to do here overall. Kids asking for help just breaks my heart and makes me want to do something for them. I feel like that is the best thing to do in this whole situation going here at the moment.\n",
            "score: 5.1471405029296875\n",
            "Tunahitaji kuwapatia Wahaiti hawa chakula na lazima tuandae mpango wa kufanya hivyo. Zaidi ya waathiriwa wa dhoruba 141,000 wako kwenye makazi, na wanahitaji kwenda mahali fulani. Tunahitaji kuwajali watoto kwanza na watu wazima watakuja wa pili. Ninasema hivi kwa sababu watoto ndio wahitaji zaidi na watu wazima wanaweza kupata kazi zao wenyewe katika siku zijazo. Hivi ndivyo jamii inavyofanya kazi. Nadhani hilo ndilo jambo bora zaidi kufanya hapa kwa ujumla. Watoto wanaoomba msaada huvunja moyo wangu na kunifanya nitake kuwafanyia jambo fulani. Ninahisi kama hilo ndilo jambo bora zaidi kufanya katika hali hii yote inayoenda hapa kwa sasa.\n",
            "score: 4.352977752685547\n",
            "Here's some crap you might not have heard about Kim Kardashian, I didn't really read to absorb it because the second I saw the words \"Kim Kardashian\" my eyes glazed over and I knew I was at risk of killing myself if I paid too much attention to more vapid crap from that family. I know you enjoy hearing all kinds of news about them though and figured you'd like to read it for yourself! Let me know if I missed anything interesting but I probably didn't, because its more crap about the Kardashians and the only news I want to hear about them is \"Kardashian clan found bound and dead in warehouse fire, there are no suspects at this time. Police chief quoted as saying 'Does anyone really care, let's wrap up our investigation and go to iHop.'\n",
            "score: 2.7950305938720703\n",
            "Haya ni mambo ya kipumbavu ambayo huenda hukuyasikia kuhusu Kim Kardashian, sikusoma ili kuyanyonya kwani mara ya pili niliona maneno “Kim Kardashian” macho yalinitoka nikajua niko kwenye hatari ya kujiua endapo nitalipa pia. makini sana na mambo matupu kutoka kwa familia hiyo. Najua unafurahia kusikia kila aina ya habari kuzihusu na ukafikiri ungependa kujisomea! Nijulishe ikiwa nilikosa kitu chochote cha kufurahisha lakini labda sikufanya, kwa sababu ujinga zaidi juu ya Kardashians na habari pekee ninayotaka kusikia kuwahusu ni \"ukoo wa Kardashian wapatikana wakiwa wamefungwa na wamekufa kwenye moto wa ghala, hakuna watuhumiwa katika hii. Mkuu wa polisi alinukuu akisema 'Je, kuna mtu anayejali kweli, tumalizie uchunguzi wetu na twende kwenye iHop.'\n",
            "score: 4.448673248291016\n",
            "Stack distress:\n",
            "score: 0.9296296296296296\n",
            "People are so selfish in this world. It makes me so sick. Like why are you even married if you don't want to be with your wife? Why would you destroy a little boys life because you are too distracted by women? This guy has a lot of things going wrong for him but it's that I just read an article about a dad leaving his 22 month old in a hot car and the article has to focus on how the dad was cheating on his wife instead of focusing on how sad it is that a little boy died!\n",
            "score: 6.152095317840576\n",
            "Watu wana ubinafsi sana katika dunia hii. Inanifanya niwe mgonjwa sana. Kwa nini hata umeolewa kama hutaki kuwa na mkeo? Kwa nini unaweza kuharibu maisha ya wavulana wadogo kwa sababu umekengeushwa sana na wanawake? Huyu jamaa ana mambo mengi yanamuendea vibaya lakini ni kwamba nimesoma makala moja hivi kuhusu baba kumuacha mtoto wake wa miezi 22 kwenye gari la moto na makala hiyo inazingatia jinsi baba huyo alivyokuwa akimdanganya mke wake badala ya kuzingatia. Inasikitisha sana kwamba mtoto mdogo alikufa!\n",
            "score: 3.9124703407287598\n",
            "We're really screwed about climate change, aren't we? I can't believe that there are real people that make up a sizable part of our population that are this stupid. I can't believe our president is this stupid. I wouldn't be sad if every conservative just dropped dead. The world would be a better place.\n",
            "score: 4.174141883850098\n",
            "Kweli tumehangaika na mabadiliko ya hali ya hewa, sivyo? Siwezi kuamini kwamba kuna watu halisi ambao wanaunda sehemu kubwa ya idadi ya watu ambao ni wajinga kiasi hiki. Siwezi kuamini kuwa rais wetu ni mjinga kiasi hiki. Nisingehuzunika ikiwa kila kihafidhina angekufa tu. Dunia ingekuwa mahali pazuri zaidi.\n",
            "score: 3.5216457843780518\n",
            "This looks like Saudi Arabia is a terrible regime. They seem to be killing civilians left and right with no care in the world. What makes it even worse is the role of the United Nations. The United Nations is so spineless of an organization they are just forced to watch as hundred of people are killed.\n",
            "score: 5.233871936798096\n",
            "Hii inaonekana kama Saudi Arabia ni serikali ya kutisha. Wanaonekana kuua raia wa kushoto na kulia bila kujali duniani. Kinachofanya kuwa mbaya zaidi ni jukumu la Umoja wa Mataifa. Umoja wa Mataifa hauna miiba ya shirika ambalo wanalazimishwa tu kutazama mamia ya watu wakiuawa.\n",
            "score: 3.1361382007598877\n",
            "This to me is just the way life is now. Animals constantly going extinct or pushed to the brink of extinction for human gain. Whether it's poaching, land destroying, or accidents, humans find a way to make many animals lives harder with out existence. I don't like it at all but we've been doing it for a long time and efforts to reduce these kind of problems are usually too little too late.\n",
            "score: 4.527121067047119\n",
            "Hivi kwangu ndivyo maisha yalivyo sasa. Wanyama wanaendelea kutoweka au kusukumwa kwenye ukingo wa kutoweka kwa faida ya wanadamu. Iwe ni ujangili, uharibifu wa ardhi, au ajali, wanadamu hutafuta njia ya kuwafanya wanyama wengi waishi maisha magumu bila kuwepo. Siipendi hata kidogo lakini tumekuwa tukifanya hivyo kwa muda mrefu na juhudi za kupunguza aina hizi za shida kawaida huwa zimechelewa sana.\n",
            "score: 3.665858030319214\n",
            "This article makes me feel almost nothing.  It's just numbers and a city, basically.  It might as well be fictional.  I don't know these people; they don't really exist except as creations of my own imagination.  To pretend that I actually care about these people is foolish.  Again, they don't really exist.  They might as well be microbes on a planet a trillion light years away.  I can't bring myself to pretend I feel something for numbers in a far away land.  They don't even have names or faces.\n",
            "score: 1.3396018743515015\n",
            "Makala hii inanifanya nihisi si chochote. Ni nambari tu na jiji, kimsingi. Inaweza pia kuwa ya kubuni. siwajui watu hawa; hazipo isipokuwa kama ubunifu wa mawazo yangu mwenyewe. Kujifanya kuwa ninawajali watu hawa ni upumbavu. Tena, hazipo kabisa. Wanaweza pia kuwa vijidudu kwenye sayari umbali wa miaka trilioni ya nuru. Siwezi kujifanya kujifanya ninahisi kitu cha nambari katika nchi ya mbali. Hawana hata majina wala sura.\n",
            "score: 3.7597551345825195\n"
          ]
        }
      ]
    },
    {
      "cell_type": "code",
      "source": [],
      "metadata": {
        "id": "QtjoJSsqr96Y"
      },
      "execution_count": null,
      "outputs": []
    }
  ]
}