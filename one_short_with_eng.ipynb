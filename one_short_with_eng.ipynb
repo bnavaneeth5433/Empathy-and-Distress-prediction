{
 "cells": [
  {
   "cell_type": "code",
   "execution_count": 1,
   "metadata": {
    "id": "YZIkzXy5sX_W"
   },
   "outputs": [],
   "source": [
    "import torch\n",
    "from transformers import XLMRobertaTokenizer, XLMRobertaForSequenceClassification\n",
    "import numpy as np\n",
    "import pandas as pd\n",
    "from tqdm import tqdm\n",
    "from scipy.stats import pearsonr\n",
    "import random"
   ]
  },
  {
   "cell_type": "code",
   "execution_count": 2,
   "metadata": {
    "id": "kXQMWYl0tgGS"
   },
   "outputs": [],
   "source": [
    "val_data = pd.read_csv('data/messages_dev_features_ready_for_WS_2022.tsv', sep='\\t')"
   ]
  },
  {
   "cell_type": "code",
   "execution_count": 3,
   "metadata": {
    "id": "dRn6FqKXtuib"
   },
   "outputs": [],
   "source": [
    "model_path = 'best_model.pt'\n",
    "saved_model = torch.load(model_path)\n",
    "\n",
    "model_path2 = 'dis_model_new.pt'\n",
    "saved_model2 = torch.load(model_path2)"
   ]
  },
  {
   "cell_type": "code",
   "execution_count": 4,
   "metadata": {
    "id": "wL7iQU_etzoh"
   },
   "outputs": [
    {
     "name": "stderr",
     "output_type": "stream",
     "text": [
      "Some weights of the model checkpoint at xlm-roberta-base were not used when initializing XLMRobertaForSequenceClassification: ['lm_head.layer_norm.bias', 'lm_head.decoder.weight', 'lm_head.bias', 'roberta.pooler.dense.bias', 'lm_head.dense.weight', 'roberta.pooler.dense.weight', 'lm_head.layer_norm.weight', 'lm_head.dense.bias']\n",
      "- This IS expected if you are initializing XLMRobertaForSequenceClassification from the checkpoint of a model trained on another task or with another architecture (e.g. initializing a BertForSequenceClassification model from a BertForPreTraining model).\n",
      "- This IS NOT expected if you are initializing XLMRobertaForSequenceClassification from the checkpoint of a model that you expect to be exactly identical (initializing a BertForSequenceClassification model from a BertForSequenceClassification model).\n",
      "Some weights of XLMRobertaForSequenceClassification were not initialized from the model checkpoint at xlm-roberta-base and are newly initialized: ['classifier.out_proj.weight', 'classifier.out_proj.bias', 'classifier.dense.weight', 'classifier.dense.bias']\n",
      "You should probably TRAIN this model on a down-stream task to be able to use it for predictions and inference.\n",
      "Some weights of the model checkpoint at xlm-roberta-base were not used when initializing XLMRobertaForSequenceClassification: ['lm_head.layer_norm.bias', 'lm_head.decoder.weight', 'lm_head.bias', 'roberta.pooler.dense.bias', 'lm_head.dense.weight', 'roberta.pooler.dense.weight', 'lm_head.layer_norm.weight', 'lm_head.dense.bias']\n",
      "- This IS expected if you are initializing XLMRobertaForSequenceClassification from the checkpoint of a model trained on another task or with another architecture (e.g. initializing a BertForSequenceClassification model from a BertForPreTraining model).\n",
      "- This IS NOT expected if you are initializing XLMRobertaForSequenceClassification from the checkpoint of a model that you expect to be exactly identical (initializing a BertForSequenceClassification model from a BertForSequenceClassification model).\n",
      "Some weights of XLMRobertaForSequenceClassification were not initialized from the model checkpoint at xlm-roberta-base and are newly initialized: ['classifier.out_proj.weight', 'classifier.out_proj.bias', 'classifier.dense.weight', 'classifier.dense.bias']\n",
      "You should probably TRAIN this model on a down-stream task to be able to use it for predictions and inference.\n"
     ]
    }
   ],
   "source": [
    "tokenizer = XLMRobertaTokenizer.from_pretrained('xlm-roberta-base')\n",
    "model = XLMRobertaForSequenceClassification.from_pretrained('xlm-roberta-base', num_labels=1)\n",
    "model2 = XLMRobertaForSequenceClassification.from_pretrained('xlm-roberta-base', num_labels=1)"
   ]
  },
  {
   "cell_type": "code",
   "execution_count": 5,
   "metadata": {
    "id": "wuRoBnOQt67p"
   },
   "outputs": [
    {
     "data": {
      "text/plain": [
       "<All keys matched successfully>"
      ]
     },
     "execution_count": 5,
     "metadata": {},
     "output_type": "execute_result"
    }
   ],
   "source": [
    "model.load_state_dict(saved_model)\n",
    "model2.load_state_dict(saved_model2)"
   ]
  },
  {
   "cell_type": "code",
   "execution_count": 6,
   "metadata": {
    "id": "siHcu31rt9Kn"
   },
   "outputs": [
    {
     "name": "stdout",
     "output_type": "stream",
     "text": [
      "\n"
     ]
    }
   ],
   "source": [
    "model.eval()\n",
    "model2.eval()\n",
    "print(\"\")"
   ]
  },
  {
   "cell_type": "code",
   "execution_count": 7,
   "metadata": {
    "id": "SkHXDxrat-7K"
   },
   "outputs": [],
   "source": [
    "def predict_score(sentences):\n",
    "  inputs = tokenizer(sentences, padding=True, truncation=True, max_length=512, return_tensors='pt')\n",
    "  input_ids = inputs['input_ids']\n",
    "  attention_mask = inputs['attention_mask']\n",
    "  with torch.no_grad():\n",
    "    outputs = model(input_ids, attention_mask=attention_mask)\n",
    "    outputs2 = model2(input_ids, attention_mask=attention_mask)\n",
    "  predictions_emp = outputs.logits.squeeze(1).detach().cpu().numpy()\n",
    "  predictions_dis = outputs2.logits.squeeze(1).detach().cpu().numpy()\n",
    "  return predictions_emp,predictions_dis"
   ]
  },
  {
   "cell_type": "code",
   "execution_count": 8,
   "metadata": {
    "id": "Bz4T1OBzvqcj"
   },
   "outputs": [],
   "source": [
    "acu_emp = val_data['empathy'].tolist()\n",
    "acu_dis = val_data['distress'].tolist()"
   ]
  },
  {
   "cell_type": "code",
   "execution_count": 9,
   "metadata": {
    "id": "r6Flt1_vwojM"
   },
   "outputs": [],
   "source": [
    "sen_org = val_data['essay'].tolist()"
   ]
  },
  {
   "cell_type": "code",
   "execution_count": 10,
   "metadata": {},
   "outputs": [
    {
     "data": {
      "text/plain": [
       "list"
      ]
     },
     "execution_count": 10,
     "metadata": {},
     "output_type": "execute_result"
    }
   ],
   "source": [
    "type(sen_org)"
   ]
  },
  {
   "cell_type": "code",
   "execution_count": 11,
   "metadata": {
    "id": "Ca31EhuVwxzM"
   },
   "outputs": [],
   "source": [
    "pred_emp_org, pred_dis_org = predict_score(sen_org)"
   ]
  },
  {
   "cell_type": "code",
   "execution_count": 12,
   "metadata": {},
   "outputs": [
    {
     "name": "stdout",
     "output_type": "stream",
     "text": [
      "3.8101296\n"
     ]
    }
   ],
   "source": [
    "pred_emp_org.tolist()\n",
    "print(pred_emp_org[0])"
   ]
  },
  {
   "cell_type": "code",
   "execution_count": 13,
   "metadata": {},
   "outputs": [
    {
     "name": "stdout",
     "output_type": "stream",
     "text": [
      "3.770312\n"
     ]
    }
   ],
   "source": [
    "pred_dis_org.tolist()\n",
    "print(pred_dis_org[0])"
   ]
  },
  {
   "cell_type": "code",
   "execution_count": 14,
   "metadata": {
    "id": "C7lzEsd4w_5X"
   },
   "outputs": [
    {
     "name": "stdout",
     "output_type": "stream",
     "text": [
      "Pearson correlation coefficient emp stack: 0.2845973035742949\n"
     ]
    }
   ],
   "source": [
    "corr_coef, p_value = pearsonr(pred_emp_org, acu_emp)\n",
    "\n",
    "print(\"Pearson correlation coefficient emp stack:\", corr_coef)"
   ]
  },
  {
   "cell_type": "code",
   "execution_count": 15,
   "metadata": {
    "id": "4wakUv-MxCcn"
   },
   "outputs": [
    {
     "name": "stdout",
     "output_type": "stream",
     "text": [
      "Pearson correlation coefficient dis stack: 0.0614218996625809\n"
     ]
    }
   ],
   "source": [
    "corr_coef, p_value = pearsonr(pred_dis_org, acu_dis)\n",
    "\n",
    "print(\"Pearson correlation coefficient dis stack:\", corr_coef)"
   ]
  },
  {
   "cell_type": "code",
   "execution_count": 16,
   "metadata": {},
   "outputs": [],
   "source": [
    "def get_positive_score(l_aug,org,aug):\n",
    "  wrong_list = []\n",
    "  for i in range(len(org)):\n",
    "    if (abs(org[i]-aug[i])>0.06):\n",
    "      wrong_list.append(i)\n",
    "  print(\"Error score:\",len(wrong_list)/len(org))\n",
    "  if(len(wrong_list)<=5):\n",
    "        random_five = wrong_list\n",
    "  else:\n",
    "    random_five = random.sample(wrong_list, 5)\n",
    "  for j in random_five:\n",
    "    print(val_data['essay'].values[j])\n",
    "    print(\"score:\",org[j])\n",
    "    print(l_aug['essay'].values[j])\n",
    "    print(\"score:\",aug[j])"
   ]
  },
  {
   "cell_type": "code",
   "execution_count": 17,
   "metadata": {},
   "outputs": [],
   "source": [
    "def get_scores(l_aug,pred_emp_org, acu_emp, pred_dis_org, acu_dis,pred_emp_aug, pred_dis_aug):\n",
    "  \n",
    "  corr_coef_f_aug, p_value = pearsonr(pred_emp_aug, acu_emp)\n",
    "  print(\"Pearson Fution empathy:\", corr_coef_f_aug)\n",
    "\n",
    "  corr_coef_s_a, p_value = pearsonr(pred_dis_aug, acu_dis)\n",
    "  print(\"Pearson Stack distress:\", corr_coef_s_a)\n",
    "\n",
    "  print(\"Empathy:\")\n",
    "  get_positive_score(l_aug,pred_emp_org,pred_emp_aug)\n",
    "\n",
    "  print(\"Distress:\")\n",
    "  get_positive_score(l_aug,pred_dis_org,pred_dis_aug)"
   ]
  },
  {
   "cell_type": "code",
   "execution_count": 18,
   "metadata": {},
   "outputs": [
    {
     "name": "stdout",
     "output_type": "stream",
     "text": [
      "Pearson Fution empathy: 0.19098410080074382\n",
      "Pearson Stack distress: 0.12432172449708714\n",
      "Empathy:\n",
      "Error score: 0.1\n",
      "A little boy had fallen out of window because he was not being watched. It is important that children area always watched because bad things can happen in a split second and its important that the parents always have eyes on their kids because it's that one second that it takes for the kids to get hurt or worse die I hope these people learned an importat listen and that the child is  ok and he can live a long life.\n",
      "score: 3.7182043\n",
      "একটি ছোট ছেলে জানালা দিয়ে পড়ে গিয়েছিল কারণ তাকে দেখা যাচ্ছিল না। এটা গুরুত্বপূর্ণ যে বাচ্চাদের এলাকা সবসময় দেখেছে কারণ খারাপ জিনিসগুলি একটি বিভক্ত সেকেন্ডে ঘটতে পারে এবং এটি গুরুত্বপূর্ণ যে পিতামাতারা সর্বদা তাদের বাচ্চাদের দিকে নজর রাখেন কারণ এটি সেই এক সেকেন্ড যে বাচ্চাদের আঘাত পেতে বা খারাপ হতে লাগে আমি আশা করি এই লোকেরা একটি importat শুনতে শিখেছি এবং শিশু ঠিক আছে এবং সে একটি দীর্ঘ জীবন বাঁচতে পারে.\n",
      "score: 3.786568\n",
      "Dear friend, I have just read a shocking and depressing news article about a muslim woman who had her clothing set on fire in the middle of the street in New York City. She was wearing a hijab when she was approached and set on fire. The police have not caught the man who set the woman on fire, though they are looking for him.\n",
      "score: 3.739003\n",
      "প্রিয় বন্ধু, আমি এইমাত্র একজন মুসলিম মহিলার সম্পর্কে একটি মর্মান্তিক এবং হতাশাজনক সংবাদ নিবন্ধ পড়েছি যিনি নিউ ইয়র্ক শহরের রাস্তার মাঝখানে তার পোশাকে আগুন দিয়েছিলেন। তার কাছে এসে আগুন দেওয়ার সময় সে হিজাব পরে ছিল। যে ব্যক্তি মহিলাকে আগুন দিয়েছে পুলিশ তাকে ধরতে পারেনি, যদিও তারা তাকে খুঁজছে।\n",
      "score: 3.8089674\n",
      "Stories like these break my heart, could you imagine loving someone so much that you think you can't live without them and you kill them and then kill yourself. I can't imagine the hurt and pain that was in that house that day. I wonder if it was money trouble or kid trouble that caused this tragedy. Makes me wonder what was so bad that you had to commit murder and suicide.\n",
      "score: 3.721335\n",
      "এই ধরনের গল্পগুলি আমার হৃদয় ভেঙে দেয়, আপনি কি কাউকে এতটা ভালোবাসতে কল্পনা করতে পারেন যে আপনি মনে করেন যে আপনি তাদের ছাড়া বাঁচতে পারবেন না এবং আপনি তাদের হত্যা করবেন এবং তারপরে নিজেকে হত্যা করবেন। সেদিন ওই বাড়িতে যে যন্ত্রণা ও যন্ত্রণা হয়েছিল তা আমি কল্পনা করতে পারি না। আমি ভাবছি যে এটি অর্থের ঝামেলা বা বাচ্চাদের সমস্যা যা এই ট্র্যাজেডির কারণ ছিল। আমাকে ভাবছে এমন কী খারাপ ছিল যে তোমাকে হত্যা এবং আত্মহত্যা করতে হয়েছিল।\n",
      "score: 3.7871456\n",
      "Hiro, both you and I know how much we both dislike Donald Trump, along with millions of others out there. This article has only reinforced my dislike for such a leadership we have got. He is quite the disgrace to our nation as Americans and I just want to show you this article saying that not only has he made our nation worse off than it was, he is going to take it over and made it into a living hell for millions out there.\n",
      "score: 3.7229762\n",
      "হিরো, আপনি এবং আমি দুজনেই জানি যে আমরা দুজনেই ডোনাল্ড ট্রাম্পকে কতটা অপছন্দ করি, এবং সেখানে লক্ষ লক্ষ লোকের সাথে। এই নিবন্ধটি এমন একটি নেতৃত্বের জন্য আমার অপছন্দকে আরও শক্তিশালী করেছে যা আমরা পেয়েছি। তিনি আমেরিকান হিসাবে আমাদের জাতির জন্য যথেষ্ট অসম্মানজনক এবং আমি আপনাকে এই নিবন্ধটি দেখাতে চাই যে তিনি কেবল আমাদের জাতিকে আগের চেয়ে আরও খারাপ করে তোলেননি, তিনি এটি দখল করতে চলেছেন এবং এটিকে লক্ষ লক্ষ মানুষের জন্য একটি জীবন্ত নরকে পরিণত করতে চলেছেন। ওখানে.\n",
      "score: 3.7928674\n",
      "I am glad that they found the missing hiker and it is heartwarming that everything turned out for the best and he was found alive. It was truly amazing that he survived all that time without food or shelter. It goes to show that you should go looking for somebody missing no matter how long it takes because they might still be out there. It is an amazing story that will inspire and bring hope to the world.\n",
      "score: 3.7321756\n",
      "আমি আনন্দিত যে তারা নিখোঁজ হাইকারকে খুঁজে পেয়েছে এবং এটি হৃদয়গ্রাহী যে সবকিছুই সেরা হয়ে উঠেছে এবং তাকে জীবিত পাওয়া গেছে। এটা সত্যিই আশ্চর্যজনক ছিল যে তিনি সেই সমস্ত সময় খাবার বা আশ্রয় ছাড়াই বেঁচে ছিলেন। এটি দেখায় যে আপনার নিখোঁজ কাউকে খুঁজতে যাওয়া উচিত তা যতই সময় নেয় না কেন কারণ তারা এখনও সেখানে থাকতে পারে। এটি একটি আশ্চর্যজনক গল্প যা বিশ্বকে অনুপ্রাণিত করবে এবং আশা নিয়ে আসবে।\n",
      "score: 3.7974155\n",
      "Distress:\n",
      "Error score: 0.0\n"
     ]
    }
   ],
   "source": [
    "data_bn = pd.read_csv('t_data/test_data_bn.tsv', sep='\\t')\n",
    "sen_bn = data_bn['essay'].tolist()\n",
    "pred_emp_bn, pred_dis_bn = predict_score(sen_bn)\n",
    "get_scores(data_bn,pred_emp_org, acu_emp, pred_dis_org, acu_dis,pred_emp_bn, pred_dis_bn)"
   ]
  },
  {
   "cell_type": "code",
   "execution_count": 19,
   "metadata": {},
   "outputs": [
    {
     "name": "stdout",
     "output_type": "stream",
     "text": [
      "Pearson Fution empathy: 0.2720828437328491\n",
      "Pearson Stack distress: 0.0025543147594948414\n",
      "Empathy:\n",
      "Error score: 0.03333333333333333\n",
      "I cannot imagine what is going through those parent's minds.  To not be able to protect your kids, sending them to school believing that they would be safe.  It's every parent's worst nightmare.  I don't know what would be worse, having hope that the kids are still alive or never having closure.  And how scared the kids must have been!  I don't know how anyone could hurt children.  They can't have any conscience or heart.\n",
      "score: 3.733577\n",
      "Ich kann mir nicht vorstellen, was in den Köpfen dieser Eltern vorgeht. Ihre Kinder nicht beschützen zu können, sie in die Schule zu schicken in dem Glauben, dass sie in Sicherheit wären. Es ist der schlimmste Albtraum aller Eltern. Ich weiß nicht, was schlimmer wäre, die Hoffnung zu haben, dass die Kinder noch am Leben sind, oder nie eine Schließung zu haben. Und wie verängstigt müssen die Kinder gewesen sein! Ich weiß nicht, wie jemand Kindern wehtun könnte. Sie können kein Gewissen oder Herz haben.\n",
      "score: 3.7974265\n",
      "Everyone is complaining about immigration and forgetting the actual people involved. If these people had any option other than to face almost certain death, surely they would have taken it. I wouldn't wish these conditions on my worst enemy. I wish there was a way for people to experience the sort of terror and helplessness that leads people to these drastic options in order to understand better what they're going through.\n",
      "score: 3.7203343\n",
      "Alle beschweren sich über Einwanderung und vergessen dabei die eigentlichen Personen. Wenn diese Menschen eine andere Möglichkeit gehabt hätten, als dem fast sicheren Tod ins Auge zu sehen, hätten sie sie sicherlich ergriffen. Diese Zustände wünsche ich meinem ärgsten Feind nicht. Ich wünschte, es gäbe einen Weg für Menschen, die Art von Terror und Hilflosigkeit zu erleben, die Menschen zu diesen drastischen Optionen führt, um besser zu verstehen, was sie durchmachen.\n",
      "score: 3.7966552\n",
      "I am glad that they found the missing hiker and it is heartwarming that everything turned out for the best and he was found alive. It was truly amazing that he survived all that time without food or shelter. It goes to show that you should go looking for somebody missing no matter how long it takes because they might still be out there. It is an amazing story that will inspire and bring hope to the world.\n",
      "score: 3.7321756\n",
      "Ich bin froh, dass sie den vermissten Wanderer gefunden haben und es ist herzerwärmend, dass sich alles zum Guten gewendet hat und er lebend gefunden wurde. Es war wirklich erstaunlich, dass er die ganze Zeit ohne Nahrung oder Obdach überlebte. Es zeigt, dass Sie nach jemandem suchen sollten, der vermisst wird, egal wie lange es dauert, denn er könnte immer noch da draußen sein. Es ist eine erstaunliche Geschichte, die inspirieren und Hoffnung in die Welt bringen wird.\n",
      "score: 3.7971864\n",
      "I can't believe that \"acceptable if filtered\" is now the standard we're accepting for water. No one's taking the fall for this and it sounds like places all over the country are getting dangerous drinking water that they've got to pay to filter. It's really scary that nothing is being done. Flint looked terrible and I can't imagine those contaminants are good for anyone's health, even if the FDA says they're \"acceptable.\"\n",
      "score: 3.7263186\n",
      "Ich kann nicht glauben, dass \"akzeptabel, wenn gefiltert\" jetzt der Standard ist, den wir für Wasser akzeptieren. Niemand nimmt dafür den Sturz auf sich und es hört sich so an, als ob Orte im ganzen Land gefährliches Trinkwasser erhalten, für dessen Filterung sie bezahlen müssen. Es ist wirklich beängstigend, dass nichts getan wird. Flint sah schrecklich aus und ich kann mir nicht vorstellen, dass diese Verunreinigungen gut für die Gesundheit von irgendjemandem sind, selbst wenn die FDA sagt, dass sie \"akzeptabel\" sind.\n",
      "score: 3.7909048\n",
      "Wells Fargo bosses were trying to scam the system by opening fake accounts. This is something that led to a lot of people being forced by their bosses to take part in this scam. I read about one woman who lost her job just because she was following what her boss told her to do. This poor woman was effected all because people wanted to be scammers.\n",
      "score: 3.7143447\n",
      "Die Bosse von Wells Fargo versuchten, das System zu betrügen, indem sie gefälschte Konten eröffneten. Dies hat dazu geführt, dass viele Leute von ihren Chefs gezwungen wurden, an diesem Betrug teilzunehmen. Ich habe von einer Frau gelesen, die ihren Job verloren hat, nur weil sie sich an die Anweisungen ihres Chefs gehalten hat. Diese arme Frau war nur betroffen, weil die Leute Betrüger sein wollten.\n",
      "score: 3.7778862\n",
      "Distress:\n",
      "Error score: 0.0\n"
     ]
    }
   ],
   "source": [
    "data_de = pd.read_csv('t_data/test_data_de.tsv', sep='\\t')\n",
    "sen_de = data_de['essay'].tolist()\n",
    "pred_emp_de, pred_dis_de = predict_score(sen_de)\n",
    "get_scores(data_de,pred_emp_org, acu_emp, pred_dis_org, acu_dis,pred_emp_de, pred_dis_de)"
   ]
  },
  {
   "cell_type": "code",
   "execution_count": 20,
   "metadata": {},
   "outputs": [
    {
     "name": "stdout",
     "output_type": "stream",
     "text": [
      "Pearson Fution empathy: 0.2555067317778482\n",
      "Pearson Stack distress: 0.038610883305893254\n",
      "Empathy:\n",
      "Error score: 0.040740740740740744\n",
      "I just read an article about a democrat running for office. It talked about \"if Hillary won the election\" How can people be so ignorant. If Hillary won the election America would be in a much worse situation than it is currently. It just amazes me what they focus their elections on. Ok, guns kill people...whatever Democrats kill babies. Why has nobody been bright enough to realize that? I think the country is slowly becoming retarded.\n",
      "score: 3.715505\n",
      "Μόλις διάβασα ένα άρθρο για έναν δημοκράτη που διεκδικεί το αξίωμα. Μίλησε για το \"αν η Χίλαρι κέρδιζε τις εκλογές\" Πώς μπορεί οι άνθρωποι να είναι τόσο αδαείς. Εάν η Χίλαρι κέρδιζε τις εκλογές, η Αμερική θα βρισκόταν σε πολύ χειρότερη κατάσταση από αυτή που βρίσκεται σήμερα. Απλώς με εκπλήσσει σε τι επικεντρώνουν τις εκλογές τους. Εντάξει, τα όπλα σκοτώνουν ανθρώπους...ό,τι οι Δημοκρατικοί σκοτώνουν μωρά. Γιατί κανείς δεν ήταν αρκετά ευφυής για να το συνειδητοποιήσει; Νομίζω ότι η χώρα καθυστερεί σιγά σιγά.\n",
      "score: 3.7988899\n",
      "Stories like these break my heart, could you imagine loving someone so much that you think you can't live without them and you kill them and then kill yourself. I can't imagine the hurt and pain that was in that house that day. I wonder if it was money trouble or kid trouble that caused this tragedy. Makes me wonder what was so bad that you had to commit murder and suicide.\n",
      "score: 3.721335\n",
      "Ιστορίες σαν αυτές μου ραγίζουν την καρδιά, θα μπορούσες να φανταστείς να αγαπάς κάποιον τόσο πολύ που να νομίζεις ότι δεν μπορείς να ζήσεις χωρίς αυτόν και να τον σκοτώσεις και μετά να αυτοκτονήσεις. Δεν μπορώ να φανταστώ τον πόνο και τον πόνο που ήταν σε εκείνο το σπίτι εκείνη την ημέρα. Αναρωτιέμαι αν ήταν πρόβλημα με τα χρήματα ή τα προβλήματα των παιδιών που προκάλεσαν αυτήν την τραγωδία. Με κάνει να αναρωτιέμαι τι ήταν τόσο κακό που έπρεπε να διαπράξεις φόνο και αυτοκτονία.\n",
      "score: 3.7868657\n",
      "I just read that a chain of for profit schools got shut down. Good riddance honestly. Things like education, prisons, healthcare, etc. shouldn't be for profit. They were probably taking advantage of young people, so they deserve to be shut down. They were using public funds on top of that. Like why should the school receive tax payer money if they're profiting?\n",
      "score: 3.720906\n",
      "Μόλις διάβασα ότι μια αλυσίδα κερδοσκοπικών σχολείων έκλεισε. Καλή απαλλαγή ειλικρινά. Πράγματα όπως η εκπαίδευση, οι φυλακές, η υγειονομική περίθαλψη κ.λπ. δεν πρέπει να είναι για κέρδος. Μάλλον εκμεταλλεύονταν τους νέους, οπότε τους αξίζει να κλείσουν. Επιπλέον, χρησιμοποιούσαν δημόσιους πόρους. Όπως γιατί πρέπει το σχολείο να λαμβάνει χρήματα από τους φορολογούμενους εάν έχουν κέρδος;\n",
      "score: 3.799412\n",
      "It is sad when a court cannot come to a sound decision on the guilt or innocence of someone.  I would lean towards guilty since the suspect ordered the drinks and that cyanide would be a common positon.  There also seems to be a motive.   They only scenario I could see is if a staff member slipped it, but that seems unlikely.  I feel bad for the family for suddenly losng someone like that\n",
      "score: 3.721022\n",
      "Είναι λυπηρό όταν ένα δικαστήριο δεν μπορεί να λάβει μια ορθή απόφαση σχετικά με την ενοχή ή την αθωότητα κάποιου. Θα έκλινα προς το μέρος του ένοχου μιας και ο ύποπτος παρήγγειλε τα ποτά και ότι το κυάνιο θα ήταν μια κοινή θέση. Φαίνεται επίσης ότι υπάρχει ένα κίνητρο. Το μόνο σενάριο που μπορούσα να δω είναι αν κάποιο μέλος του προσωπικού το γλίστρησε, αλλά αυτό φαίνεται απίθανο. Νιώθω άσχημα για την οικογένεια που έχασα ξαφνικά κάποιον τέτοιο\n",
      "score: 3.8006108\n",
      "We always say that our government is corrupt, but at least it's not like this lawlessness.  I don't know how people could think they could live these types of life styles and not succumb to the violence they foster.  I feel bad for any families that were innocently involved in the crimes surrounding these people.  It's sad.\n",
      "score: 3.7304165\n",
      "Λέμε πάντα ότι η κυβέρνησή μας είναι διεφθαρμένη, αλλά τουλάχιστον δεν είναι σαν αυτή την ανομία. Δεν ξέρω πώς θα μπορούσαν οι άνθρωποι να σκεφτούν ότι θα μπορούσαν να ζήσουν τέτοιου είδους τρόπους ζωής και να μην υποκύψουν στη βία που καλλιεργούν. Νιώθω άσχημα για όποιες οικογένειες συμμετείχαν αθώα στα εγκλήματα γύρω από αυτούς τους ανθρώπους. Είναι λυπηρό.\n",
      "score: 3.7920697\n",
      "Distress:\n",
      "Error score: 0.0\n"
     ]
    }
   ],
   "source": [
    "data_el = pd.read_csv('t_data/test_data_el.tsv', sep='\\t')\n",
    "sen_el = data_el['essay'].tolist()\n",
    "pred_emp_el, pred_dis_el = predict_score(sen_el)\n",
    "get_scores(data_el,pred_emp_org, acu_emp, pred_dis_org, acu_dis,pred_emp_el, pred_dis_el)"
   ]
  },
  {
   "cell_type": "code",
   "execution_count": 21,
   "metadata": {},
   "outputs": [
    {
     "name": "stdout",
     "output_type": "stream",
     "text": [
      "Pearson Fution empathy: 0.21890880409974495\n",
      "Pearson Stack distress: 0.09899184397240737\n",
      "Empathy:\n",
      "Error score: 0.15185185185185185\n",
      "That was a very long read. My take is the usual dealing with businesses like this. Any research not done by a neutral third party can't be relied on because it could be biased. Concern is legitimate in this case before starting the project. The explanation about what the toxin can do felt a little vague for most of the paper.\n",
      "score: 3.7173479\n",
      "वह बहुत लंबा पढ़ा गया था। मैं इस तरह के व्यवसायों के साथ सामान्य व्यवहार करना चाहता हूं। तटस्थ तृतीय पक्ष द्वारा नहीं किए गए किसी भी शोध पर भरोसा नहीं किया जा सकता क्योंकि यह पक्षपातपूर्ण हो सकता है। इस मामले में परियोजना शुरू करने से पहले चिंता जायज है। अधिकांश पेपर के लिए विष क्या कर सकता है, इसके बारे में स्पष्टीकरण थोड़ा अस्पष्ट लगा।\n",
      "score: 3.7815912\n",
      "Extra extra fatties whine about not being treated like real people. Wah people expect us to lose weight before they'll take us seriously. Whats up with modern culture and these obese wastes of space expecting the world to just accept that they're \"healthy and fat\" and all the other crap they run around spewing? Either Way this article about how \"doctors don't take fat people seriously' is as long as these fatties are wide, have fun reading it.\n",
      "score: 3.7320898\n",
      "अतिरिक्त अतिरिक्त मोटे लोग वास्तविक लोगों की तरह व्यवहार नहीं किए जाने के बारे में शिकायत करते हैं। वाह लोग हमें गंभीरता से लेने से पहले वजन कम करने की उम्मीद करते हैं। आधुनिक संस्कृति और अंतरिक्ष के इन मोटे कचरे के साथ क्या हो रहा है जिससे दुनिया को उम्मीद है कि वे \"स्वस्थ और मोटे\" हैं और अन्य सभी बकवास जो वे उगलते हैं? किसी भी तरह से इस लेख के बारे में कि कैसे \"डॉक्टर मोटे लोगों को गंभीरता से नहीं लेते हैं\" जब तक कि ये मोटा चौड़ा है, इसे पढ़ने में मजा आता है।\n",
      "score: 3.8091176\n",
      "I just read an article about a shooting in North Philly. Two men are in critical condition right now. I sure hope the victims survive the shooting. It is like the world is getting worse and worse everyday now. The most common theme on social media is death. What really bothers me is it is always good people who are killed. You never hear about a loser getting killed.\n",
      "score: 3.7164333\n",
      "मैंने अभी-अभी नॉर्थ फिली में शूटिंग के बारे में एक लेख पढ़ा। अभी दो युवकों की हालत गंभीर बनी हुई है। मुझे यकीन है कि पीड़ितों को शूटिंग से बचने की उम्मीद है। यह ऐसा है जैसे दुनिया अब दिन प्रतिदिन बद से बदतर होती जा रही है। सोशल मीडिया पर सबसे आम विषय मौत है। जो बात मुझे वास्तव में परेशान करती है वह यह है कि हमेशा अच्छे लोग ही मारे जाते हैं। आपने कभी किसी हारे हुए व्यक्ति के मारे जाने के बारे में नहीं सुना होगा।\n",
      "score: 3.7914584\n",
      "In case we all needed yet another reminder that, yes, climate change is real and, yes, we are really screwed if we don't do something about it immediately. Here in the US we have stupid fucking Trump who pulled out of the Paris agreement - we won't make any progress on this until that moron - and all those climate change denying Republicans - are out of the White House.\n",
      "score: 3.71689\n",
      "यदि हम सभी को एक और अनुस्मारक की आवश्यकता है कि, हाँ, जलवायु परिवर्तन वास्तविक है और, हाँ, यदि हम इसके बारे में तुरंत कुछ नहीं करते हैं, तो हम वास्तव में डरे हुए हैं। यहाँ अमेरिका में हमारे पास मूर्ख कमबख्त ट्रम्प हैं जिन्होंने पेरिस समझौते से हाथ खींच लिए हैं - हम इस पर तब तक कोई प्रगति नहीं करेंगे जब तक कि वह मूर्ख - और वे सभी जलवायु परिवर्तन जो रिपब्लिकन को नकारते हैं - व्हाइट हाउस से बाहर हैं।\n",
      "score: 3.814484\n",
      "I'm still on the fence regarding climate change.  I understand that Obama supports that something needs to change, but there is other evidence out there that shows that this is naturally occurring and something that will right itself in time.  I do agree that we need to cut back on our excessive use of electricity.  A little knowledge and everyday self-awareness would likely help us go in the right direction.  I just don't think it's a big cause of concern right now personally.\n",
      "score: 3.722685\n",
      "जलवायु परिवर्तन को लेकर मैं अभी भी बाड़ पर हूं। मैं समझता हूं कि ओबामा इस बात का समर्थन करते हैं कि कुछ बदलने की जरूरत है, लेकिन वहां अन्य सबूत हैं जो दिखाते हैं कि यह स्वाभाविक रूप से घटित हो रहा है और कुछ ऐसा है जो समय के साथ अपने आप ठीक हो जाएगा। मैं इस बात से सहमत हूं कि हमें बिजली के अत्यधिक उपयोग में कटौती करने की आवश्यकता है। थोड़ा सा ज्ञान और रोज़मर्रा की आत्म-जागरूकता हमें सही दिशा में जाने में मदद करेगी। मुझे नहीं लगता कि यह अभी व्यक्तिगत रूप से चिंता का एक बड़ा कारण है।\n",
      "score: 3.812999\n",
      "Distress:\n",
      "Error score: 0.0\n"
     ]
    }
   ],
   "source": [
    "data_hi = pd.read_csv('t_data/test_data_hi.tsv', sep='\\t')\n",
    "sen_hi = data_hi['essay'].tolist()\n",
    "pred_emp_hi, pred_dis_hi = predict_score(sen_hi)\n",
    "get_scores(data_hi,pred_emp_org, acu_emp, pred_dis_org, acu_dis,pred_emp_hi, pred_dis_hi)"
   ]
  },
  {
   "cell_type": "code",
   "execution_count": 22,
   "metadata": {},
   "outputs": [
    {
     "name": "stdout",
     "output_type": "stream",
     "text": [
      "Pearson Fution empathy: 0.22677398312374325\n",
      "Pearson Stack distress: 0.036699628877294915\n",
      "Empathy:\n",
      "Error score: 0.2111111111111111\n",
      "Timeshare owners have long needed to be dealt with in this manner. I feel like overall there are quite a bit of them that are just not good people overall that control these timeshare contracts. Trying to relinquish them is a pain in the butt and it should be nipped or we cant do things right in my honest opinion.\n",
      "score: 3.7107227\n",
      "टाइमशेयर मालिकहरूलाई यस तरिकामा व्यवहार गर्न लामो समय आवश्यक छ। मलाई लाग्छ कि समग्रमा तिनीहरूमध्ये धेरै थोरै छन् जुन यी टाइमसेयर अनुबंधहरू नियन्त्रण गर्ने समग्रमा राम्रो व्यक्तिहरू छैनन्। तिनीहरूलाई त्याग्ने प्रयास गर्नु नितम्बको दुखाइ हो र यसलाई निपाउनु पर्छ वा हामी मेरो इमानदार विचारमा चीजहरू गर्न सक्दैनौं।\n",
      "score: 3.7751215\n",
      "I just read this story about these two idiot divers. It's such a pointless and selfish hobby. Oooh, I get to see a dark cave. That's what's drones are for. They've ruined their families lives because they wanted to look at a dark cave underwater. It makes me so angry that people could be so selfish and hurtful.\n",
      "score: 3.7318325\n",
      "मैले भर्खर यी दुई मूर्ख गोताखोरहरूको बारेमा यो कथा पढें। यो यस्तो व्यर्थ र स्वार्थी शौक हो। ओह, म अँध्यारो गुफा देख्छु। ड्रोनहरू त्यसका लागि हुन्। तिनीहरूले आफ्नो परिवारको जीवन बर्बाद गरेका छन् किनभने तिनीहरू पानीमुनि अँध्यारो गुफा हेर्न चाहन्थे। यसले मलाई यति रिस उठाउँछ कि मानिसहरू यति स्वार्थी र हानिकारक हुन सक्छन्।\n",
      "score: 3.8072052\n",
      "Some of the phrases in this article really made me fear for the state of our country. Some people really really want to degrade others and pinhole women, and it's becoming more and more socially acceptable. Look at our president and some of the things he has said! I don't think people in authority especially should be given free passes anymore or the excuse to say \"just words\"\n",
      "score: 3.7188997\n",
      "यस लेखका केही वाक्यांशहरूले मलाई हाम्रो देशको अवस्थाको लागि साँच्चै डराएको छ। केही व्यक्तिहरू वास्तवमा अरूलाई अपमानित गर्न र महिलाहरूलाई पिनहोल गर्न चाहन्छन्, र यो अधिक र अधिक सामाजिक रूपमा स्वीकार्य हुँदै गइरहेको छ। हाम्रा राष्ट्रपति र उनले भनेका केही कुराहरू हेर्नुहोस्! मलाई लाग्दैन कि अख्तियारमा रहेका व्यक्तिहरूलाई अब नि: शुल्क पासहरू दिइनु पर्छ वा \"केवल शब्दहरू\" भन्नको लागि बहाना दिनुपर्छ।\n",
      "score: 3.7837367\n",
      "Hey, Did you just see the shooting at the airport?  It really is sad and makes it really hard for me to feel comfortable going out and about with others. Why do shootings seem to happen when in large crowds? Whatever happen to the outlaw old wild west where the only ones that could have been in harm's way are the to targets. I feel really bad for both parties but I am curious what was the reason behind the shooting\n",
      "score: 3.7177048\n",
      "हे, के तपाईंले भर्खरै एयरपोर्टमा सुटिङ हेर्नुभयो? यो साँच्चै दु: खी छ र यो साँच्चै गाह्रो बनाउँछ मलाई बाहिर जान र अरूसँगको बारेमा सहज महसुस गर्न। ठूलो भीडमा गोली हानाहान किन हुन्छ ? जुनसुकै अपराधी पुरानो जंगली पश्चिम जहाँ हानिको बाटोमा हुन सक्ने मात्र लक्ष्यहरू हुन्। मलाई दुबै पक्षको लागि साँच्चै नराम्रो लाग्छ तर म उत्सुक छु कि शूटिंग पछाडिको कारण के थियो\n",
      "score: 3.7933536\n",
      "Just read an article about Mariah Carey, not sure why as it seemed pretty gossipy. Apparently she is on a yacht or something with someone who made her ex pretty jealous. Seems like the ex was right on target with his read of the guy. Good for Mariah for moving on I guess. Hope the sushi was good, watch out for intestinal parasites!\n",
      "score: 3.7097752\n",
      "केवल मारिया केरीको बारेमा एउटा लेख पढ्नुहोस्, किन यो राम्रो गफ जस्तो देखिन्छ भनेर निश्चित छैन। स्पष्ट रूपमा उनी डुंगामा छिन् वा कसैसँग छ जसले उनको पूर्वलाई धेरै ईर्ष्यालु बनायो। यस्तो देखिन्छ कि पूर्व केटाको पढेर लक्ष्यमा सही थियो। मारियाको लागि राम्रो छ मलाई लाग्छ। आशा छ सुशी राम्रो थियो, आन्द्रा परजीवीहरु को लागी सावधान रहनुहोस्!\n",
      "score: 3.7727578\n",
      "Distress:\n",
      "Error score: 0.0\n"
     ]
    }
   ],
   "source": [
    "data_nel = pd.read_csv('t_data/test_data_nel.tsv', sep='\\t')\n",
    "sen_nel = data_nel['essay'].tolist()\n",
    "pred_emp_nel, pred_dis_nel = predict_score(sen_nel)\n",
    "get_scores(data_nel,pred_emp_org, acu_emp, pred_dis_org, acu_dis,pred_emp_nel, pred_dis_nel)"
   ]
  },
  {
   "cell_type": "code",
   "execution_count": 23,
   "metadata": {},
   "outputs": [
    {
     "name": "stdout",
     "output_type": "stream",
     "text": [
      "Pearson Fution empathy: 0.2530193939842204\n",
      "Pearson Stack distress: -0.016110945711100003\n",
      "Empathy:\n",
      "Error score: 0.040740740740740744\n",
      "Another attack on a mall - while no one was actually hurt, this is just an ongoing trend that concerns me so much.  It's gottten to where I Feel like nowhere we go is safe anymore.  I don't like going to crowded places anymore or anywhere that there are a lot of people.  It seems like it's more likely to happen there plus it's always some crazy immigrant.\n",
      "score: 3.708113\n",
      "Shambulio lingine kwenye duka la maduka - wakati hakuna mtu aliyejeruhiwa, huu ni mtindo unaoendelea ambao unanihusu sana. Imefika ambapo Ninahisi kama hakuna mahali tunapoenda ni salama tena. Sipendi tena kwenda sehemu zenye watu wengi au mahali popote ambapo kuna watu wengi. Inaonekana kuna uwezekano mkubwa wa kutokea huko pamoja na kuwa kila mara ni wahamiaji wazimu.\n",
      "score: 3.7800138\n",
      "We're really screwed about climate change, aren't we? I can't believe that there are real people that make up a sizable part of our population that are this stupid. I can't believe our president is this stupid. I wouldn't be sad if every conservative just dropped dead. The world would be a better place.\n",
      "score: 3.7086964\n",
      "Kweli tumehangaika na mabadiliko ya hali ya hewa, sivyo? Siwezi kuamini kwamba kuna watu halisi ambao wanaunda sehemu kubwa ya idadi ya watu ambao ni wajinga kiasi hiki. Siwezi kuamini kuwa rais wetu ni mjinga kiasi hiki. Nisingehuzunika ikiwa kila kihafidhina angekufa tu. Dunia ingekuwa mahali pazuri zaidi.\n",
      "score: 3.7736804\n",
      "Extra extra fatties whine about not being treated like real people. Wah people expect us to lose weight before they'll take us seriously. Whats up with modern culture and these obese wastes of space expecting the world to just accept that they're \"healthy and fat\" and all the other crap they run around spewing? Either Way this article about how \"doctors don't take fat people seriously' is as long as these fatties are wide, have fun reading it.\n",
      "score: 3.7320898\n",
      "Mafuta ya ziada yanalalamika kuhusu kutotendewa kama watu halisi. Wah watu wanatarajia tupunguze uzito kabla ya kutuchukulia kwa uzito. Vipi kuhusu tamaduni za kisasa na upotevu huu uliokithiri wa nafasi ukitarajia ulimwengu kukubali tu kwamba wao ni \"afya na wanene\" na upuuzi mwingine wote wanaozunguka kutapika? Kwa vyovyote vile makala hii kuhusu jinsi \"madaktari hawachukulii watu wanene kwa uzito\" ni mradi tu mafuta haya ni mapana, furahiya kuisoma.\n",
      "score: 3.821655\n",
      "I do think that this male birth control for men should be a thing. Men should be able to decide if those risks are worth the protection. Men should have the ability to take birth control in their own hands, as they never know if a woman is lieing about taking her's or if they have been taking it properly. An added protection could never hurt for both parties. I, however, do not feel very sympathetic. I think women are always looking for things to complain about, and this is just another thing. Women, get over it. If your side effects from your birth control are too strong, then just don't have sex.\n",
      "score: 3.7523124\n",
      "Nadhani udhibiti huu wa uzazi kwa wanaume unapaswa kuwa jambo. Wanaume wanapaswa kuwa na uwezo wa kuamua kama hatari hizo zinafaa kulindwa. Wanaume wanapaswa kuwa na uwezo wa kuchukua udhibiti wa kuzaliwa kwa mikono yao wenyewe, kwani hawajui kama mwanamke anadanganya kuhusu kuchukua yake au kama amekuwa akiichukua ipasavyo. Ulinzi ulioongezwa hauwezi kamwe kuumiza pande zote mbili. Mimi, hata hivyo, sijisikii huruma sana. Nadhani wanawake daima wanatafuta mambo ya kulalamika, na hili ni jambo lingine tu. Wanawake, tushinde. Ikiwa athari zako kutoka kwa udhibiti wako wa kuzaliwa ni kali sana, basi usifanye ngono.\n",
      "score: 3.8199005\n",
      "People are so selfish in this world. It makes me so sick. Like why are you even married if you don't want to be with your wife? Why would you destroy a little boys life because you are too distracted by women? This guy has a lot of things going wrong for him but it's that I just read an article about a dad leaving his 22 month old in a hot car and the article has to focus on how the dad was cheating on his wife instead of focusing on how sad it is that a little boy died!\n",
      "score: 3.740271\n",
      "Watu wana ubinafsi sana katika dunia hii. Inanifanya niwe mgonjwa sana. Kwa nini hata umeolewa kama hutaki kuwa na mkeo? Kwa nini unaweza kuharibu maisha ya wavulana wadogo kwa sababu umekengeushwa sana na wanawake? Huyu jamaa ana mambo mengi yanamuendea vibaya lakini ni kwamba nimesoma makala moja hivi kuhusu baba kumuacha mtoto wake wa miezi 22 kwenye gari la moto na makala hiyo inazingatia jinsi baba huyo alivyokuwa akimdanganya mke wake badala ya kuzingatia. Inasikitisha sana kwamba mtoto mdogo alikufa!\n",
      "score: 3.8007793\n",
      "Distress:\n",
      "Error score: 0.0\n"
     ]
    }
   ],
   "source": [
    "data_sw = pd.read_csv('t_data/test_data_sw.tsv', sep='\\t')\n",
    "sen_sw = data_sw['essay'].tolist()\n",
    "pred_emp_sw, pred_dis_sw = predict_score(sen_sw)\n",
    "get_scores(data_sw,pred_emp_org, acu_emp, pred_dis_org, acu_dis,pred_emp_sw, pred_dis_sw)"
   ]
  },
  {
   "cell_type": "code",
   "execution_count": 24,
   "metadata": {},
   "outputs": [
    {
     "name": "stdout",
     "output_type": "stream",
     "text": [
      "Pearson Fution empathy: 0.2229932063310027\n",
      "Pearson Stack distress: 0.1504100906256847\n",
      "Empathy:\n",
      "Error score: 0.18888888888888888\n",
      "I just read that a chain of for profit schools got shut down. Good riddance honestly. Things like education, prisons, healthcare, etc. shouldn't be for profit. They were probably taking advantage of young people, so they deserve to be shut down. They were using public funds on top of that. Like why should the school receive tax payer money if they're profiting?\n",
      "score: 3.720906\n",
      "లాభాల కోసం పాఠశాలలు మూసివేయబడిందని నేను ఇప్పుడే చదివాను. నిజాయితీగా మంచి రిడాన్స్. విద్య, జైళ్లు, వైద్యం తదితర అంశాలు లాభాపేక్షతో ఉండకూడదు. వారు బహుశా యువకుల ప్రయోజనాన్ని పొందుతున్నారు, కాబట్టి వారు మూసివేయబడటానికి అర్హులు. పైగా ప్రజాధనాన్ని వినియోగించుకున్నారు. లాభదాయకంగా ఉంటే పాఠశాల పన్ను చెల్లింపుదారుల డబ్బును ఎందుకు స్వీకరించాలి?\n",
      "score: 3.7979488\n",
      "So I just read an article about a new lawsuit that is happening. There is a group of women who are suing L'Oréal. Apparently after using one of their prosucts that was supposed to give them nice and thick hair it actually made them go bald and left them with blisters and stuff on their heads. How messed up is that? Imagine using some hair product and then having it ruin your head. I hope they win the suit and get all of the 5 million that they are asking for. If you know anyone who uses L'Oréal you may want to advise them against it in the future.\n",
      "score: 3.7363327\n",
      "కాబట్టి నేను ఇప్పుడు జరుగుతున్న కొత్త దావా గురించిన కథనాన్ని చదివాను. L'Oréalపై దావా వేసే మహిళల సమూహం ఉంది. స్పష్టంగా, వారికి మంచి మరియు దట్టమైన జుట్టును అందించాల్సిన వారి ఉత్పత్తులలో ఒకదాన్ని ఉపయోగించిన తర్వాత అది వారికి బట్టతల వచ్చేలా చేసింది మరియు వారి తలపై బొబ్బలు మరియు వస్తువులను వదిలివేసింది. అది ఎంత గందరగోళంగా ఉంది? కొన్ని హెయిర్ ప్రొడక్ట్‌లను ఉపయోగించి, ఆపై అది మీ తలని నాశనం చేస్తుందని ఊహించుకోండి. వారు దావా గెలిచి, వారు అడుగుతున్న మొత్తం 5 మిలియన్లను పొందుతారని నేను ఆశిస్తున్నాను. L'Oréalని ఉపయోగించే ఎవరైనా మీకు తెలిస్తే, మీరు భవిష్యత్తులో దానికి వ్యతిరేకంగా వారికి సలహా ఇవ్వవచ్చు.\n",
      "score: 3.8039968\n",
      "A little boy had fallen out of window because he was not being watched. It is important that children area always watched because bad things can happen in a split second and its important that the parents always have eyes on their kids because it's that one second that it takes for the kids to get hurt or worse die I hope these people learned an importat listen and that the child is  ok and he can live a long life.\n",
      "score: 3.7182043\n",
      "ఒక చిన్న పిల్లవాడు తనను చూడనందున కిటికీలో నుండి పడిపోయాడు. పిల్లల ప్రాంతాన్ని ఎల్లప్పుడూ చూడటం చాలా ముఖ్యం ఎందుకంటే చెడు విషయాలు ఒక సెకనులో జరుగుతాయి మరియు తల్లిదండ్రులు తమ పిల్లలపై ఎల్లప్పుడూ దృష్టి పెట్టడం ముఖ్యం ఎందుకంటే పిల్లలు గాయపడటానికి లేదా అధ్వాన్నంగా చనిపోవడానికి ఒక సెకను మాత్రమే పడుతుంది. ఒక ఇంపార్టట్ వినండి మరియు పిల్లవాడు బాగానే ఉన్నాడని మరియు అతను చాలా కాలం జీవించగలడని నేర్చుకున్నాడు.\n",
      "score: 3.7980123\n",
      "I just read an article about a democrat running for office. It talked about \"if Hillary won the election\" How can people be so ignorant. If Hillary won the election America would be in a much worse situation than it is currently. It just amazes me what they focus their elections on. Ok, guns kill people...whatever Democrats kill babies. Why has nobody been bright enough to realize that? I think the country is slowly becoming retarded.\n",
      "score: 3.715505\n",
      "నేను ఇప్పుడే ఒక డెమోక్రాట్ పదవికి పోటీ చేస్తున్న కథనాన్ని చదివాను. హిల్లరీ ఎన్నికల్లో గెలిస్తే ప్రజలు ఇంత అమాయకులుగా ఎలా ఉంటారని అందులో పేర్కొన్నారు. ఒకవేళ హిల్లరీ ఎన్నికల్లో గెలిస్తే అమెరికా పరిస్థితి ఇప్పుడున్న దానికంటే చాలా దారుణంగా ఉంటుంది. వారు తమ ఎన్నికలపై దృష్టి సారించడం నన్ను ఆశ్చర్యపరుస్తుంది. సరే, తుపాకులు మనుషులను చంపేస్తాయి... డెమొక్రాట్లు ఏదైతేనేం పసిపిల్లలను చంపేస్తారు. దానిని గ్రహించేంత ప్రకాశవంతంగా ఎవరూ ఎందుకు కనిపించలేదు? దేశం మెల్లమెల్లగా రిటార్డెడ్‌గా మారుతుందని నా అభిప్రాయం.\n",
      "score: 3.7975872\n",
      "It is sad when a court cannot come to a sound decision on the guilt or innocence of someone.  I would lean towards guilty since the suspect ordered the drinks and that cyanide would be a common positon.  There also seems to be a motive.   They only scenario I could see is if a staff member slipped it, but that seems unlikely.  I feel bad for the family for suddenly losng someone like that\n",
      "score: 3.721022\n",
      "ఒకరి అపరాధం లేదా అమాయకత్వంపై న్యాయస్థానం సరైన నిర్ణయానికి రాలేకపోవడం విచారకరం. అనుమానితుడు డ్రింక్స్ ఆర్డర్ చేసినందున మరియు సైనైడ్ ఒక సాధారణ పోజిటన్ అయినందున నేను అపరాధం వైపు మొగ్గు చూపుతాను. ఉద్దేశ్యం కూడా ఉన్నట్లు తెలుస్తోంది. ఒక సిబ్బంది జారిపడితే వారు మాత్రమే నేను చూడగలిగే దృశ్యం, కానీ అది అసంభవం అనిపిస్తుంది. అలాంటి వ్యక్తిని హఠాత్తుగా కోల్పోయినందుకు నేను కుటుంబం కోసం బాధపడ్డాను\n",
      "score: 3.7926967\n",
      "Distress:\n",
      "Error score: 0.0\n"
     ]
    }
   ],
   "source": [
    "data_tel = pd.read_csv('t_data/test_data_tel.tsv', sep='\\t')\n",
    "sen_tel = data_tel['essay'].tolist()\n",
    "pred_emp_tel, pred_dis_tel = predict_score(sen_tel)\n",
    "get_scores(data_tel,pred_emp_org, acu_emp, pred_dis_org, acu_dis,pred_emp_tel, pred_dis_tel)"
   ]
  }
 ],
 "metadata": {
  "colab": {
   "provenance": []
  },
  "kernelspec": {
   "display_name": "Python 3 (ipykernel)",
   "language": "python",
   "name": "python3"
  },
  "language_info": {
   "codemirror_mode": {
    "name": "ipython",
    "version": 3
   },
   "file_extension": ".py",
   "mimetype": "text/x-python",
   "name": "python",
   "nbconvert_exporter": "python",
   "pygments_lexer": "ipython3",
   "version": "3.9.9"
  }
 },
 "nbformat": 4,
 "nbformat_minor": 4
}
