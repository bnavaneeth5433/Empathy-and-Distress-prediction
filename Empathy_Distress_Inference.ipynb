{
  "cells": [
    {
      "cell_type": "markdown",
      "id": "1da3c678",
      "metadata": {
        "id": "1da3c678"
      },
      "source": [
        "# Inference with EmotionStack"
      ]
    },
    {
      "cell_type": "code",
      "source": [
        "from google.colab import drive\n",
        "drive.mount('/content/drive')"
      ],
      "metadata": {
        "colab": {
          "base_uri": "https://localhost:8080/"
        },
        "id": "K66BgBYi-0nb",
        "outputId": "52efeb82-efc8-4c10-eae1-7176d70ccd03"
      },
      "id": "K66BgBYi-0nb",
      "execution_count": null,
      "outputs": [
        {
          "output_type": "stream",
          "name": "stdout",
          "text": [
            "Drive already mounted at /content/drive; to attempt to forcibly remount, call drive.mount(\"/content/drive\", force_remount=True).\n"
          ]
        }
      ]
    },
    {
      "cell_type": "code",
      "source": [
        "!pip install -U adapter-transformers"
      ],
      "metadata": {
        "colab": {
          "base_uri": "https://localhost:8080/"
        },
        "id": "zgOvyIB2_Ftv",
        "outputId": "13fd3f2a-0bd9-4672-b895-e25f5200843f"
      },
      "id": "zgOvyIB2_Ftv",
      "execution_count": null,
      "outputs": [
        {
          "output_type": "stream",
          "name": "stdout",
          "text": [
            "Looking in indexes: https://pypi.org/simple, https://us-python.pkg.dev/colab-wheels/public/simple/\n",
            "Collecting adapter-transformers\n",
            "  Downloading adapter_transformers-3.2.1-py3-none-any.whl (6.4 MB)\n",
            "\u001b[2K     \u001b[90m━━━━━━━━━━━━━━━━━━━━━━━━━━━━━━━━━━━━━━━━\u001b[0m \u001b[32m6.4/6.4 MB\u001b[0m \u001b[31m97.7 MB/s\u001b[0m eta \u001b[36m0:00:00\u001b[0m\n",
            "\u001b[?25hRequirement already satisfied: filelock in /usr/local/lib/python3.10/dist-packages (from adapter-transformers) (3.12.0)\n",
            "Collecting huggingface-hub<1.0,>=0.11.0 (from adapter-transformers)\n",
            "  Downloading huggingface_hub-0.14.1-py3-none-any.whl (224 kB)\n",
            "\u001b[2K     \u001b[90m━━━━━━━━━━━━━━━━━━━━━━━━━━━━━━━━━━━━━━\u001b[0m \u001b[32m224.5/224.5 kB\u001b[0m \u001b[31m26.9 MB/s\u001b[0m eta \u001b[36m0:00:00\u001b[0m\n",
            "\u001b[?25hRequirement already satisfied: numpy>=1.17 in /usr/local/lib/python3.10/dist-packages (from adapter-transformers) (1.22.4)\n",
            "Requirement already satisfied: packaging>=20.0 in /usr/local/lib/python3.10/dist-packages (from adapter-transformers) (23.1)\n",
            "Requirement already satisfied: pyyaml>=5.1 in /usr/local/lib/python3.10/dist-packages (from adapter-transformers) (6.0)\n",
            "Requirement already satisfied: regex!=2019.12.17 in /usr/local/lib/python3.10/dist-packages (from adapter-transformers) (2022.10.31)\n",
            "Requirement already satisfied: requests in /usr/local/lib/python3.10/dist-packages (from adapter-transformers) (2.27.1)\n",
            "Collecting tokenizers!=0.11.3,<0.14,>=0.11.1 (from adapter-transformers)\n",
            "  Downloading tokenizers-0.13.3-cp310-cp310-manylinux_2_17_x86_64.manylinux2014_x86_64.whl (7.8 MB)\n",
            "\u001b[2K     \u001b[90m━━━━━━━━━━━━━━━━━━━━━━━━━━━━━━━━━━━━━━━━\u001b[0m \u001b[32m7.8/7.8 MB\u001b[0m \u001b[31m110.1 MB/s\u001b[0m eta \u001b[36m0:00:00\u001b[0m\n",
            "\u001b[?25hRequirement already satisfied: tqdm>=4.27 in /usr/local/lib/python3.10/dist-packages (from adapter-transformers) (4.65.0)\n",
            "Requirement already satisfied: fsspec in /usr/local/lib/python3.10/dist-packages (from huggingface-hub<1.0,>=0.11.0->adapter-transformers) (2023.4.0)\n",
            "Requirement already satisfied: typing-extensions>=3.7.4.3 in /usr/local/lib/python3.10/dist-packages (from huggingface-hub<1.0,>=0.11.0->adapter-transformers) (4.5.0)\n",
            "Requirement already satisfied: urllib3<1.27,>=1.21.1 in /usr/local/lib/python3.10/dist-packages (from requests->adapter-transformers) (1.26.15)\n",
            "Requirement already satisfied: certifi>=2017.4.17 in /usr/local/lib/python3.10/dist-packages (from requests->adapter-transformers) (2022.12.7)\n",
            "Requirement already satisfied: charset-normalizer~=2.0.0 in /usr/local/lib/python3.10/dist-packages (from requests->adapter-transformers) (2.0.12)\n",
            "Requirement already satisfied: idna<4,>=2.5 in /usr/local/lib/python3.10/dist-packages (from requests->adapter-transformers) (3.4)\n",
            "Installing collected packages: tokenizers, huggingface-hub, adapter-transformers\n",
            "Successfully installed adapter-transformers-3.2.1 huggingface-hub-0.14.1 tokenizers-0.13.3\n"
          ]
        }
      ]
    },
    {
      "cell_type": "code",
      "source": [
        "!pip install torch torchvision torchaudio -f https://download.pytorch.org/whl/cu111/torch_stable.html"
      ],
      "metadata": {
        "colab": {
          "base_uri": "https://localhost:8080/"
        },
        "id": "IPYiFsMk_Lza",
        "outputId": "1a2ee5a0-2d3d-4caa-ce64-334a443c2f22"
      },
      "id": "IPYiFsMk_Lza",
      "execution_count": null,
      "outputs": [
        {
          "output_type": "stream",
          "name": "stdout",
          "text": [
            "Looking in indexes: https://pypi.org/simple, https://us-python.pkg.dev/colab-wheels/public/simple/\n",
            "Looking in links: https://download.pytorch.org/whl/cu111/torch_stable.html\n",
            "Requirement already satisfied: torch in /usr/local/lib/python3.10/dist-packages (2.0.0+cu118)\n",
            "Requirement already satisfied: torchvision in /usr/local/lib/python3.10/dist-packages (0.15.1+cu118)\n",
            "Requirement already satisfied: torchaudio in /usr/local/lib/python3.10/dist-packages (2.0.1+cu118)\n",
            "Requirement already satisfied: filelock in /usr/local/lib/python3.10/dist-packages (from torch) (3.12.0)\n",
            "Requirement already satisfied: typing-extensions in /usr/local/lib/python3.10/dist-packages (from torch) (4.5.0)\n",
            "Requirement already satisfied: sympy in /usr/local/lib/python3.10/dist-packages (from torch) (1.11.1)\n",
            "Requirement already satisfied: networkx in /usr/local/lib/python3.10/dist-packages (from torch) (3.1)\n",
            "Requirement already satisfied: jinja2 in /usr/local/lib/python3.10/dist-packages (from torch) (3.1.2)\n",
            "Requirement already satisfied: triton==2.0.0 in /usr/local/lib/python3.10/dist-packages (from torch) (2.0.0)\n",
            "Requirement already satisfied: cmake in /usr/local/lib/python3.10/dist-packages (from triton==2.0.0->torch) (3.25.2)\n",
            "Requirement already satisfied: lit in /usr/local/lib/python3.10/dist-packages (from triton==2.0.0->torch) (16.0.3)\n",
            "Requirement already satisfied: numpy in /usr/local/lib/python3.10/dist-packages (from torchvision) (1.22.4)\n",
            "Requirement already satisfied: requests in /usr/local/lib/python3.10/dist-packages (from torchvision) (2.27.1)\n",
            "Requirement already satisfied: pillow!=8.3.*,>=5.3.0 in /usr/local/lib/python3.10/dist-packages (from torchvision) (8.4.0)\n",
            "Requirement already satisfied: MarkupSafe>=2.0 in /usr/local/lib/python3.10/dist-packages (from jinja2->torch) (2.1.2)\n",
            "Requirement already satisfied: urllib3<1.27,>=1.21.1 in /usr/local/lib/python3.10/dist-packages (from requests->torchvision) (1.26.15)\n",
            "Requirement already satisfied: certifi>=2017.4.17 in /usr/local/lib/python3.10/dist-packages (from requests->torchvision) (2022.12.7)\n",
            "Requirement already satisfied: charset-normalizer~=2.0.0 in /usr/local/lib/python3.10/dist-packages (from requests->torchvision) (2.0.12)\n",
            "Requirement already satisfied: idna<4,>=2.5 in /usr/local/lib/python3.10/dist-packages (from requests->torchvision) (3.4)\n",
            "Requirement already satisfied: mpmath>=0.19 in /usr/local/lib/python3.10/dist-packages (from sympy->torch) (1.3.0)\n"
          ]
        }
      ]
    },
    {
      "cell_type": "code",
      "execution_count": null,
      "id": "917ac4da",
      "metadata": {
        "id": "917ac4da"
      },
      "outputs": [],
      "source": [
        "from transformers import AutoConfig, AutoModelWithHeads\n",
        "import torch\n",
        "from transformers import RobertaTokenizer\n",
        "import transformers.adapters.composition as ac\n",
        "import pandas as pd\n",
        "from tqdm import tqdm\n",
        "from scipy.stats import pearsonr\n",
        "import random"
      ]
    },
    {
      "cell_type": "code",
      "execution_count": null,
      "id": "b200e9f9",
      "metadata": {
        "id": "b200e9f9"
      },
      "outputs": [],
      "source": [
        "val_data = pd.read_csv('/content/drive/MyDrive/NLP_final_pro/data/messages_dev_features_ready_for_WS_2022.tsv', sep='\\t')"
      ]
    },
    {
      "cell_type": "code",
      "execution_count": null,
      "id": "84657b45",
      "metadata": {
        "colab": {
          "base_uri": "https://localhost:8080/"
        },
        "id": "84657b45",
        "outputId": "7663a51c-6ce9-4db2-90d2-c8e551ff1637"
      },
      "outputs": [
        {
          "output_type": "stream",
          "name": "stderr",
          "text": [
            "/usr/local/lib/python3.10/dist-packages/transformers/adapters/models/roberta/adapter_model.py:274: FutureWarning: This class has been renamed to `RobertaAdapterModel` in v3. Please use the new class instead as this class might be removed in a future version.\n",
            "  warnings.warn(\n",
            "/usr/local/lib/python3.10/dist-packages/transformers/adapters/models/roberta/adapter_model.py:252: FutureWarning: This class has been renamed to `RobertaAdapterModel` in v3. Please use the new class instead as this class might be removed in a future version.\n",
            "  warnings.warn(\n",
            "Some weights of the model checkpoint at roberta-base were not used when initializing RobertaModelWithHeads: ['lm_head.decoder.weight', 'lm_head.layer_norm.weight', 'lm_head.dense.bias', 'lm_head.bias', 'lm_head.dense.weight', 'lm_head.layer_norm.bias']\n",
            "- This IS expected if you are initializing RobertaModelWithHeads from the checkpoint of a model trained on another task or with another architecture (e.g. initializing a BertForSequenceClassification model from a BertForPreTraining model).\n",
            "- This IS NOT expected if you are initializing RobertaModelWithHeads from the checkpoint of a model that you expect to be exactly identical (initializing a BertForSequenceClassification model from a BertForSequenceClassification model).\n",
            "Some weights of RobertaModelWithHeads were not initialized from the model checkpoint at roberta-base and are newly initialized: ['roberta.embeddings.position_ids']\n",
            "You should probably TRAIN this model on a down-stream task to be able to use it for predictions and inference.\n"
          ]
        }
      ],
      "source": [
        "tokenizer = RobertaTokenizer.from_pretrained(\"roberta-base\")\n",
        "\n",
        "config = AutoConfig.from_pretrained(\n",
        "    \"roberta-base\",\n",
        "    num_labels=1\n",
        ")\n",
        "\n",
        "model = AutoModelWithHeads.from_pretrained(\n",
        "    \"roberta-base\",\n",
        "    config=config,\n",
        ")"
      ]
    },
    {
      "cell_type": "code",
      "execution_count": null,
      "id": "58cb4631",
      "metadata": {
        "id": "58cb4631"
      },
      "outputs": [],
      "source": [
        "\"\"\" load adapters \"\"\"\n",
        "empathy_adapter_path = \"/content/drive/MyDrive/NLP_final_pro/trained_adapters/EMP_emotion_stack\"\n",
        "distress_adapter_path = \"/content/drive/MyDrive/NLP_final_pro/trained_adapters/DIS_emotion_stack\"\n",
        "\n",
        "empathy_adapter = model.load_adapter(empathy_adapter_path, load_as=empathy_adapter_path.split('/')[-1])\n",
        "distress_adapter = model.load_adapter(distress_adapter_path, load_as=distress_adapter_path.split('/')[-1])"
      ]
    },
    {
      "cell_type": "code",
      "execution_count": null,
      "id": "598c78ed",
      "metadata": {
        "id": "598c78ed"
      },
      "outputs": [],
      "source": [
        "model.set_active_adapters(ac.Parallel(empathy_adapter, distress_adapter))\n",
        "model.active_head = ['EMP_emotion_stack', 'DIS_emotion_stack']"
      ]
    },
    {
      "cell_type": "markdown",
      "id": "4549bad5",
      "metadata": {
        "id": "4549bad5"
      },
      "source": [
        "# Inference with Epitome Fusion"
      ]
    },
    {
      "cell_type": "code",
      "execution_count": null,
      "id": "8229b822",
      "metadata": {
        "id": "8229b822"
      },
      "outputs": [],
      "source": [
        "\"\"\" load pretrained adapter composition \"\"\"\n",
        "\n",
        "from transformers.adapters.composition import Fuse\n",
        "\n",
        "\n",
        "fusion_path = f\"/content/drive/MyDrive/NLP_final_pro/trained_adapters/EpitomeFusion-distress\"\n",
        "\n",
        "# load each individual adapter\n",
        "dis_er_adapter = model.load_adapter(\n",
        "                fusion_path + '/distress-emotional-reactions')\n",
        "dis_ex_adapter = model.load_adapter(\n",
        "                fusion_path + '/distress-explorations')\n",
        "dis_ip_adapter = model.load_adapter(\n",
        "                fusion_path + '/distress-interpretations')\n",
        "\n",
        "# load adapter fusion\n",
        "model.load_adapter_fusion(\n",
        "    fusion_path\n",
        ")\n",
        "\n",
        "# set active adapters\n",
        "model.set_active_adapters(Fuse(dis_er_adapter, dis_ex_adapter, dis_ip_adapter))\n",
        "\n",
        "# # load head\n",
        "# path, distress_adapter = model.load_head(fusion_path)\n",
        "\n",
        "model.active_head = 'EpitomeFusion-distress'"
      ]
    },
    {
      "cell_type": "code",
      "execution_count": null,
      "id": "00f8398f",
      "metadata": {
        "id": "00f8398f"
      },
      "outputs": [],
      "source": [
        "\"\"\" load pretrained adapter composition: empathy \"\"\"\n",
        "\n",
        "fusion_path = f\"/content/drive/MyDrive/NLP_final_pro/trained_adapters/EpitomeFusion-empathy\"\n",
        "\n",
        "# load each individual adapter\n",
        "emp_er_adapter = model.load_adapter(\n",
        "                fusion_path + '/empathy-emotional-reactions'\n",
        "            )\n",
        "emp_ex_adapter = model.load_adapter(\n",
        "                fusion_path + '/empathy-explorations'\n",
        "            )\n",
        "emp_ip_adapter = model.load_adapter(\n",
        "                fusion_path + '/empathy-interpretations'\n",
        "            )\n",
        "\n",
        "# load adapter fusion\n",
        "model.load_adapter_fusion(\n",
        "    fusion_path\n",
        ")\n",
        "\n",
        "# set active adapters\n",
        "model.set_active_adapters(Fuse(emp_er_adapter, emp_ex_adapter, emp_ip_adapter))\n",
        "\n",
        "# # load head\n",
        "# path, empathy_adapter = model.load_head(fusion_path)"
      ]
    },
    {
      "cell_type": "code",
      "execution_count": null,
      "id": "b7a6e793",
      "metadata": {
        "colab": {
          "base_uri": "https://localhost:8080/",
          "height": 35
        },
        "id": "b7a6e793",
        "outputId": "6d719c77-4276-4b80-e38d-033b8f38e936"
      },
      "outputs": [
        {
          "output_type": "execute_result",
          "data": {
            "text/plain": [
              "'EpitomeFusion-empathy'"
            ],
            "application/vnd.google.colaboratory.intrinsic+json": {
              "type": "string"
            }
          },
          "metadata": {},
          "execution_count": 11
        }
      ],
      "source": [
        "model.active_head = 'EpitomeFusion-empathy'\n",
        "model.active_head"
      ]
    },
    {
      "cell_type": "code",
      "execution_count": null,
      "id": "dba29978",
      "metadata": {
        "id": "dba29978"
      },
      "outputs": [],
      "source": [
        "def predict_sen(sentence):\n",
        "    tokens = tokenizer.tokenize(sentence)\n",
        "    input_ids = torch.tensor(tokenizer.convert_tokens_to_ids(tokens)).to('cuda')\n",
        "\n",
        "    # move the model to the GPU\n",
        "    model.to('cuda')\n",
        "\n",
        "    # set active adapters\n",
        "    model.set_active_adapters(Fuse(dis_er_adapter, dis_ex_adapter, dis_ip_adapter))\n",
        "    model.active_head = 'EpitomeFusion-distress'\n",
        "    outputs = model(input_ids)\n",
        "    dis_score_f = outputs.logits[0][0].tolist()\n",
        "\n",
        "    # set active adapters\n",
        "    model.set_active_adapters(Fuse(emp_er_adapter, emp_ex_adapter, emp_ip_adapter))\n",
        "    model.active_head = 'EpitomeFusion-empathy'\n",
        "    outputs = model(input_ids)\n",
        "    emp_score_f = outputs.logits[0][0].tolist()\n",
        "\n",
        "    # stack\n",
        "    model.set_active_adapters(ac.Parallel(empathy_adapter, distress_adapter))\n",
        "    model.active_head = ['EMP_emotion_stack', 'DIS_emotion_stack']\n",
        "    outputs = model(input_ids)\n",
        "\n",
        "    emp_score_s = outputs[0].logits[0][0].tolist()\n",
        "    dis_score_s = outputs[1].logits[0][0].tolist()\n",
        "\n",
        "    # move the model back to the CPU\n",
        "    model.to('cpu')\n",
        "\n",
        "    return emp_score_f, dis_score_f, emp_score_s, dis_score_s"
      ]
    },
    {
      "cell_type": "code",
      "execution_count": null,
      "id": "e4b8b27d-8137-4479-add1-a72fc5d59dd8",
      "metadata": {
        "id": "e4b8b27d-8137-4479-add1-a72fc5d59dd8"
      },
      "outputs": [],
      "source": [
        "def get_pred(val_data):\n",
        "  pred_emp_f = []\n",
        "  pred_emp_s = []\n",
        "  acu_emp = []\n",
        "  pred_dis_f = []\n",
        "  pred_dis_s = []\n",
        "  acu_dis = []\n",
        "  for idx in tqdm(range(len(val_data))):\n",
        "      essay = val_data['essay'].values[idx]\n",
        "      emp_score_f, dis_score_f,emp_score_s,dis_score_s = predict_sen(essay)\n",
        "    \n",
        "      pred_emp_f.append(emp_score_f)\n",
        "      pred_emp_s.append(emp_score_s)\n",
        "      acu_emp.append(val_data['empathy'].values[idx])\n",
        "    \n",
        "      pred_dis_f.append(dis_score_f)\n",
        "      pred_dis_s.append(dis_score_s)\n",
        "      acu_dis.append(val_data['distress'].values[idx])\n",
        "  return pred_emp_f, pred_emp_s, acu_emp, pred_dis_f, pred_dis_s, acu_dis "
      ]
    },
    {
      "cell_type": "code",
      "source": [
        "def get_positive_score(l_aug,org,aug):\n",
        "  wrong_list = []\n",
        "  for i in range(len(org)):\n",
        "    if (abs(org[i]-aug[i])>0.2):\n",
        "      wrong_list.append(i)\n",
        "  print(\"score:\",len(wrong_list)/len(org))\n",
        "  random_five = random.sample(wrong_list, 5)\n",
        "  for j in random_five:\n",
        "    print(val_data['essay'].values[j])\n",
        "    print(\"score:\",org[j])\n",
        "    print(l_aug['essay'].values[j])\n",
        "    print(\"score:\",aug[j])"
      ],
      "metadata": {
        "id": "B65i2AG9GNnW"
      },
      "id": "B65i2AG9GNnW",
      "execution_count": null,
      "outputs": []
    },
    {
      "cell_type": "code",
      "source": [
        "def get_scores(l_aug,pred_emp_f_org, pred_emp_s_org, acu_emp, pred_dis_f_org, pred_dis_s_org, acu_dis,pred_emp_f_aug, pred_emp_s_aug, pred_dis_f_aug, pred_dis_s_aug):\n",
        "  \n",
        "  corr_coef_f_aug, p_value = pearsonr(pred_emp_f_aug, acu_emp)\n",
        "  print(\"Pearson Fution empathy:\", corr_coef_f_aug)\n",
        "\n",
        "  corr_coef_s_aug, p_value = pearsonr(pred_emp_s_aug, acu_emp)\n",
        "  print(\"Pearson Stack empathy:\", corr_coef_s_aug)\n",
        "\n",
        "  corr_coef_f_a, p_value = pearsonr(pred_dis_f_aug, acu_dis)\n",
        "  print(\"Pearson Fution distress:\", corr_coef_f_a)\n",
        "\n",
        "  corr_coef_s_a, p_value = pearsonr(pred_dis_s_aug, acu_dis)\n",
        "  print(\"Pearson Stack distress:\", corr_coef_s_a)\n",
        "\n",
        "  print(\"Fution empathy:\")\n",
        "  get_positive_score(l_aug,pred_emp_f_org,pred_emp_f_aug)\n",
        "\n",
        "  print(\"Stack empathy:\")\n",
        "  get_positive_score(l_aug,pred_emp_s_org,pred_emp_s_aug)\n",
        "\n",
        "  print(\"Fution distress:\")\n",
        "  get_positive_score(l_aug,pred_dis_f_org,pred_dis_f_aug)\n",
        "\n",
        "  print(\"Stack distress:\")\n",
        "  get_positive_score(l_aug,pred_dis_s_org,pred_dis_s_aug)"
      ],
      "metadata": {
        "id": "9kS_EkHcD1xp"
      },
      "id": "9kS_EkHcD1xp",
      "execution_count": null,
      "outputs": []
    },
    {
      "cell_type": "code",
      "source": [
        "pred_emp_f_org, pred_emp_s_org, acu_emp, pred_dis_f_org, pred_dis_s_org, acu_dis = get_pred(val_data)"
      ],
      "metadata": {
        "colab": {
          "base_uri": "https://localhost:8080/"
        },
        "id": "nk89kGMFDFCi",
        "outputId": "1406c122-c501-42f8-cf4a-d96aa2380443"
      },
      "id": "nk89kGMFDFCi",
      "execution_count": null,
      "outputs": [
        {
          "output_type": "stream",
          "name": "stderr",
          "text": [
            "100%|██████████| 270/270 [03:57<00:00,  1.14it/s]\n"
          ]
        }
      ]
    },
    {
      "cell_type": "code",
      "execution_count": null,
      "id": "d2bbbd9f-a244-4a9f-a480-315733186221",
      "metadata": {
        "colab": {
          "base_uri": "https://localhost:8080/"
        },
        "id": "d2bbbd9f-a244-4a9f-a480-315733186221",
        "outputId": "60220260-57ae-44f7-fe3d-6f1c01ba4703"
      },
      "outputs": [
        {
          "output_type": "stream",
          "name": "stdout",
          "text": [
            "Pearson correlation coefficient emp stack: 0.4890706649247585\n"
          ]
        }
      ],
      "source": [
        "corr_coef, p_value = pearsonr(pred_emp_s_org, acu_emp)\n",
        "\n",
        "print(\"Pearson correlation coefficient emp stack:\", corr_coef)"
      ]
    },
    {
      "cell_type": "code",
      "execution_count": null,
      "id": "3c694c47-9290-43c2-ba03-4d679436a165",
      "metadata": {
        "colab": {
          "base_uri": "https://localhost:8080/"
        },
        "id": "3c694c47-9290-43c2-ba03-4d679436a165",
        "outputId": "149800db-7264-4ab4-e47d-447dddda3fa5"
      },
      "outputs": [
        {
          "output_type": "stream",
          "name": "stdout",
          "text": [
            "Pearson correlation coefficient emp fusion: 0.5129559021014046\n"
          ]
        }
      ],
      "source": [
        "corr_coef, p_value = pearsonr(pred_emp_f_org, acu_emp)\n",
        "\n",
        "print(\"Pearson correlation coefficient emp fusion:\", corr_coef)"
      ]
    },
    {
      "cell_type": "code",
      "execution_count": null,
      "id": "90204592-c95f-4a0c-959e-569a3f64c7e3",
      "metadata": {
        "colab": {
          "base_uri": "https://localhost:8080/"
        },
        "id": "90204592-c95f-4a0c-959e-569a3f64c7e3",
        "outputId": "cafe8a24-bf9b-4aa3-e7bc-8b14cc02239d"
      },
      "outputs": [
        {
          "output_type": "stream",
          "name": "stdout",
          "text": [
            "Pearson correlation coefficient dis stack: 0.4537656974443214\n"
          ]
        }
      ],
      "source": [
        "corr_coef, p_value = pearsonr(pred_dis_s_org, acu_dis)\n",
        "\n",
        "print(\"Pearson correlation coefficient dis stack:\", corr_coef)"
      ]
    },
    {
      "cell_type": "code",
      "execution_count": null,
      "id": "0edcb087-e263-42da-a442-f057182d79bc",
      "metadata": {
        "colab": {
          "base_uri": "https://localhost:8080/"
        },
        "id": "0edcb087-e263-42da-a442-f057182d79bc",
        "outputId": "2391b748-c6f7-4eb1-e7aa-551e5dd7e112"
      },
      "outputs": [
        {
          "output_type": "stream",
          "name": "stdout",
          "text": [
            "Pearson correlation coefficient dis fusion: 0.4808846695920748\n"
          ]
        }
      ],
      "source": [
        "corr_coef, p_value = pearsonr(pred_dis_f_org, acu_dis)\n",
        "\n",
        "print(\"Pearson correlation coefficient dis fusion:\", corr_coef)"
      ]
    },
    {
      "cell_type": "code",
      "source": [
        "re_n = pd.read_csv('/content/drive/MyDrive/NLP_final_pro/aug_data/aug_changed_noun.tsv', sep='\\t')\n",
        "pred_emp_f_re_n, pred_emp_s_re_n, acu_emp_re_n, pred_dis_f_re_n, pred_dis_s_re_n, acu_dis_re_n = get_pred(re_n)"
      ],
      "metadata": {
        "colab": {
          "base_uri": "https://localhost:8080/"
        },
        "id": "YKwO37gMDYpq",
        "outputId": "b9e67c99-57f5-46e5-a015-420aba030148"
      },
      "id": "YKwO37gMDYpq",
      "execution_count": null,
      "outputs": [
        {
          "output_type": "stream",
          "name": "stderr",
          "text": [
            "100%|██████████| 270/270 [02:51<00:00,  1.57it/s]\n"
          ]
        }
      ]
    },
    {
      "cell_type": "code",
      "source": [
        "# For changing nouns \n",
        "get_scores(re_n,pred_emp_f_org, pred_emp_s_org, acu_emp, pred_dis_f_org, pred_dis_s_org, acu_dis,pred_emp_f_re_n, pred_emp_s_re_n, pred_dis_f_re_n, pred_dis_s_re_n)"
      ],
      "metadata": {
        "colab": {
          "base_uri": "https://localhost:8080/"
        },
        "id": "rms8pbUDEfQj",
        "outputId": "7ae2f23a-5543-4031-8c40-69b567a3aead"
      },
      "id": "rms8pbUDEfQj",
      "execution_count": null,
      "outputs": [
        {
          "output_type": "stream",
          "name": "stdout",
          "text": [
            "Pearson Fution empathy: 0.4485441423190989\n",
            "Pearson Stack empathy: 0.42293424480423275\n",
            "Pearson Fution distress: 0.43958276297009913\n",
            "Pearson Stack distress: 0.3908767086977239\n",
            "Fution empathy:\n",
            "score: 0.8222222222222222\n",
            "Can you believe some people still don't believe in climate change? When will people, especially Americans like Donald Trump, wake up? What is it going to take to get them to start making a difference. We live in Connecticut, imagine our ENTIRE state burning up! What do climate change deniers think is really causing this then? Bunch of idiots in congress who don't care. We are losing our forests and animals and it just so sad.\n",
            "can you believe some masses still don't believe in clime change? when will people, especially american like donald trump, wake up? what is it going to take to get them to start making a difference. we live in connecticut, imagine our entire province electrocution up! what do climate alteration denier think is really causing this then? clump of cretin in congress who don't care. we are losing our timberland and fauna and it just so sad.\n",
            "This is unfortunately the consequence of conflicts within this part of the world.  Certain countries are not interested in the peace process and will deliberatley sabotage any effort.  The convey was most likely not escorted by terrorists, however, it is a common claim made by aggressive nations under these circumstances.\n",
            "this is unfortunately the effect of fight within this constituent of the world. certain country are not interested in the peacefulness summons and will deliberatley sabotage any effort. the convey was most likely not escorted by terrorists, however, it is a common claim made by aggressive country under these circumstances.\n",
            "Some of the phrases in this article really made me fear for the state of our country. Some people really really want to degrade others and pinhole women, and it's becoming more and more socially acceptable. Look at our president and some of the things he has said! I don't think people in authority especially should be given free passes anymore or the excuse to say \"just words\"\n",
            "some of the phrases in this article really made me fear for the state of our country. some masses really really want to degrade others and pinhole women, and it's becoming more and more socially acceptable. feel at our chairman and some of the thing he has said! i don't think masses in authorization especially should be given free flip anymore or the excuse to say \"just words\"\n",
            "Gosh there has been a bus crash, pretty sad.  Apparently a lot of people were hurt.  I feel so bad for their friends and family members, like they aren't even knowing if they are okay or what is going on.  Really sad situation.  I guess more information will be forthcoming because riht now they didn't have all the details yet.\n",
            "gosh there has been a motorcoach crash, pretty sad. apparently a spate of masses were hurt. i feel so bad for their ally and kinsfolk members, like they aren't even knowing if they are okay or what is going on. really sad situation. iodin guess more entropy will be forthcoming because riht now they didn't have all the detail yet.\n",
            "Of course Donald Trump would try to downplay the state of the African American community. It is sad and disturbing that murder rates have risen so much, over 10 percent in one year. And most of the victims are african american men. This is a criss. Leave it to Donald to try to sweep it under the rug. Moreover, violent crime has increased by over 2%. Even though this is considered a low increase, why aren't we focusing on having a DECREASE instead of just accepting a lower increase? Also, that bus crash sounds so scary, I'm glad no one was seriously injured.\n",
            "of path donald trumpet would try to downplay the province of the african american community. it is sad and disturbing that execution rates have risen so much, over 10 percentage in one year. and most of the victims are african american men. this is a criss. leave it to donald to try to sweep it under the rug. moreover, violent law-breaking has increased by over 2%. even though this is considered a low increase, why aren't we focusing on having a lessening instead of just accepting a lower increase? also, that bus wreck sound so scary, i'm gladiolus no i was seriously injured.\n",
            "Stack empathy:\n",
            "score: 0.8185185185185185\n",
            "There was a bad misunderstanding that lead to the deaths of 3 people in Jordan recently. They had been on high alert because of the ISIS attacks and when 3 Americans went close to the border they were shot and killed. It is sad to see this happen to people when they were just trying to do their job it is very depressing.\n",
            "there was a bad mistaking that lead to the last of 3 people in jordan recently. they had been on high alarm because of the isi onset and when 3 american went close to the moulding they were shot and killed. it is sad to see this happen to masses when they were just trying to do their job it is very depressing.\n",
            "Hey, Did you just see the shooting at the airport?  It really is sad and makes it really hard for me to feel comfortable going out and about with others. Why do shootings seem to happen when in large crowds? Whatever happen to the outlaw old wild west where the only ones that could have been in harm's way are the to targets. I feel really bad for both parties but I am curious what was the reason behind the shooting\n",
            "hey, did you just see the shot at the airport? it really is sad and makes it really hard for me to feel comfortable going out and about with others. why do shot seem to happen when in large crowds? whatever happen to the outlaw old wild w where the only one that could have been in harm's manner are the to targets. i feel really bad for both party but i am curious what was the rationality behind the shot\n",
            "I just read this story about violence against Muslims and I'm not sure which I hate more, Muslims (because I hate all religions, their all bad, though some are worse than others) or the redneck Trump supporters that think it's alright to set a woman on fire for being a Muslim. We live in a world full of crazy people.\n",
            "i just read this narration about violence against muslim and i'm not sure which i hate more, muslim (because i hate all religions, their all bad, though some are worse than others) or the cracker trumpet helper that think it's alright to set a woman on ardor for being a muslim. we live in a world full of crazy people.\n",
            "I didn't think much of Wells Fargo before reading the article but now that I know about some of their violations of the law, I don't care for them as much as I did. I think it was interesting and informative to know of some of their malpractices. The settlement is good and correct to right some of the wrongs they have done and people they have harmed. It will help the people they have harmed and seek to right the wrong and there will be justice. Wells Fargo is big and they should not harm others and the articles is well told on what happened to them and what they did in detail. They were fined for repeated violations and have a clear intent of what they were doing and how they were acting towards their customers and was not the best way to act towards others. You would find it interesting.\n",
            "iodin didn't think much of wells fargo before reading the article but now that iodin know about some of their irreverence of the law, iodin don't fear for them as much as i did. i think it was interesting and informative to know of some of their malpractices. the colonization is good and correct to right some of the damage they have done and masses they have harmed. it will help the masses they have harmed and seek to right the wrong and there will be justice. wells fargo is big and they should not harm others and the article is well told on what happened to them and what they did in detail. they were fined for repeated irreverence and have a clear intent of what they were doing and how they were acting towards their customer and was not the best manner to act towards others. you would find it interesting.\n",
            "Read this story from Afghanistan recently. Same old, same old, 'we regret the loss of innocent life', 'finish important mission', etc. What mission? We've accomplished nothing since driving Osama out of Afghanistan 17 years ago. It's gonna be generations of war and loss of innocent life for nothing. Well, I guess it creates more terrorists which gives the military something to do, but that's hardly a good result.\n",
            "read this level from afghanistan recently. same old, same old, 'we regret the departure of innocent life', 'finish important mission', etc. what mission? we've accomplished nothing since driving osama out of afghanistan 17 days ago. it's gonna be genesis of war and departure of innocent biography for nothing. well, iodin guess it creates more terrorist which gives the military something to do, but that's hardly a good result.\n",
            "Fution distress:\n",
            "score: 0.45185185185185184\n",
            "I lost my brother a couple of months ago. My brother died from a disease and I know how I  angry I was, I can only imagine losing a brother because ISIS thinks his cell phone was being used to spy on them. I can only imagine being a parent or child having to grow up in a place like that. It makes me mad they would use people as human shields.\n",
            "iodin lost my sidekick a twain of months ago. my buddy died from a disease and iodin know how i angry iodin was, iodin can only imagine losing a buddy because isis thinks his cell phone was being used to spy on them. i can only imagine being a parent or nestling having to grow up in a plaza like that. it makes me mad they would use masses as human shields.\n",
            "The article seems fishy. Overall it also sounds a bit like a cover up story like those in Forensic Files. I think there is more to the story that should have been released, but because the person was an officer they would rather leave the situation as quiet as possible. It does seem very strange to randomly shoot your own son or even have such a weapon handy if he had mental issues.\n",
            "the article seems fishy. overall it also sounds a scrap like a cover up level like those in forensic files. iodin think there is more to the level that should have been released, but because the somebody was an officeholder they would rather leave the berth as quiet as possible. it does seem very strange to randomly shoot your own boy or even have such a arm handy if he had mental issues.\n",
            "Can you believe the Canadian government did something some terrible. I would never expect Canada to have something so bad on there record, especially given there reputation. Those families deserve justice and any living relatives deserve reparations from the government. This will at least be some justice.\n",
            "can you believe the canadian politics did something some terrible. iodin would never expect canada to have something so bad on there record, especially given there reputation. those kinsfolk deserve jurist and any sustenance relatives deserve fixing from the government. this will at least be some justice.\n",
            "So I read this article today about Dakota Fanning. You know, the child actor who used to be very popular? It was honestly the biggest waste of time reading this article. Like do I really care if her parent's got divorced? Divorce sucks but divorce sucks for everyone who I could really care less if it's a famous actress or not.\n",
            "so i read this article today about dakota fanning. you know, the baby worker who used to be very popular? it was honestly the biggest wasteland of metre reading this article. like do i really care if her parent's got divorced? divorcement suction but divorcement suction for everyone who i could really care less if it's a famous actress or not.\n",
            "It's unfortunate that the divers died, but they knew that they were getting into something dangerous. They were correct that there is a certain fascination with exploring these mysterious areas. It is the natural drive of the greatest people in history. The desire to understand more is an essential part of humanity.\n",
            "it's unfortunate that the loon died, but they knew that they were getting into something dangerous. they were correct that there is a certain captivation with exploring these mysterious areas. it is the natural thrust of the greatest masses in history. the desire to understand more is an essential part of humanity.\n",
            "Fution distress:\n",
            "score: 0.6222222222222222\n",
            "We need to get these Haitians some food and have to develop a plan to do so. More than 141,000 storm victims are in shelters, and they need to go somewhere. We need to care about the kids first and the adults can come second. I say this because kids are the most needy and adults can get their own jobs in the future. This is how society tends to work. I think that is the best thing to do here overall. Kids asking for help just breaks my heart and makes me want to do something for them. I feel like that is the best thing to do in this whole situation going here at the moment.\n",
            "we need to get these haitian some nutrient and have to develop a program to do so. more than 141,000 tempest victim are in shelters, and they need to go somewhere. we need to care about the nestling first and the grownup can come second. iodin say this because nestling are the most needy and adult can get their own jobs in the future. this is how society tends to work. i think that is the best thing to do here overall. nestling asking for helper just breaks my gist and makes me want to do something for them. iodin feel like that is the best thing to do in this whole berth going here at the moment.\n",
            "You hear about the forest fires raging around the Appalchians of all places? When I first heard about it before I knew where it was I just rolled my eyes and was like \"oh what a surprise, california is on fire again, someone call the news...\" but nope it's the South-East of the US. Global warming is a myth amirite?\n",
            "you hear about the forest ardor raging around the appalchians of all places? when iodin first heard about it before iodin knew where it was i just rolled my heart and was like \"oh what a surprise, california is on ardor again, somebody call the news...\" but nope it's the south-east of the us. global thaw is a myth amirite?\n",
            "I really don't know what to make of this.  IF it was a national jeweler or a well known brand, I think that I would immediately assume the celebrity refuses to pay.  However, this is an unidentified business from a city that, to be fair, has a bit of a reputation for being full of degenerates who are trying to make a comeup\n",
            "iodin really don't know what to make of this. if it was a national jeweler or a well known brand, iodin think that iodin would immediately assume the renown refuses to pay. however, this is an unidentified job from a city that, to be fair, has a scrap of a repute for being full of deviate who are trying to make a comeup\n",
            "I read an article about a squirrel attacking people at  retirement home. It happened right here in Volusia county, I'm surprised I do not remember seeing it on the news before now. They said that 3 people was injured during the attack. I can't imagine a squirrel being able to cause much damage, maybe a scratch or two. I wonder what happened to cause the squirrel to freak out like that. The squirrel probably had some babies in the area that was being threatened by the people.\n",
            "i read an article about a squirrel attacking people at retreat home. it happened right here in volusia county, i'm surprised iodin do not remember seeing it on the word before now. they said that 3 masses was injured during the attack. i can't imagine a squirrel being able to cause much damage, maybe a simoleons or two. i wonder what happened to cause the squirrel to freak out like that. the squirrel probably had some baby in the country that was being threatened by the people.\n",
            "This article makes me feel almost nothing.  It's just numbers and a city, basically.  It might as well be fictional.  I don't know these people; they don't really exist except as creations of my own imagination.  To pretend that I actually care about these people is foolish.  Again, they don't really exist.  They might as well be microbes on a planet a trillion light years away.  I can't bring myself to pretend I feel something for numbers in a far away land.  They don't even have names or faces.\n",
            "this article makes me feel almost nothing. it's just issue and a city, basically. it might as well be fictional. i don't know these people; they don't really exist except as creation of my own imagination. to pretend that iodin actually care about these mass is foolish. again, they don't really exist. they might as well be microbes on a satellite a trillion light days away. i can't bring myself to pretend iodin feel something for issue in a far away land. they don't even have names or faces.\n"
          ]
        }
      ]
    },
    {
      "cell_type": "code",
      "source": [
        "re_v = pd.read_csv('/content/drive/MyDrive/NLP_final_pro/aug_data/aug_changed_noun.tsv', sep='\\t')\n",
        "pred_emp_f_re_v, pred_emp_s_re_v, acu_emp_re_v, pred_dis_f_re_v, pred_dis_s_re_v, acu_dis_re_v = get_pred(re_v)"
      ],
      "metadata": {
        "colab": {
          "base_uri": "https://localhost:8080/"
        },
        "id": "XH1Q26o_Kyxg",
        "outputId": "383a5c43-1c4a-4922-fd06-66943ab31368"
      },
      "id": "XH1Q26o_Kyxg",
      "execution_count": null,
      "outputs": [
        {
          "output_type": "stream",
          "name": "stderr",
          "text": [
            "100%|██████████| 270/270 [02:57<00:00,  1.52it/s]\n"
          ]
        }
      ]
    },
    {
      "cell_type": "code",
      "source": [
        "# For changing verds\n",
        "get_scores(re_v,pred_emp_f_org, pred_emp_s_org, acu_emp, pred_dis_f_org, pred_dis_s_org, acu_dis,pred_emp_f_re_v, pred_emp_s_re_v, pred_dis_f_re_v, pred_dis_s_re_v)"
      ],
      "metadata": {
        "colab": {
          "base_uri": "https://localhost:8080/"
        },
        "id": "W83xTQvUUt8C",
        "outputId": "aeac138a-f8a9-4ea6-db76-6d592f59ac67"
      },
      "id": "W83xTQvUUt8C",
      "execution_count": null,
      "outputs": [
        {
          "output_type": "stream",
          "name": "stdout",
          "text": [
            "Pearson Fution empathy: 0.4485441423190989\n",
            "Pearson Stack empathy: 0.42293424480423275\n",
            "Pearson Fution distress: 0.43958276297009913\n",
            "Pearson Stack distress: 0.3908767086977239\n",
            "Fution empathy:\n",
            "score: 0.8222222222222222\n",
            "Did you see the article about the airline worker who was shot at work. Unbelievable that these things keep happening. The guy who did the shooting is also dead killed himself. I feel so bad for the family of the man who was killed. I guess his son plays for the Chiefs. I hope they will figure out why it happened what this guy had against the man he shot. Terrible and I thought airports had better security than to let a man with a gun get there and be able to kill someone. It's so crazy nowadays that you aren't safe anywhere. I hope this won't start more aint gun talk. We both know its not the gun but the person doing the shooting. I wish we could concentrate more on mental health and not so much omg it was the gun. The gun was just the instrument not the reason the man is dead. I will be p\n",
            "did you see the article about the airline actor who was shot at work. unbelievable that these affair keep happening. the guy who did the shot is also dead killed himself. iodin feel so bad for the kinsfolk of the serviceman who was killed. i supposition his boy romp for the chiefs. iodin hope they will figure out why it happened what this guy had against the homo he shot. terrible and i sentiment airport had better certificate than to let a serviceman with a throttle get there and be able to kill someone. it's so crazy nowadays that you aren't safe anywhere. iodin hope this won't start more aint throttle talk. we both know its not the throttle but the somebody doing the shooting. i wish we could concentrate more on mental health and not so much omg it was the gun. the throttle was just the tool not the rationality the homo is dead. iodin will be p\n",
            "Storm season every year scares me because every part of the world is in danger in some way. In taiwan in particular they have been wracked many times by typhoons and hurricanes and Meranty looks to do the same. Being classified as a category 5 it is the strongest to hit the area in years and it really makes me worry for Taiwan as they brace for its landfall.\n",
            "tempest season every year scares me because every constituent of the creation is in peril in some way. in formosa in particular they have been wracked many multiplication by typhoons and hurricane and meranty feel to do the same. being classified as a class 5 it is the strongest to hit the field in years and it really makes me worry for formosa as they brace for its landfall.\n",
            "Everyone is complaining about immigration and forgetting the actual people involved. If these people had any option other than to face almost certain death, surely they would have taken it. I wouldn't wish these conditions on my worst enemy. I wish there was a way for people to experience the sort of terror and helplessness that leads people to these drastic options in order to understand better what they're going through.\n",
            "everyone is complaining about immigration and forgetting the actual masses involved. if these people had any selection other than to face almost certain death, surely they would have taken it. iodin wouldn't wish these stipulation on my worst enemy. i wish there was a manner for masses to experience the kind of panic and helplessness that leads mass to these drastic selection in edict to understand better what they're going through.\n",
            "It is very alarming to my spirit that humans who were once adopted by American citizens would be scrutinized for no reason of their own doing.  There is so many things wrong with the American system of adopting children from other countries.  If we are going to adopt children from other countries as Americans, they should be granted their citizenship immediately upon being adopted. Before another adoption takes place that involves American parents, and innocent children from another country, there needs to be new rules, regulations, and laws mandated for the protection of these children and families of what can be deemed as a sloppy American adoption system.  Let's fix it right away.\n",
            "it is very alarming to my heart that humans who were once adopted by american citizen would be scrutinized for no ground of their own doing. there is so many affair wrong with the american organisation of adopting nestling from other countries. if we are going to adopt nestling from other countries as americans, they should be granted their citizenship immediately upon being adopted. before another espousal takes plaza that involves american parents, and innocent nestling from another country, there needs to be new rules, regulations, and pentateuch mandated for the aegis of these baby and kinsfolk of what can be deemed as a sloppy american espousal system. let's fix it right away.\n",
            "Very depressing story I read about climate change. It is getting worse and we are going to be experiencing warmer and warmer temperatures as the years go on. The man made causes of global warming are not slowing down and it looks like we will be dealing with worse and worse weather as the years go on. I worry about the future of this planet.\n",
            "very depressing level iodin read about clime change. it is getting worse and we are going to be experiencing warmer and warmer temperature as the days go on. the serviceman made suit of global thaw are not slowing down and it looks like we will be dealing with worse and worse weather as the days go on. i worry about the hereafter of this planet.\n",
            "Stack empathy:\n",
            "score: 0.8185185185185185\n",
            "This is deplorable.  I get how upsetting it is to have your card declined, but it's obviously no one's fault but the bank and or the person whose card it is.  The suspect must be totally unraveled in this case.  It seems like he or she has some rage issues and hopefully a good amount of time behind bars.  Who brings a gun to starbucks anyway?\n",
            "this is deplorable. i get how upsetting it is to have your notice declined, but it's obviously no one's fault but the bank and or the person whose notice it is. the suspect must be totally unraveled in this case. it seems like he or she has some craze issue and hopefully a good quantity of metre behind bars. who brings a gun to starbucks anyway?\n",
            "So I read this article today about Dakota Fanning. You know, the child actor who used to be very popular? It was honestly the biggest waste of time reading this article. Like do I really care if her parent's got divorced? Divorce sucks but divorce sucks for everyone who I could really care less if it's a famous actress or not.\n",
            "so i read this article today about dakota fanning. you know, the baby worker who used to be very popular? it was honestly the biggest wasteland of metre reading this article. like do i really care if her parent's got divorced? divorcement suction but divorcement suction for everyone who i could really care less if it's a famous actress or not.\n",
            "I think that being gay is not a choice, and that we should accept these individuals no matter what. Their gayness is not hurting or affecting you in any way, so get over it. I think is natural for someone to be attracted to either sex, and we need to be more accepting of it. I wish I could hug every gay person who has ever felt like they are worth less than they are, because they are worth just as much as everyone else.\n",
            "iodin think that being homosexual is not a choice, and that we should accept these somebody no issue what. their gayness is not hurting or affecting you in any way, so get over it. i think is natural for somebody to be attracted to either sex, and we need to be more accepting of it. i wish i could hug every gay somebody who has ever felt like they are worth less than they are, because they are worth just as much as everyone else.\n",
            "The article seems fishy. Overall it also sounds a bit like a cover up story like those in Forensic Files. I think there is more to the story that should have been released, but because the person was an officer they would rather leave the situation as quiet as possible. It does seem very strange to randomly shoot your own son or even have such a weapon handy if he had mental issues.\n",
            "the article seems fishy. overall it also sounds a scrap like a cover up level like those in forensic files. iodin think there is more to the level that should have been released, but because the somebody was an officeholder they would rather leave the berth as quiet as possible. it does seem very strange to randomly shoot your own boy or even have such a arm handy if he had mental issues.\n",
            "It's unfortunate and it makes it difficult to want to carry on.   There is a lesson here though.  No matter how dark things get, you can't let them win.  You have to keep pushing on and not let it get to you.   They say that adversity builds character and it really is true.  So even when bad things happen, you can't let it defeat you.\n",
            "it's unfortunate and it makes it difficult to want to carry on. there is a moral here though. no issue how dark things get, you can't let them win. you have to keep pushing on and not let it get to you. they say that adversity bod eccentric and it really is true. so even when bad affair happen, you can't let it defeat you.\n",
            "Fution distress:\n",
            "score: 0.45185185185185184\n",
            "The camp needed to be dismantled as you can't have settlements within a modern country.  I know it can be perceived as heartless, but it is for the greater good of the community.  Settlements such as these offer no protection or infrastructure to it's occupants.  The situation becomes unsafe for both the residents as well as the surrounding community.\n",
            "the ingroup needed to be dismantled as you can't have colonization within a modern country. iodin know it can be perceived as heartless, but it is for the greater good of the community. colonization such as these offer no aegis or base to it's occupants. the berth becomes unsafe for both the resident as well as the surrounding community.\n",
            "This article has made my heart so heavy. I had to pause a couple times while reading, just to gather my thoughts so that I could continue. I feel for the innocent people who should not have been involved in this at all. I wish that we could do something to help these people come to an agreement so this terrible conflict can end. I can't even begin to imagine what it must feel like to live in a place where you have to have such strong fear to even leave your home. I can't imagine living amongst such stress and turmoil. My heart is so heavy and I wish there was something I could do to help.\n",
            "this article has made my gist so heavy. iodin had to pause a duo multiplication while reading, just to gather my sentiment so that iodin could continue. i feel for the innocent masses who should not have been involved in this at all. iodin wish that we could do something to help these masses come to an correspondence so this terrible conflict can end. i can't even begin to imagine what it must feel like to live in a plaza where you have to have such strong fear to even leave your home. i can't imagine living amongst such emphasis and turmoil. my gist is so heavy and i wish there was something i could do to help.\n",
            "It's unfortunate that the divers died, but they knew that they were getting into something dangerous. They were correct that there is a certain fascination with exploring these mysterious areas. It is the natural drive of the greatest people in history. The desire to understand more is an essential part of humanity.\n",
            "it's unfortunate that the loon died, but they knew that they were getting into something dangerous. they were correct that there is a certain captivation with exploring these mysterious areas. it is the natural thrust of the greatest masses in history. the desire to understand more is an essential part of humanity.\n",
            "We need to help save the frogs by making clean places for them to habitat. It seems that we have caused some of the problem and need to take responsibility for this. Frogs are an important part of our environment and we need to ensure that they are took care of. I think we need to focus on helping them survive something we as humans caused.\n",
            "we need to help save the frogs by making clean plaza for them to habitat. it seems that we have caused some of the job and pauperism to take province for this. batrachian are an important constituent of our surround and we need to ensure that they are took fear of. iodin think we need to focus on helping them survive something we as world caused.\n",
            "Hey, can you believe that guy who threw down the flamingo at the bush gardens? There was no rhyme or reason to it. Must have thrown that bird extremely hard to have injured it so bad that it needed to be euthanized.  Animal abuse doesnt just stop at domesticated animals. He has got what he has coming to him and I think he should have a ton of community service where he is forced to clean exceriemnt\n",
            "hey, can you believe that guy who threw down the flamingo at the dubyuh gardens? there was no rime or rationality to it. must have thrown that shuttle extremely hard to have injured it so bad that it needed to be euthanized. animal ill-usage doesnt just stop at domesticated animals. he has got what he has coming to him and i think he should have a ton of community avail where he is forced to clean exceriemnt\n",
            "Fution distress:\n",
            "score: 0.6222222222222222\n",
            "I am an affirmed believer that your punishment should fit the crime, but the man is so old so I don't see what the hold up has been for his sentence. I would understand if he was wrongly convicted, but that does not seem to be the case. The judicial system needs reformation because some of the things that are happening now are appalling.\n",
            "iodin am an affirmed worshipper that your punishment should fit the crime, but the serviceman is so old so i don't see what the grasp up has been for his sentence. iodin would understand if he was wrongly convicted, but that does not seem to be the case. the judicial organisation needs reclamation because some of the thing that are happening now are appalling.\n",
            "Some of the phrases in this article really made me fear for the state of our country. Some people really really want to degrade others and pinhole women, and it's becoming more and more socially acceptable. Look at our president and some of the things he has said! I don't think people in authority especially should be given free passes anymore or the excuse to say \"just words\"\n",
            "some of the phrases in this article really made me fear for the state of our country. some masses really really want to degrade others and pinhole women, and it's becoming more and more socially acceptable. feel at our chairman and some of the thing he has said! i don't think masses in authorization especially should be given free flip anymore or the excuse to say \"just words\"\n",
            "Yeah Russia has some real distinct issues for the underclasses which is super ironic given it's history. The oligarchy in place wants people to have just enough to survive and not complain, because they know the Russian people can be brought to bear against a mighty nation. It's happened twice so far.\n",
            "yeah ussr has some real distinct issue for the underclasses which is super ironic given it's history. the oligarchy in plaza wants masses to have just enough to survive and not complain, because they know the russian masses can be brought to bear against a mighty nation. it's happened twice so far.\n",
            "SO I just read an article about goldfish. You may be thinking \" Why would anyone do that\". Well here is the crazy part apparently in Australia people who tossed their goldfish that they no longer wanted into a river. The goldfish have multiplied significantly and are now everywhere. They do tons of damage to the local fish and algae populations. What is eben crazier is that it is not just in Australia but in the U.S and other countries too. So I officially am against having goldfish as pets and am going to warn everyone I know that unless they want to destroy their local rivers they should never throw goldfish in their or flush them down the toilet.\n",
            "so i just read an article about goldfish. you may be thinking \" why would anyone do that\". well here is the crazy constituent apparently in australia people who tossed their goldfish that they no longer wanted into a river. the goldfish have multiplied significantly and are now everywhere. they do heaps of hurt to the local fish and alga populations. what is eben crazier is that it is not just in australia but in the u.s and other country too. so i officially am against having goldfish as favourite and am going to warn everyone iodin know that unless they want to destroy their local river they should never throw goldfish in their or flush them down the toilet.\n",
            "A lot of us do what we can to lower our emissions and pollution, even still, this study shouldn't be surprising to anyone. Of course the poor air is hurting people, we're poisoning the children and profit is all that really matters in the end, nothing will change until you force it to. If everyone did the most they could do we might have a shot at reducing or reversing some of this damage, but as it is it's obviously not changing and it's hurting people's lives.\n",
            "a lot of us do what we can to lower our emanation and pollution, even still, this survey shouldn't be surprising to anyone. of path the poor line is hurting people, we're poisoning the nestling and lucre is all that really issue in the end, nothing will change until you force it to. if everyone did the most they could do we might have a guessing at reducing or reversing some of this damage, but as it is it's obviously not changing and it's hurting people's lives.\n"
          ]
        }
      ]
    }
  ],
  "metadata": {
    "kernelspec": {
      "display_name": "Python 3 (ipykernel)",
      "language": "python",
      "name": "python3"
    },
    "language_info": {
      "codemirror_mode": {
        "name": "ipython",
        "version": 3
      },
      "file_extension": ".py",
      "mimetype": "text/x-python",
      "name": "python",
      "nbconvert_exporter": "python",
      "pygments_lexer": "ipython3",
      "version": "3.9.9"
    },
    "colab": {
      "provenance": [],
      "gpuType": "T4"
    },
    "accelerator": "GPU",
    "gpuClass": "standard"
  },
  "nbformat": 4,
  "nbformat_minor": 5
}