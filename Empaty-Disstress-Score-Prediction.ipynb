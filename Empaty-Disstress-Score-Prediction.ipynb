{
 "cells": [
  {
   "cell_type": "code",
   "execution_count": 3,
   "id": "5ad72878-1ed8-4d44-b8f3-bf68d5f03a89",
   "metadata": {},
   "outputs": [
    {
     "name": "stdout",
     "output_type": "stream",
     "text": [
      "Using device: cuda\n"
     ]
    },
    {
     "name": "stderr",
     "output_type": "stream",
     "text": [
      "Some weights of the model checkpoint at xlm-roberta-base were not used when initializing XLMRobertaForSequenceClassification: ['lm_head.dense.bias', 'lm_head.bias', 'roberta.pooler.dense.weight', 'lm_head.dense.weight', 'roberta.pooler.dense.bias', 'lm_head.layer_norm.weight', 'lm_head.layer_norm.bias', 'lm_head.decoder.weight']\n",
      "- This IS expected if you are initializing XLMRobertaForSequenceClassification from the checkpoint of a model trained on another task or with another architecture (e.g. initializing a BertForSequenceClassification model from a BertForPreTraining model).\n",
      "- This IS NOT expected if you are initializing XLMRobertaForSequenceClassification from the checkpoint of a model that you expect to be exactly identical (initializing a BertForSequenceClassification model from a BertForSequenceClassification model).\n",
      "Some weights of XLMRobertaForSequenceClassification were not initialized from the model checkpoint at xlm-roberta-base and are newly initialized: ['classifier.dense.weight', 'classifier.out_proj.weight', 'classifier.dense.bias', 'classifier.out_proj.bias']\n",
      "You should probably TRAIN this model on a down-stream task to be able to use it for predictions and inference.\n"
     ]
    },
    {
     "name": "stdout",
     "output_type": "stream",
     "text": [
      "Train input size: torch.Size([5580, 275]), Train label size: torch.Size([5580, 1])\n",
      "Validation input size: torch.Size([810, 257]), Validation label size: torch.Size([810, 1])\n"
     ]
    },
    {
     "name": "stderr",
     "output_type": "stream",
     "text": [
      "Training epoch 1/10: 100%|██████████| 698/698 [01:14<00:00,  9.38it/s]\n",
      "Validation epoch 1/10: 100%|██████████| 102/102 [00:02<00:00, 34.53it/s]\n"
     ]
    },
    {
     "name": "stdout",
     "output_type": "stream",
     "text": [
      "Epoch 1/10, Train Loss: 3.5524, Validation Loss: 3.4629\n"
     ]
    },
    {
     "name": "stderr",
     "output_type": "stream",
     "text": [
      "Training epoch 2/10: 100%|██████████| 698/698 [01:14<00:00,  9.37it/s]\n",
      "Validation epoch 2/10: 100%|██████████| 102/102 [00:02<00:00, 34.53it/s]\n"
     ]
    },
    {
     "name": "stdout",
     "output_type": "stream",
     "text": [
      "Epoch 2/10, Train Loss: 3.3869, Validation Loss: 3.5797\n"
     ]
    },
    {
     "name": "stderr",
     "output_type": "stream",
     "text": [
      "Training epoch 3/10: 100%|██████████| 698/698 [01:14<00:00,  9.37it/s]\n",
      "Validation epoch 3/10: 100%|██████████| 102/102 [00:03<00:00, 33.62it/s]\n"
     ]
    },
    {
     "name": "stdout",
     "output_type": "stream",
     "text": [
      "Epoch 3/10, Train Loss: 3.3849, Validation Loss: 3.4564\n"
     ]
    },
    {
     "name": "stderr",
     "output_type": "stream",
     "text": [
      "Training epoch 4/10: 100%|██████████| 698/698 [01:57<00:00,  5.94it/s]\n",
      "Validation epoch 4/10: 100%|██████████| 102/102 [00:05<00:00, 17.67it/s]\n"
     ]
    },
    {
     "name": "stdout",
     "output_type": "stream",
     "text": [
      "Epoch 4/10, Train Loss: 3.3861, Validation Loss: 3.4634\n"
     ]
    },
    {
     "name": "stderr",
     "output_type": "stream",
     "text": [
      "Training epoch 5/10: 100%|██████████| 698/698 [02:16<00:00,  5.13it/s]\n",
      "Validation epoch 5/10: 100%|██████████| 102/102 [00:02<00:00, 34.43it/s]\n"
     ]
    },
    {
     "name": "stdout",
     "output_type": "stream",
     "text": [
      "Epoch 5/10, Train Loss: 3.3719, Validation Loss: 3.4555\n"
     ]
    },
    {
     "name": "stderr",
     "output_type": "stream",
     "text": [
      "Training epoch 6/10: 100%|██████████| 698/698 [01:14<00:00,  9.33it/s]\n",
      "Validation epoch 6/10: 100%|██████████| 102/102 [00:02<00:00, 34.34it/s]\n"
     ]
    },
    {
     "name": "stdout",
     "output_type": "stream",
     "text": [
      "Epoch 6/10, Train Loss: 3.3610, Validation Loss: 3.4765\n"
     ]
    },
    {
     "name": "stderr",
     "output_type": "stream",
     "text": [
      "Training epoch 7/10: 100%|██████████| 698/698 [01:14<00:00,  9.33it/s]\n",
      "Validation epoch 7/10: 100%|██████████| 102/102 [00:02<00:00, 34.42it/s]\n"
     ]
    },
    {
     "name": "stdout",
     "output_type": "stream",
     "text": [
      "Epoch 7/10, Train Loss: 3.3631, Validation Loss: 3.4853\n"
     ]
    },
    {
     "name": "stderr",
     "output_type": "stream",
     "text": [
      "Training epoch 8/10: 100%|██████████| 698/698 [01:20<00:00,  8.67it/s]\n",
      "Validation epoch 8/10: 100%|██████████| 102/102 [00:03<00:00, 28.23it/s]\n"
     ]
    },
    {
     "name": "stdout",
     "output_type": "stream",
     "text": [
      "Epoch 8/10, Train Loss: 3.3621, Validation Loss: 3.4645\n"
     ]
    },
    {
     "name": "stderr",
     "output_type": "stream",
     "text": [
      "Training epoch 9/10: 100%|██████████| 698/698 [01:28<00:00,  7.93it/s]\n",
      "Validation epoch 9/10: 100%|██████████| 102/102 [00:02<00:00, 34.45it/s]\n"
     ]
    },
    {
     "name": "stdout",
     "output_type": "stream",
     "text": [
      "Epoch 9/10, Train Loss: 3.3549, Validation Loss: 3.5365\n"
     ]
    },
    {
     "name": "stderr",
     "output_type": "stream",
     "text": [
      "Training epoch 10/10: 100%|██████████| 698/698 [01:43<00:00,  6.72it/s]\n",
      "Validation epoch 10/10: 100%|██████████| 102/102 [00:05<00:00, 18.03it/s]"
     ]
    },
    {
     "name": "stdout",
     "output_type": "stream",
     "text": [
      "Epoch 10/10, Train Loss: 3.3739, Validation Loss: 3.5670\n"
     ]
    },
    {
     "name": "stderr",
     "output_type": "stream",
     "text": [
      "\n"
     ]
    }
   ],
   "source": [
    "import torch\n",
    "from transformers import XLMRobertaTokenizer, XLMRobertaForSequenceClassification, AdamW\n",
    "from sklearn.metrics import mean_squared_error\n",
    "from sklearn.model_selection import train_test_split\n",
    "import pandas as pd\n",
    "\n",
    "from torch.utils.data import TensorDataset, DataLoader\n",
    "\n",
    "from tqdm import tqdm\n",
    "\n",
    "from scipy.stats import pearsonr\n",
    "\n",
    "\n",
    "# Check if CUDA is available\n",
    "device = torch.device('cuda' if torch.cuda.is_available() else 'cpu')\n",
    "print(f'Using device: {device}')\n",
    "\n",
    "# Load the tokenizer and model\n",
    "tokenizer = XLMRobertaTokenizer.from_pretrained('xlm-roberta-base')\n",
    "model = XLMRobertaForSequenceClassification.from_pretrained('xlm-roberta-base', num_labels=1).to(device)\n",
    "\n",
    "# Load the dataset\n",
    "df = pd.read_csv('t_data/final_data_some_lang.tsv',sep='\\t')\n",
    "\n",
    "df_v = pd.read_csv('t_data/test_data_some_lang.tsv',sep='\\t')\n",
    "\n",
    "\n",
    "# Tokenize the essay column and convert to tensors\n",
    "train_inputs = tokenizer(df['essay'].tolist(), padding=True, truncation=True, max_length=512, return_tensors='pt').to(device)\n",
    "train_labels = torch.tensor(df['empathy'].tolist(), dtype=torch.float32).unsqueeze(1).to(device)\n",
    "print(f'Train input size: {train_inputs[\"input_ids\"].size()}, Train label size: {train_labels.size()}')\n",
    "\n",
    "val_inputs = tokenizer(df_v['essay'].tolist(), padding=True, truncation=True, max_length=512, return_tensors='pt').to(device)\n",
    "val_labels = torch.tensor(df_v['empathy'].tolist(), dtype=torch.float32).unsqueeze(1).to(device)\n",
    "print(f'Validation input size: {val_inputs[\"input_ids\"].size()}, Validation label size: {val_labels.size()}')\n",
    "\n",
    "# Split the data into train and validation sets\n",
    "#train_inputs, val_inputs, train_labels, val_labels = train_test_split(inputs, labels, test_size=0.2, random_state=42)\n",
    "\n",
    "# Create a data loader for each set\n",
    "batch_size = 8\n",
    "train_data = TensorDataset(train_inputs['input_ids'], train_inputs['attention_mask'], train_labels)\n",
    "train_loader = DataLoader(train_data, batch_size=batch_size, shuffle=True)\n",
    "val_data = TensorDataset(val_inputs['input_ids'], val_inputs['attention_mask'], val_labels)\n",
    "val_loader = DataLoader(val_data, batch_size=batch_size, shuffle=False)\n",
    "\n",
    "# Set the optimizer and loss function\n",
    "optimizer = AdamW(model.parameters(), lr=2e-5, correct_bias=False)\n",
    "loss_fn = torch.nn.MSELoss()\n",
    "\n",
    "# Train the model\n",
    "num_epochs = 10\n",
    "best_val_loss = float('inf')\n",
    "for epoch in range(num_epochs):\n",
    "    model.train()\n",
    "    train_loss = 0\n",
    "    for batch in tqdm(train_loader, desc=f'Training epoch {epoch + 1}/{num_epochs}'):\n",
    "        optimizer.zero_grad()\n",
    "        input_ids = batch[0].squeeze(1)\n",
    "        attention_mask = batch[1].squeeze(1)\n",
    "        labels = batch[2].squeeze(1)\n",
    "        outputs = model(input_ids.to(device), attention_mask=attention_mask.to(device))[0].squeeze(1)\n",
    "        loss = loss_fn(outputs, labels.to(device))\n",
    "        \n",
    "        loss.backward()\n",
    "        optimizer.step()\n",
    "        train_loss += loss.item()\n",
    "    train_loss /= len(train_loader)\n",
    "    \n",
    "    # Evaluate on the validation set\n",
    "    model.eval()\n",
    "    val_loss = 0\n",
    "    with torch.no_grad():\n",
    "        for batch in tqdm(val_loader, desc=f'Validation epoch {epoch + 1}/{num_epochs}'):\n",
    "            input_ids = batch[0].squeeze(1)\n",
    "            attention_mask = batch[1].squeeze(1)\n",
    "            labels = batch[2].squeeze(1)\n",
    "            outputs = model(input_ids.to(device), attention_mask=attention_mask.to(device))[0].squeeze(1)\n",
    "            loss = loss_fn(outputs, labels.to(device))\n",
    "            val_loss += loss.item()\n",
    "    val_loss /= len(val_loader)\n",
    "    \n",
    "    # Save the best model based on validation loss\n",
    "    if val_loss < best_val_loss:\n",
    "        best_val_loss = val_loss\n",
    "        torch.save(model.state_dict(), 'emp_model_multi.pt')\n",
    "    \n",
    "    print(f'Epoch {epoch + 1}/{num_epochs}, Train Loss: {train_loss:.4f}, Validation Loss: {val_loss:.4f}')\n"
   ]
  },
  {
   "cell_type": "code",
   "execution_count": null,
   "id": "4ad3def8-44fb-4522-94dd-8a48a84acd25",
   "metadata": {},
   "outputs": [],
   "source": []
  }
 ],
 "metadata": {
  "kernelspec": {
   "display_name": "Python 3 (ipykernel)",
   "language": "python",
   "name": "python3"
  },
  "language_info": {
   "codemirror_mode": {
    "name": "ipython",
    "version": 3
   },
   "file_extension": ".py",
   "mimetype": "text/x-python",
   "name": "python",
   "nbconvert_exporter": "python",
   "pygments_lexer": "ipython3",
   "version": "3.9.9"
  }
 },
 "nbformat": 4,
 "nbformat_minor": 5
}
