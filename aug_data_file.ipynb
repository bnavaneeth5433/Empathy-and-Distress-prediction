{
  "cells": [
    {
      "cell_type": "code",
      "execution_count": null,
      "id": "47697f28-093c-4ce8-90e7-5a946f394c2a",
      "metadata": {
        "id": "47697f28-093c-4ce8-90e7-5a946f394c2a",
        "outputId": "56a77f2c-94a9-4855-9924-1f7f14b87e82"
      },
      "outputs": [
        {
          "name": "stderr",
          "output_type": "stream",
          "text": [
            "[nltk_data] Downloading package averaged_perceptron_tagger to\n",
            "[nltk_data]     /home/nbalguri/nltk_data...\n",
            "[nltk_data]   Package averaged_perceptron_tagger is already up-to-\n",
            "[nltk_data]       date!\n",
            "[nltk_data] Downloading package wordnet to /home/nbalguri/nltk_data...\n",
            "[nltk_data]   Package wordnet is already up-to-date!\n",
            "[nltk_data] Downloading package omw-1.4 to /home/nbalguri/nltk_data...\n",
            "[nltk_data]   Package omw-1.4 is already up-to-date!\n"
          ]
        }
      ],
      "source": [
        "from textaugment import Wordnet\n",
        "import nltk\n",
        "import pandas as pd\n",
        "nltk.download('averaged_perceptron_tagger')\n",
        "nltk.download('wordnet')\n",
        "nltk.download('omw-1.4')\n",
        "\n",
        "train_data = pd.read_csv('./data/messages_dev_features_ready_for_WS_2022.tsv', sep='\\t')\n",
        "\n",
        "dfSynom = train_data.copy()\n",
        "t = Wordnet(v=True ,n=True,p=0.9)\n",
        "\n",
        "dfSynom['essay'] = train_data['essay'].apply(t.augment)\n",
        "\n",
        "dfSynom.to_csv(\"aug_data/aug_changed_verd_noun.tsv\", sep=\"\\t\", index=False)"
      ]
    },
    {
      "cell_type": "code",
      "execution_count": null,
      "id": "07acb42c-962a-4aa0-80c5-82775790dcd5",
      "metadata": {
        "colab": {
          "base_uri": "https://localhost:8080/"
        },
        "id": "07acb42c-962a-4aa0-80c5-82775790dcd5",
        "outputId": "c13c7870-537d-4db7-8f72-fd130ef6ed20"
      },
      "outputs": [
        {
          "output_type": "stream",
          "name": "stderr",
          "text": [
            "[nltk_data] Downloading package averaged_perceptron_tagger to\n",
            "[nltk_data]     /root/nltk_data...\n",
            "[nltk_data]   Package averaged_perceptron_tagger is already up-to-\n",
            "[nltk_data]       date!\n",
            "[nltk_data] Downloading package wordnet to /root/nltk_data...\n",
            "[nltk_data]   Package wordnet is already up-to-date!\n"
          ]
        }
      ],
      "source": [
        "!pip install textaugment\n",
        "\n",
        "import pandas as pd\n",
        "from textaugment import Wordnet\n",
        "\n",
        "import nltk\n",
        "nltk.download('averaged_perceptron_tagger')\n",
        "nltk.download('wordnet')\n",
        "\n",
        "train_data = pd.read_csv('/content/drive/MyDrive/NLP_final_pro/data/messages_dev_features_ready_for_WS_2022.tsv', sep='\\t')\n",
        "\n",
        "aug = Wordnet(wordnet_selected='en',aug_min=1,aug_p=0.2)\n",
        "\n",
        "train_data['essay'] = train_data['essay'].apply(lambda x: aug.augment(x))\n",
        "\n",
        "train_data.to_csv(\"/content/drive/MyDrive/NLP_final_pro/aug_data/aug_word_swap.tsv\", sep=\"\\t\", index=False)"
      ]
    }
  ],
  "metadata": {
    "kernelspec": {
      "display_name": "Python 3 (ipykernel)",
      "language": "python",
      "name": "python3"
    },
    "language_info": {
      "codemirror_mode": {
        "name": "ipython",
        "version": 3
      },
      "file_extension": ".py",
      "mimetype": "text/x-python",
      "name": "python",
      "nbconvert_exporter": "python",
      "pygments_lexer": "ipython3",
      "version": "3.9.9"
    },
    "colab": {
      "provenance": []
    }
  },
  "nbformat": 4,
  "nbformat_minor": 5
}