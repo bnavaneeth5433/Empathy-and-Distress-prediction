{
 "cells": [
  {
   "cell_type": "code",
   "execution_count": 1,
   "metadata": {
    "id": "YZIkzXy5sX_W"
   },
   "outputs": [],
   "source": [
    "import torch\n",
    "from transformers import XLMRobertaTokenizer, XLMRobertaForSequenceClassification\n",
    "import numpy as np\n",
    "import pandas as pd\n",
    "from tqdm import tqdm\n",
    "from scipy.stats import pearsonr\n",
    "import random"
   ]
  },
  {
   "cell_type": "code",
   "execution_count": 2,
   "metadata": {
    "id": "kXQMWYl0tgGS"
   },
   "outputs": [],
   "source": [
    "val_data = pd.read_csv('data/messages_dev_features_ready_for_WS_2022.tsv', sep='\\t')"
   ]
  },
  {
   "cell_type": "code",
   "execution_count": 3,
   "metadata": {
    "id": "dRn6FqKXtuib"
   },
   "outputs": [],
   "source": [
    "model_path = 'emp_model_multi.pt'\n",
    "saved_model = torch.load(model_path)\n",
    "\n",
    "model_path2 = 'dis_model_multi.pt'\n",
    "saved_model2 = torch.load(model_path2)"
   ]
  },
  {
   "cell_type": "code",
   "execution_count": 4,
   "metadata": {
    "id": "wL7iQU_etzoh"
   },
   "outputs": [
    {
     "name": "stderr",
     "output_type": "stream",
     "text": [
      "Some weights of the model checkpoint at xlm-roberta-base were not used when initializing XLMRobertaForSequenceClassification: ['lm_head.layer_norm.bias', 'lm_head.layer_norm.weight', 'lm_head.dense.bias', 'roberta.pooler.dense.bias', 'lm_head.dense.weight', 'lm_head.decoder.weight', 'roberta.pooler.dense.weight', 'lm_head.bias']\n",
      "- This IS expected if you are initializing XLMRobertaForSequenceClassification from the checkpoint of a model trained on another task or with another architecture (e.g. initializing a BertForSequenceClassification model from a BertForPreTraining model).\n",
      "- This IS NOT expected if you are initializing XLMRobertaForSequenceClassification from the checkpoint of a model that you expect to be exactly identical (initializing a BertForSequenceClassification model from a BertForSequenceClassification model).\n",
      "Some weights of XLMRobertaForSequenceClassification were not initialized from the model checkpoint at xlm-roberta-base and are newly initialized: ['classifier.dense.bias', 'classifier.out_proj.bias', 'classifier.dense.weight', 'classifier.out_proj.weight']\n",
      "You should probably TRAIN this model on a down-stream task to be able to use it for predictions and inference.\n",
      "Some weights of the model checkpoint at xlm-roberta-base were not used when initializing XLMRobertaForSequenceClassification: ['lm_head.layer_norm.bias', 'lm_head.layer_norm.weight', 'lm_head.dense.bias', 'roberta.pooler.dense.bias', 'lm_head.dense.weight', 'lm_head.decoder.weight', 'roberta.pooler.dense.weight', 'lm_head.bias']\n",
      "- This IS expected if you are initializing XLMRobertaForSequenceClassification from the checkpoint of a model trained on another task or with another architecture (e.g. initializing a BertForSequenceClassification model from a BertForPreTraining model).\n",
      "- This IS NOT expected if you are initializing XLMRobertaForSequenceClassification from the checkpoint of a model that you expect to be exactly identical (initializing a BertForSequenceClassification model from a BertForSequenceClassification model).\n",
      "Some weights of XLMRobertaForSequenceClassification were not initialized from the model checkpoint at xlm-roberta-base and are newly initialized: ['classifier.dense.bias', 'classifier.out_proj.bias', 'classifier.dense.weight', 'classifier.out_proj.weight']\n",
      "You should probably TRAIN this model on a down-stream task to be able to use it for predictions and inference.\n"
     ]
    }
   ],
   "source": [
    "tokenizer = XLMRobertaTokenizer.from_pretrained('xlm-roberta-base')\n",
    "model = XLMRobertaForSequenceClassification.from_pretrained('xlm-roberta-base', num_labels=1)\n",
    "model2 = XLMRobertaForSequenceClassification.from_pretrained('xlm-roberta-base', num_labels=1)"
   ]
  },
  {
   "cell_type": "code",
   "execution_count": 5,
   "metadata": {
    "id": "wuRoBnOQt67p"
   },
   "outputs": [
    {
     "data": {
      "text/plain": [
       "<All keys matched successfully>"
      ]
     },
     "execution_count": 5,
     "metadata": {},
     "output_type": "execute_result"
    }
   ],
   "source": [
    "model.load_state_dict(saved_model)\n",
    "model2.load_state_dict(saved_model2)"
   ]
  },
  {
   "cell_type": "code",
   "execution_count": 6,
   "metadata": {
    "id": "siHcu31rt9Kn"
   },
   "outputs": [
    {
     "name": "stdout",
     "output_type": "stream",
     "text": [
      "\n"
     ]
    }
   ],
   "source": [
    "model.eval()\n",
    "model2.eval()\n",
    "print(\"\")"
   ]
  },
  {
   "cell_type": "code",
   "execution_count": 7,
   "metadata": {
    "id": "SkHXDxrat-7K"
   },
   "outputs": [],
   "source": [
    "def predict_score(sentences):\n",
    "  inputs = tokenizer(sentences, padding=True, truncation=True, max_length=512, return_tensors='pt')\n",
    "  input_ids = inputs['input_ids']\n",
    "  attention_mask = inputs['attention_mask']\n",
    "  with torch.no_grad():\n",
    "    outputs = model(input_ids, attention_mask=attention_mask)\n",
    "    outputs2 = model2(input_ids, attention_mask=attention_mask)\n",
    "  predictions_emp = outputs.logits.squeeze(1).detach().cpu().numpy()\n",
    "  predictions_dis = outputs2.logits.squeeze(1).detach().cpu().numpy()\n",
    "  return predictions_emp,predictions_dis"
   ]
  },
  {
   "cell_type": "code",
   "execution_count": 8,
   "metadata": {
    "id": "Bz4T1OBzvqcj"
   },
   "outputs": [],
   "source": [
    "acu_emp = val_data['empathy'].tolist()\n",
    "acu_dis = val_data['distress'].tolist()"
   ]
  },
  {
   "cell_type": "code",
   "execution_count": 9,
   "metadata": {
    "id": "r6Flt1_vwojM"
   },
   "outputs": [],
   "source": [
    "sen_org = val_data['essay'].tolist()"
   ]
  },
  {
   "cell_type": "code",
   "execution_count": 10,
   "metadata": {},
   "outputs": [
    {
     "data": {
      "text/plain": [
       "list"
      ]
     },
     "execution_count": 10,
     "metadata": {},
     "output_type": "execute_result"
    }
   ],
   "source": [
    "type(sen_org)"
   ]
  },
  {
   "cell_type": "code",
   "execution_count": 11,
   "metadata": {
    "id": "Ca31EhuVwxzM"
   },
   "outputs": [],
   "source": [
    "pred_emp_org, pred_dis_org = predict_score(sen_org)"
   ]
  },
  {
   "cell_type": "code",
   "execution_count": 12,
   "metadata": {},
   "outputs": [
    {
     "name": "stdout",
     "output_type": "stream",
     "text": [
      "3.6287787\n"
     ]
    }
   ],
   "source": [
    "pred_emp_org.tolist()\n",
    "print(pred_emp_org[0])"
   ]
  },
  {
   "cell_type": "code",
   "execution_count": 13,
   "metadata": {},
   "outputs": [
    {
     "name": "stdout",
     "output_type": "stream",
     "text": [
      "3.7899573\n"
     ]
    }
   ],
   "source": [
    "pred_dis_org.tolist()\n",
    "print(pred_dis_org[0])"
   ]
  },
  {
   "cell_type": "code",
   "execution_count": 14,
   "metadata": {
    "id": "C7lzEsd4w_5X"
   },
   "outputs": [
    {
     "name": "stdout",
     "output_type": "stream",
     "text": [
      "Pearson correlation coefficient emp stack: 0.009979168937770495\n"
     ]
    }
   ],
   "source": [
    "corr_coef, p_value = pearsonr(pred_emp_org, acu_emp)\n",
    "\n",
    "print(\"Pearson correlation coefficient emp stack:\", corr_coef)"
   ]
  },
  {
   "cell_type": "code",
   "execution_count": 15,
   "metadata": {
    "id": "4wakUv-MxCcn"
   },
   "outputs": [
    {
     "name": "stdout",
     "output_type": "stream",
     "text": [
      "Pearson correlation coefficient dis stack: 0.0713244105512847\n"
     ]
    }
   ],
   "source": [
    "corr_coef, p_value = pearsonr(pred_dis_org, acu_dis)\n",
    "\n",
    "print(\"Pearson correlation coefficient dis stack:\", corr_coef)"
   ]
  },
  {
   "cell_type": "code",
   "execution_count": 16,
   "metadata": {},
   "outputs": [],
   "source": [
    "def get_positive_score(l_aug,org,aug):\n",
    "  wrong_list = []\n",
    "  for i in range(len(org)):\n",
    "    if (abs(org[i]-aug[i])>0.06):\n",
    "      wrong_list.append(i)\n",
    "  print(\"Error score:\",len(wrong_list)/len(org))\n",
    "  if(len(wrong_list)<=5):\n",
    "        random_five = wrong_list\n",
    "  else:\n",
    "    random_five = random.sample(wrong_list, 5)\n",
    "  for j in random_five:\n",
    "    print(val_data['essay'].values[j])\n",
    "    print(\"score:\",org[j])\n",
    "    print(l_aug['essay'].values[j])\n",
    "    print(\"score:\",aug[j])"
   ]
  },
  {
   "cell_type": "code",
   "execution_count": 17,
   "metadata": {},
   "outputs": [],
   "source": [
    "def get_scores(l_aug,pred_emp_org, acu_emp, pred_dis_org, acu_dis,pred_emp_aug, pred_dis_aug):\n",
    "  \n",
    "  corr_coef_f_aug, p_value = pearsonr(pred_emp_aug, acu_emp)\n",
    "  print(\"Pearson Fution empathy:\", corr_coef_f_aug)\n",
    "\n",
    "  corr_coef_s_a, p_value = pearsonr(pred_dis_aug, acu_dis)\n",
    "  print(\"Pearson Stack distress:\", corr_coef_s_a)\n",
    "\n",
    "  print(\"Empathy:\")\n",
    "  get_positive_score(l_aug,pred_emp_org,pred_emp_aug)\n",
    "\n",
    "  print(\"Distress:\")\n",
    "  get_positive_score(l_aug,pred_dis_org,pred_dis_aug)"
   ]
  },
  {
   "cell_type": "code",
   "execution_count": 18,
   "metadata": {},
   "outputs": [
    {
     "name": "stdout",
     "output_type": "stream",
     "text": [
      "Pearson Fution empathy: -0.10676489678414297\n",
      "Pearson Stack distress: 0.03663533180944396\n",
      "Empathy:\n",
      "Error score: 0.0\n",
      "Distress:\n",
      "Error score: 0.12962962962962962\n",
      "I can't believe Russel Crowe would do something like this. Why was Russel Crowe even involved in that event if he is so racist and can't stand Azealia Banks? Anyway, since no one is able to attest to her story being true, I have to assume she is mentally ill. Maybe she was drunk or high and hallucinating. Maybe she has psychosis. I really think she needs help! There is zero proof that Russel Crowe did any of the things she is claiming.\n",
      "score: 3.874701\n",
      "আমি বিশ্বাস করতে পারছি না রাসেল ক্রো এরকম কিছু করবে। কেন রাসেল ক্রো এমনকি সেই ইভেন্টে জড়িত ছিলেন যদি তিনি এত বর্ণবাদী হন এবং আজেলিয়া ব্যাঙ্কসকে দাঁড়াতে না পারেন? যাইহোক, যেহেতু কেউ তার গল্পটি সত্য বলে প্রমাণ করতে সক্ষম নয়, আমাকে ধরে নিতে হবে সে মানসিকভাবে অসুস্থ। হয়তো সে মাতাল বা উচ্চ এবং হ্যালুসিনেটিং ছিল. হয়তো তার সাইকোসিস আছে। আমি সত্যিই তার সাহায্য প্রয়োজন মনে হয়! শূন্য প্রমাণ নেই যে রাসেল ক্রো তার দাবি করা জিনিসগুলির কোনওটিই করেছেন৷\n",
      "score: 4.106252\n",
      "This guy is a total disgrace to all gun owners and i am happy justice is being served.not only did needlessly take the life of an innocent young man but he also through away his own life...for what? because the teenagers were playing loud music? so sickening! i can't believe this guy thought this was a viable defense. This moron also makes it harder for people who actually justifiably defend themselves via the stand your ground law.....an all around terrible situation,just glad he is being thrown in prison\n",
      "score: 3.961529\n",
      "এই লোকটি সমস্ত বন্দুকের মালিকদের জন্য সম্পূর্ণ অসম্মানজনক এবং আমি খুশি যে ন্যায়বিচার পাওয়া যাচ্ছে। শুধু অকারণে একজন নিরপরাধ যুবকের প্রাণ কেড়ে নেয়নি, সে তার নিজের জীবনও কেড়ে নিয়েছে...কিসের জন্য? কারণ কিশোররা জোরে গান বাজছিল? তাই অসুস্থ! আমি বিশ্বাস করতে পারি না যে এই লোকটি ভেবেছিল এটি একটি কার্যকর প্রতিরক্ষা ছিল। এই মূর্খ লোকদের জন্য এটিকে আরও কঠিন করে তোলে যারা প্রকৃতপক্ষে আপনার গ্রাউন্ড আইনের মাধ্যমে ন্যায্যভাবে নিজেকে রক্ষা করে..... চারিদিকে ভয়ানক পরিস্থিতি, শুধু খুশি যে তাকে কারাগারে নিক্ষেপ করা হচ্ছে\n",
      "score: 4.15156\n",
      "I read a short article about a father and son dying after falling from a cliff. That is so sad, I wonder how the rest of the family is taking it. Could you imagine falling from  a cliff? I had a friend when I was young named Phillip who fell from a mountain and died. It took a few days for his body to be found. I think that is a horrible way to die. I mean they died doing what they loved I guess but still its never good to hear about a death. I want to see everybody living their best life.\n",
      "score: 4.0143137\n",
      "আমি পাহাড় থেকে পড়ে মারা যাওয়া পিতা ও পুত্র সম্পর্কে একটি ছোট নিবন্ধ পড়েছি। এটা খুবই দুঃখজনক, আমি ভাবছি কিভাবে পরিবারের বাকিরা এটা নিচ্ছে। আপনি কি একটি পাহাড় থেকে পড়ে কল্পনা করতে পারেন? আমি যখন ছোট ছিলাম তখন ফিলিপ নামে আমার এক বন্ধু ছিল যে পাহাড় থেকে পড়ে মারা গিয়েছিল। তার মরদেহ খুঁজে পেতে কয়েকদিন লেগেছে। আমি মনে করি এটি মারা যাওয়ার একটি ভয়ঙ্কর উপায়। আমি বলতে চাচ্ছি যে তারা যা পছন্দ করেছিল তা করেই তারা মারা গিয়েছিল আমি অনুমান করি তবে এখনও মৃত্যুর কথা শুনতে ভাল লাগে না। আমি প্রত্যেককে তাদের সেরা জীবনযাপন দেখতে চাই।\n",
      "score: 4.1128907\n",
      "I have never really thought about what happens to animals during war or conflicts in general. I mean i was just reading this article about  the efforts of veterinarians in the middle east and africa Gaza in particular. Trying to save animals that are malnourished because of lack of treatment thanks to the conflict. The entirety of the strip only has 12 veternarians tending to it sadly and even though the government seems to want to help it does not seem possible.\n",
      "score: 3.8008702\n",
      "যুদ্ধের সময় বা সাধারণভাবে সংঘাতের সময় প্রাণীদের কী ঘটে তা নিয়ে আমি সত্যিই ভাবিনি। আমি বলতে চাচ্ছি আমি এই নিবন্ধটি মধ্যপ্রাচ্যে এবং বিশেষ করে আফ্রিকা গাজার পশুচিকিত্সকদের প্রচেষ্টা সম্পর্কে পড়ছিলাম। সংঘাতের কারণে চিকিত্সার অভাবে অপুষ্টির শিকার প্রাণীদের বাঁচানোর চেষ্টা করা হচ্ছে। স্ট্রিপের সম্পূর্ণটিতে শুধুমাত্র 12 জন পশুচিকিত্সক রয়েছেন যারা দুঃখজনকভাবে এটির দিকে ঝুঁকছেন এবং যদিও সরকার সাহায্য করতে চায় বলে মনে হচ্ছে তা সম্ভব নয়।\n",
      "score: 4.114047\n",
      "In case we all needed yet another reminder that, yes, climate change is real and, yes, we are really screwed if we don't do something about it immediately. Here in the US we have stupid fucking Trump who pulled out of the Paris agreement - we won't make any progress on this until that moron - and all those climate change denying Republicans - are out of the White House.\n",
      "score: 3.7876434\n",
      "যদি আমাদের সকলের আরেকটি অনুস্মারক প্রয়োজন হয় যে, হ্যাঁ, জলবায়ু পরিবর্তন বাস্তব এবং হ্যাঁ, যদি আমরা অবিলম্বে এটির বিষয়ে কিছু না করি তবে আমরা সত্যিই ক্ষতিগ্রস্থ হব। এখানে মার্কিন যুক্তরাষ্ট্রে আমাদের কাছে বোকা ফাকিং ট্রাম্প আছে যারা প্যারিস চুক্তি থেকে প্রত্যাহার করেছে - আমরা এই বিষয়ে কোন অগ্রগতি করব না যতক্ষণ না সেই বোকা - এবং সেই সমস্ত জলবায়ু পরিবর্তন যারা রিপাবলিকানদের অস্বীকার করছে - হোয়াইট হাউসের বাইরে না।\n",
      "score: 3.8829417\n"
     ]
    }
   ],
   "source": [
    "data_bn = pd.read_csv('t_data/test_data_bn.tsv', sep='\\t')\n",
    "sen_bn = data_bn['essay'].tolist()\n",
    "pred_emp_bn, pred_dis_bn = predict_score(sen_bn)\n",
    "get_scores(data_bn,pred_emp_org, acu_emp, pred_dis_org, acu_dis,pred_emp_bn, pred_dis_bn)"
   ]
  },
  {
   "cell_type": "code",
   "execution_count": 19,
   "metadata": {},
   "outputs": [
    {
     "name": "stdout",
     "output_type": "stream",
     "text": [
      "Pearson Fution empathy: -0.06622404245792637\n",
      "Pearson Stack distress: 0.044064594110332034\n",
      "Empathy:\n",
      "Error score: 0.0\n",
      "Distress:\n",
      "Error score: 0.13703703703703704\n",
      "I find it crazy that there are still situations these days in which people cannot receive donations and help during and emergency. We are supposed to be a civilized race and yet even during tragedies such as this hurricane the greed of man shines through. I hesitate to donate to a lot of organizations because I feel that a lot of it may be siphoned off or stolen and only a portion of my help reaches the destination. I wish there was a direct way to help.\n",
      "score: 3.8011258\n",
      "Ich finde es verrückt, dass es heutzutage immer noch Situationen gibt, in denen Menschen keine Spenden und Hilfe in Notfällen erhalten können. Wir sollen eine zivilisierte Rasse sein, und doch scheint selbst bei Tragödien wie diesem Hurrikan die Gier der Menschen durch. Ich zögere, an viele Organisationen zu spenden, weil ich das Gefühl habe, dass viel davon abgeschöpft oder gestohlen werden kann und nur ein Teil meiner Hilfe das Ziel erreicht. Ich wünschte, es gäbe einen direkten Weg, um zu helfen.\n",
      "score: 4.0034547\n",
      "These kinds of situations are always tough to gauge. In this article it claims the man shot did try to flee and the officer flee for his life. Although there is probably more information needed, this isn't a simple \"officer shot black man because he's black\". The officer could very well have feared for his life clinging on to the car. Although based off the article the cop could be racially targeting black people. Again these situations are always tricky but in this case I think both parties are to blame.\n",
      "score: 3.8364146\n",
      "Solche Situationen sind immer schwer einzuschätzen. In diesem Artikel wird behauptet, der angeschossene Mann habe versucht zu fliehen und der Offizier sei um sein Leben geflohen. Obwohl wahrscheinlich mehr Informationen benötigt werden, ist dies kein einfaches „Offizier erschoss schwarzen Mann, weil er schwarz ist“. Der Beamte hätte sehr wohl um sein Leben fürchten müssen, wenn er sich am Auto festklammerte. Obwohl der Polizist auf der Grundlage des Artikels rassistisch auf Schwarze abzielt. Auch diese Situationen sind immer knifflig, aber in diesem Fall denke ich, dass beide Parteien schuld sind.\n",
      "score: 4.141459\n",
      "People are so selfish in this world. It makes me so sick. Like why are you even married if you don't want to be with your wife? Why would you destroy a little boys life because you are too distracted by women? This guy has a lot of things going wrong for him but it's that I just read an article about a dad leaving his 22 month old in a hot car and the article has to focus on how the dad was cheating on his wife instead of focusing on how sad it is that a little boy died!\n",
      "score: 3.9878175\n",
      "Die Menschen sind so egoistisch in dieser Welt. Es macht mich so krank. Warum bist du überhaupt verheiratet, wenn du nicht mit deiner Frau zusammen sein willst? Warum würdest du das Leben eines kleinen Jungen zerstören, weil du zu sehr von Frauen abgelenkt bist? Bei diesem Typen laufen viele Dinge schief, aber ich habe gerade einen Artikel über einen Vater gelesen, der sein 22 Monate altes Kind in einem heißen Auto zurücklässt, und der Artikel muss sich darauf konzentrieren, wie der Vater seine Frau betrogen hat, anstatt sich darauf zu konzentrieren Wie traurig ist es, dass ein kleiner Junge gestorben ist!\n",
      "score: 4.1309147\n",
      "I wish that the whole system that dealt with poaching and the monitoring of it was reformed. I hate to see the statistics and scenarios that state that even when the animals are recovered, that they still face harsh and inhumane conditions. If more people actually cared enough to make their voices heard I think things could change. If there was a central system that everybody could work in things would be a lot better of than each state/nation/city having their own policies.\n",
      "score: 3.7954984\n",
      "Ich wünsche mir, dass das gesamte System zur Wilderei und deren Überwachung reformiert wird. Ich hasse es, die Statistiken und Szenarien zu sehen, die besagen, dass die Tiere selbst dann, wenn sie geborgen werden, immer noch harten und unmenschlichen Bedingungen ausgesetzt sind. Wenn sich mehr Menschen wirklich genug darum kümmern würden, um sich Gehör zu verschaffen, könnten sich die Dinge meines Erachtens ändern. Wenn es ein zentrales System gäbe, an dem jeder arbeiten könnte, wäre es viel besser, als dass jeder Staat/jede Nation/Stadt ihre eigene Politik hätte.\n",
      "score: 4.118297\n",
      "I cannot imagine what is going through those parent's minds.  To not be able to protect your kids, sending them to school believing that they would be safe.  It's every parent's worst nightmare.  I don't know what would be worse, having hope that the kids are still alive or never having closure.  And how scared the kids must have been!  I don't know how anyone could hurt children.  They can't have any conscience or heart.\n",
      "score: 3.790462\n",
      "Ich kann mir nicht vorstellen, was in den Köpfen dieser Eltern vorgeht. Ihre Kinder nicht beschützen zu können, sie in die Schule zu schicken in dem Glauben, dass sie in Sicherheit wären. Es ist der schlimmste Albtraum aller Eltern. Ich weiß nicht, was schlimmer wäre, die Hoffnung zu haben, dass die Kinder noch am Leben sind, oder nie eine Schließung zu haben. Und wie verängstigt müssen die Kinder gewesen sein! Ich weiß nicht, wie jemand Kindern wehtun könnte. Sie können kein Gewissen oder Herz haben.\n",
      "score: 3.9697125\n"
     ]
    }
   ],
   "source": [
    "data_de = pd.read_csv('t_data/test_data_de.tsv', sep='\\t')\n",
    "sen_de = data_de['essay'].tolist()\n",
    "pred_emp_de, pred_dis_de = predict_score(sen_de)\n",
    "get_scores(data_de,pred_emp_org, acu_emp, pred_dis_org, acu_dis,pred_emp_de, pred_dis_de)"
   ]
  },
  {
   "cell_type": "code",
   "execution_count": 20,
   "metadata": {},
   "outputs": [
    {
     "name": "stdout",
     "output_type": "stream",
     "text": [
      "Pearson Fution empathy: 0.04165922811806646\n",
      "Pearson Stack distress: 0.10158036677647157\n",
      "Empathy:\n",
      "Error score: 0.0\n",
      "Distress:\n",
      "Error score: 0.17777777777777778\n",
      "I'm torn on the whole ivory trade situation. I get that farmers and people in their territory are often bothered by elephants (i.e. through crop destruction, etc.), but it doesn't seem fair to cause so much suffering to these animals. I feel bad that the locals are likely poor and feel that they have little choice, but I hate to think of elephants suffering.\n",
      "score: 3.786398\n",
      "Είμαι διχασμένη με την όλη κατάσταση του εμπορίου ελεφαντόδοντου. Καταλαβαίνω ότι οι αγρότες και οι άνθρωποι στην επικράτειά τους ενοχλούνται συχνά από ελέφαντες (δηλαδή μέσω της καταστροφής των καλλιεργειών, κ.λπ.), αλλά δεν φαίνεται δίκαιο να προκαλέσουμε τόσο μεγάλο πόνο σε αυτά τα ζώα. Αισθάνομαι άσχημα που οι ντόπιοι είναι πιθανώς φτωχοί και νιώθω ότι δεν έχουν πολλές επιλογές, αλλά μισώ να σκέφτομαι τους ελέφαντες που υποφέρουν.\n",
      "score: 3.9978364\n",
      "Hey! Did you see Harambe is back in the news again? They are blaming the park again for \"not being up to code\" when they were and never have been out of code. That accident was exactly that an accident. It clearly says on signs at almost every zoo, do not hang over and not to climb the fences. The child may have been told by the parents not to but thats why they are called accidents. because children do not listen. Sadily it cost Harambe his life.\n",
      "score: 3.7955241\n",
      "Γεια σου! Είδατε ο Χαραμπέ να είναι ξανά στις ειδήσεις; Κατηγορούν ξανά το πάρκο ότι «δεν ήταν σε θέση κώδικα» όταν ήταν και δεν ήταν ποτέ εκτός κώδικα. Αυτό το ατύχημα ήταν ακριβώς αυτό ένα ατύχημα. Λέει ξεκάθαρα στις πινακίδες σχεδόν σε κάθε ζωολογικό κήπο, μην κρέμεστε και μην σκαρφαλώνετε στους φράχτες. Μπορεί οι γονείς να έχουν πει στο παιδί να μην το κάνει, αλλά γι' αυτό το λένε ατυχήματα. γιατί τα παιδιά δεν ακούν. Δυστυχώς στοίχισε τη ζωή του στον Χαράμπε.\n",
      "score: 4.1219125\n",
      "This article is such BS. There's so freaking way that the kid was body slammed because he tried to leave the classroom. I'm so sick and tired of the media portraying teachers and educators in a bad light. He probably threatened to kill the teacher, probably came at him and the teacher felt fear for their life. The kid didn't deserve to get so hurt, but i'm sorry the media is portraying the teacher as a freaking monster and that is pure bs\n",
      "score: 3.9278622\n",
      "Αυτό το άρθρο είναι τέτοιο BS. Υπάρχει τόσο τρομερός τρόπος που το παιδί χτυπήθηκε με το σώμα επειδή προσπάθησε να φύγει από την τάξη. Είμαι τόσο άρρωστος και κουρασμένος από τα μέσα ενημέρωσης που παρουσιάζουν δασκάλους και εκπαιδευτικούς με κακό φως. Πιθανότατα απείλησε να σκοτώσει τον δάσκαλο, πιθανότατα ήρθε εναντίον του και ο δάσκαλος ένιωσε φόβο για τη ζωή τους. Το παιδί δεν άξιζε να πληγωθεί τόσο πολύ, αλλά λυπάμαι που τα μέσα ενημέρωσης παρουσιάζουν τον δάσκαλο ως ένα φρικτό τέρας και αυτό είναι καθαρό bs\n",
      "score: 4.130573\n",
      "Donald Trump's anti-minority rhetoric has to stop. He has stirred up those who are Islamophobic and has put people in grave danger. That is not how a leader should act. And banning Muslims from entering the United States is very unfair. This situation makes me so mad. Many of the Muslims who wish to come to the US are doing so to keep their families safe, but in fact, it is becoming less safe for them here.\n",
      "score: 3.7955532\n",
      "Η ρητορική κατά της μειονότητας του Ντόναλντ Τραμπ πρέπει να σταματήσει. Έχει ξεσηκώσει όσους είναι ισλαμοφοβικοί και έχει θέσει τους ανθρώπους σε σοβαρό κίνδυνο. Δεν πρέπει να ενεργεί έτσι ένας ηγέτης. Και η απαγόρευση εισόδου μουσουλμάνων στις Ηνωμένες Πολιτείες είναι πολύ άδικη. Αυτή η κατάσταση με τρελαίνει τόσο πολύ. Πολλοί από τους μουσουλμάνους που επιθυμούν να έρθουν στις ΗΠΑ το κάνουν για να κρατήσουν τις οικογένειές τους ασφαλείς, αλλά στην πραγματικότητα, γίνεται λιγότερο ασφαλές για αυτούς εδώ.\n",
      "score: 4.1095643\n",
      "Okay seriously this is so dumb. If you don't want your child eating \"deadly junk\" then don't buy your kid deadly junk. Articles like this make it seem like parents have no control over what their children eat. If you teach your children about food being fuel and not being a source of simply pleasure, they will make the right choices a majority of the time. Not saying a kid doesn't deserve a treat, but come on people.\n",
      "score: 3.7883081\n",
      "Εντάξει σοβαρά αυτό είναι τόσο ανόητο. Εάν δεν θέλετε το παιδί σας να τρώει «θανατηφόρα σκουπίδια», τότε μην αγοράζετε στο παιδί σας θανατηφόρα σκουπίδια. Άρθρα σαν αυτό κάνουν να φαίνεται ότι οι γονείς δεν έχουν κανέναν έλεγχο στο τι τρώνε τα παιδιά τους. Εάν διδάξετε στα παιδιά σας ότι το φαγητό είναι καύσιμο και όχι πηγή απλώς ευχαρίστησης, θα κάνουν τις σωστές επιλογές τις περισσότερες φορές. Χωρίς να λέμε ότι ένα παιδί δεν αξίζει μια λιχουδιά, αλλά έλα ρε άνθρωποι.\n",
      "score: 4.0705347\n"
     ]
    }
   ],
   "source": [
    "data_el = pd.read_csv('t_data/test_data_el.tsv', sep='\\t')\n",
    "sen_el = data_el['essay'].tolist()\n",
    "pred_emp_el, pred_dis_el = predict_score(sen_el)\n",
    "get_scores(data_el,pred_emp_org, acu_emp, pred_dis_org, acu_dis,pred_emp_el, pred_dis_el)"
   ]
  },
  {
   "cell_type": "code",
   "execution_count": 21,
   "metadata": {},
   "outputs": [
    {
     "name": "stdout",
     "output_type": "stream",
     "text": [
      "Pearson Fution empathy: 0.040446413647949396\n",
      "Pearson Stack distress: 0.07584135703355131\n",
      "Empathy:\n",
      "Error score: 0.0\n",
      "Distress:\n",
      "Error score: 0.15185185185185185\n",
      "I do not find is unbelievable that many veterans have sleep disorders or trouble sleeping at night. My grandfather was a Vietnam War veteran and he would wake in the middle of night screaming three or four days out of the week. PTSD and anxiety that stems from being overseas at war is something that should be taken very serious when it comes to Veterans who have issues later in life. Not getting enough sleep at night can also cause a whole new host of health issues.\n",
      "score: 3.8007064\n",
      "मुझे नहीं लगता कि यह अविश्वसनीय है कि कई दिग्गजों को नींद की बीमारी या रात में सोने में परेशानी होती है। मेरे दादाजी वियतनाम युद्ध के अनुभवी थे और वे सप्ताह में तीन या चार दिन चिल्लाते हुए आधी रात को जाग जाते थे। पीटीएसडी और चिंता जो युद्ध में विदेशों में होने से उत्पन्न होती है, कुछ ऐसी चीज है जिसे बहुत गंभीरता से लिया जाना चाहिए जब वेटरनर्स की बात आती है जिनके जीवन में बाद में समस्याएं होती हैं। रात में पर्याप्त नींद न लेने से भी कई तरह की स्वास्थ्य समस्याएं हो सकती हैं।\n",
      "score: 4.0974374\n",
      "A lot of us do what we can to lower our emissions and pollution, even still, this study shouldn't be surprising to anyone. Of course the poor air is hurting people, we're poisoning the children and profit is all that really matters in the end, nothing will change until you force it to. If everyone did the most they could do we might have a shot at reducing or reversing some of this damage, but as it is it's obviously not changing and it's hurting people's lives.\n",
      "score: 3.9305937\n",
      "हम में से बहुत से लोग अपने उत्सर्जन और प्रदूषण को कम करने के लिए जो कर सकते हैं वह करते हैं, फिर भी, इस अध्ययन से किसी को आश्चर्य नहीं होना चाहिए। बेशक खराब हवा लोगों को नुकसान पहुंचा रही है, हम बच्चों को जहर दे रहे हैं और लाभ ही वास्तव में मायने रखता है, जब तक आप इसे मजबूर नहीं करेंगे तब तक कुछ भी नहीं बदलेगा। यदि हर कोई सबसे अधिक कर सकता है तो हमारे पास इस क्षति को कम करने या उलटने के लिए एक शॉट हो सकता है, लेकिन जैसा कि यह स्पष्ट रूप से नहीं बदल रहा है और यह लोगों के जीवन को नुकसान पहुंचा रहा है।\n",
      "score: 4.113031\n",
      "I read a news article about a man who died in Yellowstone Hot springs. The article said that he fell into a boiling scidic spring in the park. Could you imagine that? I wonder if he died right away or if he suffered a lot before dying. Rangers tried to recover the mans body after the mans sister called and reported the accident. They believe that the extreme heat and the acidic liquid completely disolved the body and there was nothing left. That is wild to even think about, I have never heard of such an accident in my life.\n",
      "score: 3.9978337\n",
      "मैंने येलोस्टोन हॉट स्प्रिंग्स में मरने वाले एक व्यक्ति के बारे में एक समाचार लेख पढ़ा। लेख में कहा गया है कि वह पार्क में एक उबलते हुए झरने में गिर गया। क्या आप इसकी कल्पना कर सकते हैं? मुझे आश्चर्य है कि क्या वह तुरंत मर गया या मरने से पहले उसने बहुत कुछ सहा। आदमी की बहन के फोन करने और दुर्घटना की सूचना देने के बाद रेंजरों ने आदमी के शव को बरामद करने की कोशिश की। उनका मानना ​​है कि अत्यधिक गर्मी और अम्लीय तरल ने शरीर को पूरी तरह से भंग कर दिया और कुछ भी नहीं बचा। इसके बारे में सोचना भी जंगली है, मैंने अपने जीवन में ऐसी दुर्घटना के बारे में कभी नहीं सुना।\n",
      "score: 4.1439347\n",
      "I can understand why the Jewish community would be concerned and gathering together for prayer after hearing the election results.  I don't agree with comparing Trump to the Hitler era though.  He hasn't set up concentration camps, and it was quite an exaggeration.  No matter the outcome of the election, there would have been uproar from some outliers that would rebel and graffiti.  Everyone in America deserves to have a voice though, and their concerns were done in a peaceful way, which I appreciate.\n",
      "score: 3.8289652\n",
      "मैं समझ सकता हूं कि चुनाव परिणाम सुनने के बाद यहूदी समुदाय क्यों चिंतित होगा और प्रार्थना के लिए एक साथ इकट्ठा होगा। हालांकि मैं ट्रंप की तुलना हिटलर के दौर से करने से सहमत नहीं हूं। उसने यातना शिविर नहीं लगाए हैं, और यह बहुत ही अतिशयोक्ति थी। चुनाव का नतीजा चाहे कुछ भी हो, कुछ बाहरी लोगों से हंगामा होता जो बगावत और भित्तिचित्र करते। हालांकि अमेरिका में हर कोई आवाज उठाने का हकदार है, और उनकी चिंताओं को शांतिपूर्ण तरीके से किया गया, जिसकी मैं सराहना करता हूं।\n",
      "score: 4.0277133\n",
      "Hiro, both you and I know how much we both dislike Donald Trump, along with millions of others out there. This article has only reinforced my dislike for such a leadership we have got. He is quite the disgrace to our nation as Americans and I just want to show you this article saying that not only has he made our nation worse off than it was, he is going to take it over and made it into a living hell for millions out there.\n",
      "score: 3.7947474\n",
      "हिरो, आप और मैं दोनों जानते हैं कि हम दोनों डोनाल्ड ट्रम्प को कितना नापसंद करते हैं, लाखों अन्य लोगों के साथ। इस लेख ने हमें मिले ऐसे नेतृत्व के प्रति मेरी अरुचि को और बढ़ा ही दिया है। वह अमेरिकियों के रूप में हमारे देश के लिए काफी अपमानजनक है और मैं आपको केवल यह कहते हुए यह लेख दिखाना चाहता हूं कि उसने न केवल हमारे देश को इससे भी बदतर बना दिया है, वह इसे खत्म करने जा रहा है और इसे लाखों लोगों के लिए एक जीवित नरक बना देगा। वहाँ से बाहर।\n",
      "score: 3.893381\n"
     ]
    }
   ],
   "source": [
    "data_hi = pd.read_csv('t_data/test_data_hi.tsv', sep='\\t')\n",
    "sen_hi = data_hi['essay'].tolist()\n",
    "pred_emp_hi, pred_dis_hi = predict_score(sen_hi)\n",
    "get_scores(data_hi,pred_emp_org, acu_emp, pred_dis_org, acu_dis,pred_emp_hi, pred_dis_hi)"
   ]
  },
  {
   "cell_type": "code",
   "execution_count": 22,
   "metadata": {},
   "outputs": [
    {
     "name": "stdout",
     "output_type": "stream",
     "text": [
      "Pearson Fution empathy: -0.06304422050070489\n",
      "Pearson Stack distress: 0.06418706452215772\n",
      "Empathy:\n",
      "Error score: 0.0\n",
      "Distress:\n",
      "Error score: 0.07407407407407407\n",
      "I do not find is unbelievable that many veterans have sleep disorders or trouble sleeping at night. My grandfather was a Vietnam War veteran and he would wake in the middle of night screaming three or four days out of the week. PTSD and anxiety that stems from being overseas at war is something that should be taken very serious when it comes to Veterans who have issues later in life. Not getting enough sleep at night can also cause a whole new host of health issues.\n",
      "score: 3.8007064\n",
      "धेरै दिग्गजहरूलाई निद्रा सम्बन्धी विकारहरू वा रातमा सुत्न समस्या भएको कुरा मलाई अविश्वसनीय लाग्दैन। मेरो हजुरबुबा भियतनाम युद्धका दिग्गज हुनुहुन्थ्यो र उहाँ हप्ताको तीन वा चार दिन चिच्याउदै मध्यरातमा उठ्नुहुन्छ। PTSD र चिन्ता जुन युद्धमा विदेशमा हुनबाट उत्पन्न हुन्छ जुन धेरै गम्भीर रूपमा लिनु पर्छ जब यो जीवनमा पछि समस्याहरू भएका वेटरहरूको कुरा आउँछ। राती पर्याप्त निन्द्रा नलाग्दा पनि विभिन्न स्वास्थ्य समस्या निम्त्याउन सक्छ।\n",
      "score: 3.9052606\n",
      "I just read an article about a democrat running for office. It talked about \"if Hillary won the election\" How can people be so ignorant. If Hillary won the election America would be in a much worse situation than it is currently. It just amazes me what they focus their elections on. Ok, guns kill people...whatever Democrats kill babies. Why has nobody been bright enough to realize that? I think the country is slowly becoming retarded.\n",
      "score: 3.7877798\n",
      "मैले भर्खरै एक लोकतन्त्रको कार्यालयको लागि दौडिएको लेख पढें। \"यदि हिलारीले चुनाव जिते भने\" भन्ने कुरामा जनता यति अनभिज्ञ कसरी हुन सक्छन् । यदि हिलारीले चुनाव जिते भने अमेरिकाको अवस्था अहिलेको भन्दा धेरै खराब हुने थियो । यसले मलाई अचम्ममा पार्छ कि उनीहरूले आफ्नो चुनावमा के केन्द्रित गर्छन्। ठिक छ, बन्दुकले मानिसलाई मार्छ ... जे भए पनि डेमोक्र्याटहरूले बच्चाहरूलाई मार्छन्। किन कसैले बुझाउन सक्ने उज्यालो भएन? मलाई लाग्छ देश बिस्तारै अस्तव्यस्त बन्दै गएको छ ।\n",
      "score: 4.048348\n",
      "A lot of us do what we can to lower our emissions and pollution, even still, this study shouldn't be surprising to anyone. Of course the poor air is hurting people, we're poisoning the children and profit is all that really matters in the end, nothing will change until you force it to. If everyone did the most they could do we might have a shot at reducing or reversing some of this damage, but as it is it's obviously not changing and it's hurting people's lives.\n",
      "score: 3.9305937\n",
      "हामी मध्ये धेरैले हाम्रो उत्सर्जन र प्रदूषण कम गर्न के गर्न सक्छौं, अझै पनि, यो अध्ययन कसैको लागि अचम्मको हुनु हुँदैन। निस्सन्देह, खराब हावाले मानिसहरूलाई चोट पुर्‍याइरहेको छ, हामी बच्चाहरूलाई विष दिइरहेका छौं र नाफा भनेको अन्तमा वास्तवमै महत्त्वपूर्ण कुरा हो, तपाईंले यसलाई जबरजस्ती नगरेसम्म केही पनि परिवर्तन हुँदैन। यदि सबैले उनीहरूले गर्न सक्ने सबै भन्दा धेरै गरे भने हामीसँग यस क्षतिको केही घटाउन वा उल्टाउनको लागि शट हुन सक्छ, तर यो स्पष्ट रूपमा परिवर्तन भएको छैन र यसले मानिसहरूको जीवनमा चोट पुर्‍याइरहेको छ।\n",
      "score: 4.104543\n",
      "As a woman, it is very discouraging to see that we are being paid less in several countries just because of our gender.  I am in awe of the women in Iceland that have the courage to leave work early on this day in a demonstration.  Their perseverance to continue to protest peacefully is making a chance, albeit a small one based on the percentages.  I'm just saddened by the times shown in the article that women would need to leave in each country to be equal to a man's pay still.\n",
      "score: 3.9190273\n",
      "एक महिलाको हैसियतमा, हाम्रो लिंगका कारण धेरै देशहरूमा हामीलाई कम पारिश्रमिक दिइँदै आएको देख्दा निरुत्साहित हुन्छ। म आइसल्याण्डका महिलाहरू देखेर छक्क परेको छु जसले प्रदर्शनमा यस दिन चाँडै काम छोड्ने साहस गरेका छन्। प्रतिशतका आधारमा थोरै भए पनि शान्तिपूर्ण रूपमा विरोध गर्न जारी राख्ने उनीहरूको लगनशीलताले मौका बनाउँदैछ। म लेखमा देखाइएको समयले दु: खी छु कि महिलाहरूले प्रत्येक देशमा पुरुषको तलब बराबर हुन छोड्नु पर्छ।\n",
      "score: 3.7846906\n",
      "Its amazing what our country does sometimes. We steal land from the natives over hundreds of years and their reservations get smaller and smaller as we want to industrialize every bit of America. Its silly to think that people that once lived on these lands have to live on \"reservations\" to begin with. What gives our government the right to completely control every bit of land and person that exists on it (before or after they were here?)\n",
      "score: 3.7944798\n",
      "यो अचम्मको कुरा हाम्रो देशले कहिलेकाहीं गर्छ। हामीले सयौं वर्षदेखि मूल निवासीहरूबाट जग्गा चोर्छौं र तिनीहरूको आरक्षणहरू सानो र सानो हुँदै जान्छ किनकि हामी अमेरिकाको हरेक बिट औद्योगिकीकरण गर्न चाहन्छौं। यो सोच्नु मूर्खता हो कि एक पटक यी भूमिहरूमा बस्ने मानिसहरू सुरु गर्न \"आरक्षण\" मा बाँच्नु पर्छ। कुन कुराले हाम्रो सरकारलाई त्यहाँ अवस्थित प्रत्येक भूभाग र व्यक्तिलाई पूर्ण रूपमा नियन्त्रण गर्ने अधिकार दिन्छ (उनीहरू यहाँ हुनुअघि वा पछि?)\n",
      "score: 3.8876827\n"
     ]
    }
   ],
   "source": [
    "data_nel = pd.read_csv('t_data/test_data_nel.tsv', sep='\\t')\n",
    "sen_nel = data_nel['essay'].tolist()\n",
    "pred_emp_nel, pred_dis_nel = predict_score(sen_nel)\n",
    "get_scores(data_nel,pred_emp_org, acu_emp, pred_dis_org, acu_dis,pred_emp_nel, pred_dis_nel)"
   ]
  },
  {
   "cell_type": "code",
   "execution_count": 23,
   "metadata": {},
   "outputs": [
    {
     "name": "stdout",
     "output_type": "stream",
     "text": [
      "Pearson Fution empathy: -0.06595314087195321\n",
      "Pearson Stack distress: 0.06262843281893489\n",
      "Empathy:\n",
      "Error score: 0.0\n",
      "Distress:\n",
      "Error score: 0.05925925925925926\n",
      "Why can't people just live in peace?  These things happen way too often.  What does killing innocent people do to further an offender's cause?  I can't imagine the panic and terror the attendees must have felt.  It makes me nervous every time I'm in a crowded venue.  You like to think it can't happen to you, but honestly, you just don't know.  We all have such a short time here, we should be able to enjoy it without fear.\n",
      "score: 3.7949452\n",
      "Kwa nini watu hawawezi tu kuishi kwa amani? Mambo haya hutokea mara nyingi sana. Je, kuua watu wasio na hatia kunafanya nini ili kuendeleza sababu ya mkosaji? Siwezi kufikiria hofu na woga ambao waliohudhuria lazima walihisi. Hunifanya niwe na wasiwasi kila ninapokuwa kwenye ukumbi wenye watu wengi. Unapenda kufikiria kuwa haiwezi kutokea kwako, lakini kwa uaminifu, hujui tu. Sote tuna muda mfupi hapa, tunapaswa kuwa na uwezo wa kufurahia bila hofu.\n",
      "score: 3.9881544\n",
      "I read a short article about a father and son dying after falling from a cliff. That is so sad, I wonder how the rest of the family is taking it. Could you imagine falling from  a cliff? I had a friend when I was young named Phillip who fell from a mountain and died. It took a few days for his body to be found. I think that is a horrible way to die. I mean they died doing what they loved I guess but still its never good to hear about a death. I want to see everybody living their best life.\n",
      "score: 4.0143137\n",
      "Nilisoma makala fupi kuhusu baba na mwana kufa baada ya kuanguka kutoka kwenye mwamba. Hiyo inasikitisha sana, nashangaa jinsi wengine wa familia wanachukulia. Je, unaweza kufikiria kuanguka kutoka kwenye mwamba? Nilikuwa na rafiki nilipokuwa mdogo aitwaye Phillip ambaye alianguka kutoka mlimani na kufa. Ilichukua siku chache kwa mwili wake kupatikana. Nadhani hiyo ni njia mbaya ya kufa. Namaanisha walikufa wakifanya walichopenda nadhani lakini bado sio vizuri kusikia juu ya kifo. Nataka kuona kila mtu akiishi maisha yake bora.\n",
      "score: 4.1000447\n",
      "This female lawyer that accused her boss of sexually harassing her may very well be a true story in every detail. Things like this happened previously at a very alarming rate and continue to happen today even if it is less frequent. The problem with bringing these issues forward at a later date is that it is hard for these claims to be validated with so much time in between the actual act. I think the rhetoric and climate of current administration in the white house also helps add to the power of these men to just deny the claims.\n",
      "score: 3.9658074\n",
      "Wakili huyu wa kike aliyemshutumu bosi wake kwa kumnyanyasa kingono huenda ikawa hadithi ya kweli kwa kila undani. Mambo kama haya yalitokea hapo awali kwa kasi ya kutisha sana na yanaendelea kutokea leo hata ikiwa ni mara chache sana. Tatizo la kuleta masuala haya baadaye ni kwamba ni vigumu kwa madai haya kuthibitishwa kwa muda mwingi kati ya kitendo halisi. Nadhani matamshi na hali ya hewa ya utawala wa sasa katika nyumba nyeupe pia inasaidia kuongeza nguvu ya wanaume hawa kukataa tu madai.\n",
      "score: 4.0417113\n",
      "I do not find is unbelievable that many veterans have sleep disorders or trouble sleeping at night. My grandfather was a Vietnam War veteran and he would wake in the middle of night screaming three or four days out of the week. PTSD and anxiety that stems from being overseas at war is something that should be taken very serious when it comes to Veterans who have issues later in life. Not getting enough sleep at night can also cause a whole new host of health issues.\n",
      "score: 3.8007064\n",
      "Sioni kuwa haiaminiki kuwa wakongwe wengi wana shida za kulala au shida ya kulala usiku. Babu yangu alikuwa mkongwe wa Vita vya Vietnam na angeweza kuamka katikati ya usiku akipiga kelele siku tatu au nne nje ya juma. PTSD na wasiwasi unaotokana na kuwa nje ya nchi kwenye vita ni jambo ambalo linapaswa kuchukuliwa kwa uzito sana linapokuja suala la Veterans ambao wana masuala ya baadaye maishani. Kutopata usingizi wa kutosha usiku pia kunaweza kusababisha mambo mengi mapya ya kiafya.\n",
      "score: 3.9521246\n",
      "I read an article about all of these protests that have been happening. A guy in Portland who was Protesting Trump was shot but he is going to be okay. Of course the cops are acting like the protesters are the problem. These protests are going on all over the country and it is pretty moving to see all of these people stand up for what they believe in. I can't believe this orange bufoon was elected to be our President. What were people thinking when they voted for him? Did they believe he was going to unite the country and be some great leader?\n",
      "score: 4.1174674\n",
      "Nilisoma makala kuhusu maandamano haya yote ambayo yamekuwa yakitokea. Jamaa mmoja huko Portland ambaye alikuwa akiandamana na Trump alipigwa risasi lakini atakuwa sawa. Kwa kweli polisi wanafanya kama waandamanaji ndio shida. Maandamano haya yanaendelea nchi nzima na inatia moyo sana kuona watu hawa wote wanasimama kwa kile wanachokiamini. Siwezi kuamini huyu gwiji wa chungwa alichaguliwa kuwa Rais wetu. Watu walikuwa wanafikiria nini walipompigia kura? Je, waliamini kuwa angeiunganisha nchi na kuwa kiongozi fulani mkuu?\n",
      "score: 4.0004983\n"
     ]
    }
   ],
   "source": [
    "data_sw = pd.read_csv('t_data/test_data_sw.tsv', sep='\\t')\n",
    "sen_sw = data_sw['essay'].tolist()\n",
    "pred_emp_sw, pred_dis_sw = predict_score(sen_sw)\n",
    "get_scores(data_sw,pred_emp_org, acu_emp, pred_dis_org, acu_dis,pred_emp_sw, pred_dis_sw)"
   ]
  },
  {
   "cell_type": "code",
   "execution_count": 24,
   "metadata": {},
   "outputs": [
    {
     "name": "stdout",
     "output_type": "stream",
     "text": [
      "Pearson Fution empathy: -0.013458585127990811\n",
      "Pearson Stack distress: 0.07216117392972365\n",
      "Empathy:\n",
      "Error score: 0.0\n",
      "Distress:\n",
      "Error score: 0.11851851851851852\n",
      "I just read an article about how animals all over the world in zoo's are starving for various reasons. it is pretty sad to see that people take these wild animals to show off then can't afford to pay for their food, starving them sometimes to death. Poor animals. Hope that they can resolve this soon so no more animals have to suffer. Hope the people in those areas are alright as well.\n",
      "score: 3.7851408\n",
      "జంతుప్రదర్శనశాలలో ప్రపంచవ్యాప్తంగా ఉన్న జంతువులు వివిధ కారణాల వల్ల ఎలా ఆకలితో అలమటిస్తున్నాయనే దాని గురించి నేను ఒక కథనాన్ని చదివాను. ప్రజలు ఈ అడవి జంతువులను ప్రదర్శన కోసం తీసుకువెళ్లడం చాలా విచారకరం, అప్పుడు వాటి ఆహారం కోసం డబ్బు చెల్లించలేక, కొన్నిసార్లు వాటిని ఆకలితో చనిపోతుంది. పేద జంతువులు. వారు దీన్ని త్వరగా పరిష్కరిస్తారని ఆశిస్తున్నాము, తద్వారా ఇకపై జంతువులు బాధపడకూడదు. ఆయా ప్రాంతాల్లోని ప్రజలు కూడా బాగుంటారని ఆశిస్తున్నాం.\n",
      "score: 3.8494902\n",
      "I just finished reading an article on climate change. I have mixed feelings about whether it is man made or do to the environment. I believe that while humans have a contributing factor, they are not the only ones. I think some of the admissions are naturally occurring. I also think that some of the naturally occurring emissions are accelerated but human and the disruption to the environment. I see everyday new developments going up and think wow we really should preserve more trees. This article made me affirmed that for me.\n",
      "score: 3.9150648\n",
      "నేను వాతావరణ మార్పుపై ఒక కథనాన్ని చదవడం ముగించాను. ఇది మనిషి చేసినదా లేక పర్యావరణానికి చేస్తోందా అనే దానిపై నాకు మిశ్రమ భావాలు ఉన్నాయి. మానవులకు దోహదపడే అంశం ఉన్నప్పటికీ, వారు మాత్రమే కాదని నేను నమ్ముతున్నాను. కొన్ని అడ్మిషన్లు సహజంగా జరుగుతాయని నేను భావిస్తున్నాను. సహజంగా వెలువడే ఉద్గారాలలో కొన్ని వేగవంతమైనవి కానీ మానవ మరియు పర్యావరణానికి అంతరాయం కలిగించాయని కూడా నేను భావిస్తున్నాను. ప్రతిరోజూ కొత్త పరిణామాలు పెరుగుతున్నాయని నేను చూస్తున్నాను మరియు మనం నిజంగా మరిన్ని చెట్లను సంరక్షించాలని అనుకుంటున్నాను. ఈ కథనం నా కోసం దాన్ని ధృవీకరించింది.\n",
      "score: 4.089165\n",
      "We need to get these Haitians some food and have to develop a plan to do so. More than 141,000 storm victims are in shelters, and they need to go somewhere. We need to care about the kids first and the adults can come second. I say this because kids are the most needy and adults can get their own jobs in the future. This is how society tends to work. I think that is the best thing to do here overall. Kids asking for help just breaks my heart and makes me want to do something for them. I feel like that is the best thing to do in this whole situation going here at the moment.\n",
      "score: 4.1299148\n",
      "మేము ఈ హైటియన్లకు కొంత ఆహారాన్ని పొందాలి మరియు అలా చేయడానికి ఒక ప్రణాళికను అభివృద్ధి చేయాలి. 141,000 కంటే ఎక్కువ మంది తుఫాను బాధితులు ఆశ్రయాలలో ఉన్నారు మరియు వారు ఎక్కడికైనా వెళ్లాలి. మనం మొదట పిల్లల గురించి శ్రద్ధ వహించాలి మరియు పెద్దలు రెండవ స్థానంలో రావచ్చు. నేను ఇలా చెప్తున్నాను ఎందుకంటే పిల్లలు చాలా అవసరం మరియు పెద్దలు భవిష్యత్తులో వారి స్వంత ఉద్యోగాలు పొందవచ్చు. సమాజం ఈ విధంగా పని చేస్తుంది. మొత్తంమీద ఇక్కడ చేయడం ఉత్తమమైన పని అని నేను భావిస్తున్నాను. పిల్లలు సహాయం కోసం అడగడం నా హృదయాన్ని విచ్ఛిన్నం చేస్తుంది మరియు నేను వారి కోసం ఏదైనా చేయాలని కోరుకునేలా చేస్తుంది. ప్రస్తుతానికి ఇక్కడికి వెళ్లే ఈ మొత్తం పరిస్థితిలో అదే ఉత్తమమైన పని అని నేను భావిస్తున్నాను.\n",
      "score: 3.9854054\n",
      "Extra extra fatties whine about not being treated like real people. Wah people expect us to lose weight before they'll take us seriously. Whats up with modern culture and these obese wastes of space expecting the world to just accept that they're \"healthy and fat\" and all the other crap they run around spewing? Either Way this article about how \"doctors don't take fat people seriously' is as long as these fatties are wide, have fun reading it.\n",
      "score: 3.8007908\n",
      "అదనపు కొవ్వు పదార్ధాలు నిజమైన వ్యక్తుల వలె పరిగణించబడటం లేదని విలపిస్తాయి. వాహ్ ప్రజలు మనల్ని తీవ్రంగా పరిగణించే ముందు మనం బరువు తగ్గాలని ఆశిస్తారు. ఆధునిక సంస్కృతి మరియు స్థలం యొక్క ఈ ఊబకాయం వ్యర్థాలు తాము \"ఆరోగ్యంగా మరియు లావుగా\" ఉన్నామని మరియు వారు ఉమ్మివేసుకుంటూ తిరుగుతున్న ఇతర చెత్తను ప్రపంచం అంగీకరించాలని ఆశించడం ఏమిటి? ఎలాగైనా \"వైద్యులు లావుగా ఉన్నవారిని సీరియస్‌గా తీసుకోరు\" అనే దాని గురించిన ఈ కథనం, ఈ కొవ్వు పదార్థాలు విస్తృతంగా ఉన్నంత వరకు, దాన్ని చదవడం ఆనందించండి.\n",
      "score: 4.104666\n",
      "While i am sympathetic to the students of New Delh who are sick of breathing in the pollution,i don't see how they could possibly expect the government to \"do something\" in a manner and time frame that they seem to be looking for. just how fast do they think this problem can be fixed? it will be a huge undertaking and the students need to understand this.they should do weekly protest in the long term instead of wasting time and doing one \"long protest\".\n",
      "score: 3.811215\n",
      "కాలుష్యంతో ఊపిరి పీల్చుకోవడం వల్ల అనారోగ్యంతో బాధపడుతున్న న్యూ ఢిల్లీ విద్యార్థుల పట్ల నేను సానుభూతితో ఉన్నాను, వారు వెతుకుతున్నట్లు కనిపించే పద్ధతిలో మరియు సమయ వ్యవధిలో ప్రభుత్వం \"ఏదైనా చేయాలని\" వారు ఎలా ఆశించవచ్చో నాకు కనిపించడం లేదు. ఈ సమస్య ఎంత వేగంగా పరిష్కరించబడుతుందని వారు అనుకుంటున్నారు? ఇది చాలా పెద్ద పని అవుతుంది మరియు విద్యార్థులు దీనిని అర్థం చేసుకోవాలి. వారు సమయాన్ని వృధా చేసి ఒక \"దీర్ఘ నిరసన\" చేసే బదులు దీర్ఘకాలంలో వారానికోసారి నిరసనలు చేయాలి.\n",
      "score: 3.949412\n"
     ]
    }
   ],
   "source": [
    "data_tel = pd.read_csv('t_data/test_data_tel.tsv', sep='\\t')\n",
    "sen_tel = data_tel['essay'].tolist()\n",
    "pred_emp_tel, pred_dis_tel = predict_score(sen_tel)\n",
    "get_scores(data_tel,pred_emp_org, acu_emp, pred_dis_org, acu_dis,pred_emp_tel, pred_dis_tel)"
   ]
  }
 ],
 "metadata": {
  "colab": {
   "provenance": []
  },
  "kernelspec": {
   "display_name": "Python 3 (ipykernel)",
   "language": "python",
   "name": "python3"
  },
  "language_info": {
   "codemirror_mode": {
    "name": "ipython",
    "version": 3
   },
   "file_extension": ".py",
   "mimetype": "text/x-python",
   "name": "python",
   "nbconvert_exporter": "python",
   "pygments_lexer": "ipython3",
   "version": "3.9.9"
  }
 },
 "nbformat": 4,
 "nbformat_minor": 4
}
